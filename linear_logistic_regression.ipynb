{
  "cells": [
    {
      "cell_type": "code",
      "execution_count": 55,
      "metadata": {
        "id": "_hLhGaBH5YSJ"
      },
      "outputs": [],
      "source": [
        "import pandas as pd\n",
        "import numpy as np\n",
        "import matplotlib.pyplot as plt\n",
        "import seaborn as sns\n"
      ]
    },
    {
      "cell_type": "code",
      "execution_count": 73,
      "metadata": {
        "colab": {
          "base_uri": "https://localhost:8080/",
          "height": 363
        },
        "id": "FslvoUt_7TOX",
        "outputId": "087f799d-2c21-4a01-d063-9f0d604ad8cd"
      },
      "outputs": [
        {
          "output_type": "execute_result",
          "data": {
            "text/plain": [
              "     Product CustomerGender     Location    Region  TotalPrice   StartDate  \\\n",
              "0  Product B           Male   Location 2  Region 2       16600    7/4/2014   \n",
              "1  Product B           Male   Location 3  Region 3       16600    1/2/2015   \n",
              "2  Product C         Female   Location 5  Region 5       15600   12/8/2012   \n",
              "3  Product B           Male   Location 6  Region 1       16600   2/20/2015   \n",
              "4  Product D         Female   Location 7  Region 2       20250  10/28/2013   \n",
              "5  Product B         Female  Location 10  Region 2       16600   4/19/2015   \n",
              "6  Product A           Male  Location 11  Region 3       20250    7/4/2016   \n",
              "7  Product B           Male  Location 12  Region 6       16600   4/24/2014   \n",
              "8  Product A         Female   Location 3  Region 3       22250    9/3/2015   \n",
              "9  Product A         Female  Location 13  Region 6       20250   7/25/2016   \n",
              "\n",
              "   Deposit  DailyRate  TotalDays  AmountPaid30  AmountPaid60  AmountPaid360  \\\n",
              "0     2000         40        365          3121          4241          13621   \n",
              "1     2000         40        365          3061          4171          15041   \n",
              "2     1000         40        365          2160          3280          15340   \n",
              "3     2000         40        365          3041          4241          15321   \n",
              "4     2000         50        365          3470          4820          13720   \n",
              "5     2000         40        365          3201          4141          14141   \n",
              "6     2000         50        365          1851          3251          17701   \n",
              "7     2000         40        365          3971          4131          15351   \n",
              "8     4000         50        365          5750          7450          20250   \n",
              "9     2000         50        365          1951          3251          17351   \n",
              "\n",
              "  LoanStatus360  \n",
              "0        Active  \n",
              "1        Active  \n",
              "2        Active  \n",
              "3        Active  \n",
              "4        Active  \n",
              "5        Active  \n",
              "6        Active  \n",
              "7        Active  \n",
              "8        Active  \n",
              "9        Active  "
            ],
            "text/html": [
              "\n",
              "  <div id=\"df-2022b8a4-123c-4598-8895-6c007eb90fbe\">\n",
              "    <div class=\"colab-df-container\">\n",
              "      <div>\n",
              "<style scoped>\n",
              "    .dataframe tbody tr th:only-of-type {\n",
              "        vertical-align: middle;\n",
              "    }\n",
              "\n",
              "    .dataframe tbody tr th {\n",
              "        vertical-align: top;\n",
              "    }\n",
              "\n",
              "    .dataframe thead th {\n",
              "        text-align: right;\n",
              "    }\n",
              "</style>\n",
              "<table border=\"1\" class=\"dataframe\">\n",
              "  <thead>\n",
              "    <tr style=\"text-align: right;\">\n",
              "      <th></th>\n",
              "      <th>Product</th>\n",
              "      <th>CustomerGender</th>\n",
              "      <th>Location</th>\n",
              "      <th>Region</th>\n",
              "      <th>TotalPrice</th>\n",
              "      <th>StartDate</th>\n",
              "      <th>Deposit</th>\n",
              "      <th>DailyRate</th>\n",
              "      <th>TotalDays</th>\n",
              "      <th>AmountPaid30</th>\n",
              "      <th>AmountPaid60</th>\n",
              "      <th>AmountPaid360</th>\n",
              "      <th>LoanStatus360</th>\n",
              "    </tr>\n",
              "  </thead>\n",
              "  <tbody>\n",
              "    <tr>\n",
              "      <th>0</th>\n",
              "      <td>Product B</td>\n",
              "      <td>Male</td>\n",
              "      <td>Location 2</td>\n",
              "      <td>Region 2</td>\n",
              "      <td>16600</td>\n",
              "      <td>7/4/2014</td>\n",
              "      <td>2000</td>\n",
              "      <td>40</td>\n",
              "      <td>365</td>\n",
              "      <td>3121</td>\n",
              "      <td>4241</td>\n",
              "      <td>13621</td>\n",
              "      <td>Active</td>\n",
              "    </tr>\n",
              "    <tr>\n",
              "      <th>1</th>\n",
              "      <td>Product B</td>\n",
              "      <td>Male</td>\n",
              "      <td>Location 3</td>\n",
              "      <td>Region 3</td>\n",
              "      <td>16600</td>\n",
              "      <td>1/2/2015</td>\n",
              "      <td>2000</td>\n",
              "      <td>40</td>\n",
              "      <td>365</td>\n",
              "      <td>3061</td>\n",
              "      <td>4171</td>\n",
              "      <td>15041</td>\n",
              "      <td>Active</td>\n",
              "    </tr>\n",
              "    <tr>\n",
              "      <th>2</th>\n",
              "      <td>Product C</td>\n",
              "      <td>Female</td>\n",
              "      <td>Location 5</td>\n",
              "      <td>Region 5</td>\n",
              "      <td>15600</td>\n",
              "      <td>12/8/2012</td>\n",
              "      <td>1000</td>\n",
              "      <td>40</td>\n",
              "      <td>365</td>\n",
              "      <td>2160</td>\n",
              "      <td>3280</td>\n",
              "      <td>15340</td>\n",
              "      <td>Active</td>\n",
              "    </tr>\n",
              "    <tr>\n",
              "      <th>3</th>\n",
              "      <td>Product B</td>\n",
              "      <td>Male</td>\n",
              "      <td>Location 6</td>\n",
              "      <td>Region 1</td>\n",
              "      <td>16600</td>\n",
              "      <td>2/20/2015</td>\n",
              "      <td>2000</td>\n",
              "      <td>40</td>\n",
              "      <td>365</td>\n",
              "      <td>3041</td>\n",
              "      <td>4241</td>\n",
              "      <td>15321</td>\n",
              "      <td>Active</td>\n",
              "    </tr>\n",
              "    <tr>\n",
              "      <th>4</th>\n",
              "      <td>Product D</td>\n",
              "      <td>Female</td>\n",
              "      <td>Location 7</td>\n",
              "      <td>Region 2</td>\n",
              "      <td>20250</td>\n",
              "      <td>10/28/2013</td>\n",
              "      <td>2000</td>\n",
              "      <td>50</td>\n",
              "      <td>365</td>\n",
              "      <td>3470</td>\n",
              "      <td>4820</td>\n",
              "      <td>13720</td>\n",
              "      <td>Active</td>\n",
              "    </tr>\n",
              "    <tr>\n",
              "      <th>5</th>\n",
              "      <td>Product B</td>\n",
              "      <td>Female</td>\n",
              "      <td>Location 10</td>\n",
              "      <td>Region 2</td>\n",
              "      <td>16600</td>\n",
              "      <td>4/19/2015</td>\n",
              "      <td>2000</td>\n",
              "      <td>40</td>\n",
              "      <td>365</td>\n",
              "      <td>3201</td>\n",
              "      <td>4141</td>\n",
              "      <td>14141</td>\n",
              "      <td>Active</td>\n",
              "    </tr>\n",
              "    <tr>\n",
              "      <th>6</th>\n",
              "      <td>Product A</td>\n",
              "      <td>Male</td>\n",
              "      <td>Location 11</td>\n",
              "      <td>Region 3</td>\n",
              "      <td>20250</td>\n",
              "      <td>7/4/2016</td>\n",
              "      <td>2000</td>\n",
              "      <td>50</td>\n",
              "      <td>365</td>\n",
              "      <td>1851</td>\n",
              "      <td>3251</td>\n",
              "      <td>17701</td>\n",
              "      <td>Active</td>\n",
              "    </tr>\n",
              "    <tr>\n",
              "      <th>7</th>\n",
              "      <td>Product B</td>\n",
              "      <td>Male</td>\n",
              "      <td>Location 12</td>\n",
              "      <td>Region 6</td>\n",
              "      <td>16600</td>\n",
              "      <td>4/24/2014</td>\n",
              "      <td>2000</td>\n",
              "      <td>40</td>\n",
              "      <td>365</td>\n",
              "      <td>3971</td>\n",
              "      <td>4131</td>\n",
              "      <td>15351</td>\n",
              "      <td>Active</td>\n",
              "    </tr>\n",
              "    <tr>\n",
              "      <th>8</th>\n",
              "      <td>Product A</td>\n",
              "      <td>Female</td>\n",
              "      <td>Location 3</td>\n",
              "      <td>Region 3</td>\n",
              "      <td>22250</td>\n",
              "      <td>9/3/2015</td>\n",
              "      <td>4000</td>\n",
              "      <td>50</td>\n",
              "      <td>365</td>\n",
              "      <td>5750</td>\n",
              "      <td>7450</td>\n",
              "      <td>20250</td>\n",
              "      <td>Active</td>\n",
              "    </tr>\n",
              "    <tr>\n",
              "      <th>9</th>\n",
              "      <td>Product A</td>\n",
              "      <td>Female</td>\n",
              "      <td>Location 13</td>\n",
              "      <td>Region 6</td>\n",
              "      <td>20250</td>\n",
              "      <td>7/25/2016</td>\n",
              "      <td>2000</td>\n",
              "      <td>50</td>\n",
              "      <td>365</td>\n",
              "      <td>1951</td>\n",
              "      <td>3251</td>\n",
              "      <td>17351</td>\n",
              "      <td>Active</td>\n",
              "    </tr>\n",
              "  </tbody>\n",
              "</table>\n",
              "</div>\n",
              "      <button class=\"colab-df-convert\" onclick=\"convertToInteractive('df-2022b8a4-123c-4598-8895-6c007eb90fbe')\"\n",
              "              title=\"Convert this dataframe to an interactive table.\"\n",
              "              style=\"display:none;\">\n",
              "        \n",
              "  <svg xmlns=\"http://www.w3.org/2000/svg\" height=\"24px\"viewBox=\"0 0 24 24\"\n",
              "       width=\"24px\">\n",
              "    <path d=\"M0 0h24v24H0V0z\" fill=\"none\"/>\n",
              "    <path d=\"M18.56 5.44l.94 2.06.94-2.06 2.06-.94-2.06-.94-.94-2.06-.94 2.06-2.06.94zm-11 1L8.5 8.5l.94-2.06 2.06-.94-2.06-.94L8.5 2.5l-.94 2.06-2.06.94zm10 10l.94 2.06.94-2.06 2.06-.94-2.06-.94-.94-2.06-.94 2.06-2.06.94z\"/><path d=\"M17.41 7.96l-1.37-1.37c-.4-.4-.92-.59-1.43-.59-.52 0-1.04.2-1.43.59L10.3 9.45l-7.72 7.72c-.78.78-.78 2.05 0 2.83L4 21.41c.39.39.9.59 1.41.59.51 0 1.02-.2 1.41-.59l7.78-7.78 2.81-2.81c.8-.78.8-2.07 0-2.86zM5.41 20L4 18.59l7.72-7.72 1.47 1.35L5.41 20z\"/>\n",
              "  </svg>\n",
              "      </button>\n",
              "      \n",
              "  <style>\n",
              "    .colab-df-container {\n",
              "      display:flex;\n",
              "      flex-wrap:wrap;\n",
              "      gap: 12px;\n",
              "    }\n",
              "\n",
              "    .colab-df-convert {\n",
              "      background-color: #E8F0FE;\n",
              "      border: none;\n",
              "      border-radius: 50%;\n",
              "      cursor: pointer;\n",
              "      display: none;\n",
              "      fill: #1967D2;\n",
              "      height: 32px;\n",
              "      padding: 0 0 0 0;\n",
              "      width: 32px;\n",
              "    }\n",
              "\n",
              "    .colab-df-convert:hover {\n",
              "      background-color: #E2EBFA;\n",
              "      box-shadow: 0px 1px 2px rgba(60, 64, 67, 0.3), 0px 1px 3px 1px rgba(60, 64, 67, 0.15);\n",
              "      fill: #174EA6;\n",
              "    }\n",
              "\n",
              "    [theme=dark] .colab-df-convert {\n",
              "      background-color: #3B4455;\n",
              "      fill: #D2E3FC;\n",
              "    }\n",
              "\n",
              "    [theme=dark] .colab-df-convert:hover {\n",
              "      background-color: #434B5C;\n",
              "      box-shadow: 0px 1px 3px 1px rgba(0, 0, 0, 0.15);\n",
              "      filter: drop-shadow(0px 1px 2px rgba(0, 0, 0, 0.3));\n",
              "      fill: #FFFFFF;\n",
              "    }\n",
              "  </style>\n",
              "\n",
              "      <script>\n",
              "        const buttonEl =\n",
              "          document.querySelector('#df-2022b8a4-123c-4598-8895-6c007eb90fbe button.colab-df-convert');\n",
              "        buttonEl.style.display =\n",
              "          google.colab.kernel.accessAllowed ? 'block' : 'none';\n",
              "\n",
              "        async function convertToInteractive(key) {\n",
              "          const element = document.querySelector('#df-2022b8a4-123c-4598-8895-6c007eb90fbe');\n",
              "          const dataTable =\n",
              "            await google.colab.kernel.invokeFunction('convertToInteractive',\n",
              "                                                     [key], {});\n",
              "          if (!dataTable) return;\n",
              "\n",
              "          const docLinkHtml = 'Like what you see? Visit the ' +\n",
              "            '<a target=\"_blank\" href=https://colab.research.google.com/notebooks/data_table.ipynb>data table notebook</a>'\n",
              "            + ' to learn more about interactive tables.';\n",
              "          element.innerHTML = '';\n",
              "          dataTable['output_type'] = 'display_data';\n",
              "          await google.colab.output.renderOutput(dataTable, element);\n",
              "          const docLink = document.createElement('div');\n",
              "          docLink.innerHTML = docLinkHtml;\n",
              "          element.appendChild(docLink);\n",
              "        }\n",
              "      </script>\n",
              "    </div>\n",
              "  </div>\n",
              "  "
            ]
          },
          "metadata": {},
          "execution_count": 73
        }
      ],
      "source": [
        "kp = pd.read_csv('/content/KOPA.csv')\n",
        "kp.head(10)"
      ]
    },
    {
      "cell_type": "code",
      "execution_count": 57,
      "metadata": {
        "colab": {
          "base_uri": "https://localhost:8080/"
        },
        "id": "s-E7x5eG7iMJ",
        "outputId": "815be0d3-3b27-4e71-fbfe-055cc04c604a"
      },
      "outputs": [
        {
          "output_type": "execute_result",
          "data": {
            "text/plain": [
              "Product           0\n",
              "CustomerGender    0\n",
              "Location          0\n",
              "Region            0\n",
              "TotalPrice        0\n",
              "StartDate         0\n",
              "Deposit           0\n",
              "DailyRate         0\n",
              "TotalDays         0\n",
              "AmountPaid30      0\n",
              "AmountPaid60      0\n",
              "AmountPaid360     0\n",
              "LoanStatus360     0\n",
              "dtype: int64"
            ]
          },
          "metadata": {},
          "execution_count": 57
        }
      ],
      "source": [
        "kp.isnull().sum()"
      ]
    },
    {
      "cell_type": "code",
      "execution_count": 58,
      "metadata": {
        "colab": {
          "base_uri": "https://localhost:8080/"
        },
        "id": "bAnBTkOb7xlL",
        "outputId": "b11e7023-8fa5-47ea-f764-44caa51662ef"
      },
      "outputs": [
        {
          "output_type": "execute_result",
          "data": {
            "text/plain": [
              "0"
            ]
          },
          "metadata": {},
          "execution_count": 58
        }
      ],
      "source": [
        "kp.duplicated().sum()"
      ]
    },
    {
      "cell_type": "code",
      "source": [
        "kp.LoanStatus360.replace(['active'], [1], inplace =True)"
      ],
      "metadata": {
        "id": "mQC4yU2xgcV2"
      },
      "execution_count": 74,
      "outputs": []
    },
    {
      "cell_type": "code",
      "execution_count": 59,
      "metadata": {
        "id": "vaK5kk8k8ZVk"
      },
      "outputs": [],
      "source": [
        "# data exploration"
      ]
    },
    {
      "cell_type": "code",
      "execution_count": 59,
      "metadata": {
        "id": "Ok-GrZtc8dvE"
      },
      "outputs": [],
      "source": [
        ""
      ]
    },
    {
      "cell_type": "code",
      "execution_count": 60,
      "metadata": {
        "id": "0KmoAVRz8eTu"
      },
      "outputs": [],
      "source": [
        "kp_regression = kp.copy()\n",
        "kp_classification = kp.copy()"
      ]
    },
    {
      "cell_type": "code",
      "execution_count": 61,
      "metadata": {
        "colab": {
          "base_uri": "https://localhost:8080/"
        },
        "id": "eSvbgEkVCAEi",
        "outputId": "ccb5f1bc-27f3-4a4c-d23e-bbf02fe466ad"
      },
      "outputs": [
        {
          "output_type": "execute_result",
          "data": {
            "text/plain": [
              "[]"
            ]
          },
          "metadata": {},
          "execution_count": 61
        }
      ],
      "source": [
        "cat_columns= [ column for column in kp_regression.columns if kp_regression[column].dtype == 'o']\n",
        "cat_columns"
      ]
    },
    {
      "cell_type": "code",
      "execution_count": 62,
      "metadata": {
        "id": "g2HbOV__DB63"
      },
      "outputs": [],
      "source": [
        "from sklearn.preprocessing import LabelEncoder"
      ]
    },
    {
      "cell_type": "code",
      "execution_count": 63,
      "metadata": {
        "id": "hdvmzPmClDKk"
      },
      "outputs": [],
      "source": [
        "encoder = LabelEncoder()\n",
        "for column in cat_columns:\n",
        "  kp_regression[column] = encoder.fit_transform(kp_regression[column])"
      ]
    },
    {
      "cell_type": "code",
      "execution_count": 64,
      "metadata": {
        "colab": {
          "base_uri": "https://localhost:8080/",
          "height": 112
        },
        "id": "7h9MD9ddmiHg",
        "outputId": "8cf514d6-7907-4e26-a52d-d9d538395c0e"
      },
      "outputs": [
        {
          "output_type": "execute_result",
          "data": {
            "text/plain": [
              "     Product CustomerGender    Location    Region  TotalPrice StartDate  \\\n",
              "0  Product B           Male  Location 2  Region 2       16600  7/4/2014   \n",
              "1  Product B           Male  Location 3  Region 3       16600  1/2/2015   \n",
              "\n",
              "   Deposit  DailyRate  TotalDays  AmountPaid30  AmountPaid60  AmountPaid360  \\\n",
              "0     2000         40        365          3121          4241          13621   \n",
              "1     2000         40        365          3061          4171          15041   \n",
              "\n",
              "  LoanStatus360  \n",
              "0        Active  \n",
              "1        Active  "
            ],
            "text/html": [
              "\n",
              "  <div id=\"df-f884fa12-885d-4bb2-ac7d-43d7381273ef\">\n",
              "    <div class=\"colab-df-container\">\n",
              "      <div>\n",
              "<style scoped>\n",
              "    .dataframe tbody tr th:only-of-type {\n",
              "        vertical-align: middle;\n",
              "    }\n",
              "\n",
              "    .dataframe tbody tr th {\n",
              "        vertical-align: top;\n",
              "    }\n",
              "\n",
              "    .dataframe thead th {\n",
              "        text-align: right;\n",
              "    }\n",
              "</style>\n",
              "<table border=\"1\" class=\"dataframe\">\n",
              "  <thead>\n",
              "    <tr style=\"text-align: right;\">\n",
              "      <th></th>\n",
              "      <th>Product</th>\n",
              "      <th>CustomerGender</th>\n",
              "      <th>Location</th>\n",
              "      <th>Region</th>\n",
              "      <th>TotalPrice</th>\n",
              "      <th>StartDate</th>\n",
              "      <th>Deposit</th>\n",
              "      <th>DailyRate</th>\n",
              "      <th>TotalDays</th>\n",
              "      <th>AmountPaid30</th>\n",
              "      <th>AmountPaid60</th>\n",
              "      <th>AmountPaid360</th>\n",
              "      <th>LoanStatus360</th>\n",
              "    </tr>\n",
              "  </thead>\n",
              "  <tbody>\n",
              "    <tr>\n",
              "      <th>0</th>\n",
              "      <td>Product B</td>\n",
              "      <td>Male</td>\n",
              "      <td>Location 2</td>\n",
              "      <td>Region 2</td>\n",
              "      <td>16600</td>\n",
              "      <td>7/4/2014</td>\n",
              "      <td>2000</td>\n",
              "      <td>40</td>\n",
              "      <td>365</td>\n",
              "      <td>3121</td>\n",
              "      <td>4241</td>\n",
              "      <td>13621</td>\n",
              "      <td>Active</td>\n",
              "    </tr>\n",
              "    <tr>\n",
              "      <th>1</th>\n",
              "      <td>Product B</td>\n",
              "      <td>Male</td>\n",
              "      <td>Location 3</td>\n",
              "      <td>Region 3</td>\n",
              "      <td>16600</td>\n",
              "      <td>1/2/2015</td>\n",
              "      <td>2000</td>\n",
              "      <td>40</td>\n",
              "      <td>365</td>\n",
              "      <td>3061</td>\n",
              "      <td>4171</td>\n",
              "      <td>15041</td>\n",
              "      <td>Active</td>\n",
              "    </tr>\n",
              "  </tbody>\n",
              "</table>\n",
              "</div>\n",
              "      <button class=\"colab-df-convert\" onclick=\"convertToInteractive('df-f884fa12-885d-4bb2-ac7d-43d7381273ef')\"\n",
              "              title=\"Convert this dataframe to an interactive table.\"\n",
              "              style=\"display:none;\">\n",
              "        \n",
              "  <svg xmlns=\"http://www.w3.org/2000/svg\" height=\"24px\"viewBox=\"0 0 24 24\"\n",
              "       width=\"24px\">\n",
              "    <path d=\"M0 0h24v24H0V0z\" fill=\"none\"/>\n",
              "    <path d=\"M18.56 5.44l.94 2.06.94-2.06 2.06-.94-2.06-.94-.94-2.06-.94 2.06-2.06.94zm-11 1L8.5 8.5l.94-2.06 2.06-.94-2.06-.94L8.5 2.5l-.94 2.06-2.06.94zm10 10l.94 2.06.94-2.06 2.06-.94-2.06-.94-.94-2.06-.94 2.06-2.06.94z\"/><path d=\"M17.41 7.96l-1.37-1.37c-.4-.4-.92-.59-1.43-.59-.52 0-1.04.2-1.43.59L10.3 9.45l-7.72 7.72c-.78.78-.78 2.05 0 2.83L4 21.41c.39.39.9.59 1.41.59.51 0 1.02-.2 1.41-.59l7.78-7.78 2.81-2.81c.8-.78.8-2.07 0-2.86zM5.41 20L4 18.59l7.72-7.72 1.47 1.35L5.41 20z\"/>\n",
              "  </svg>\n",
              "      </button>\n",
              "      \n",
              "  <style>\n",
              "    .colab-df-container {\n",
              "      display:flex;\n",
              "      flex-wrap:wrap;\n",
              "      gap: 12px;\n",
              "    }\n",
              "\n",
              "    .colab-df-convert {\n",
              "      background-color: #E8F0FE;\n",
              "      border: none;\n",
              "      border-radius: 50%;\n",
              "      cursor: pointer;\n",
              "      display: none;\n",
              "      fill: #1967D2;\n",
              "      height: 32px;\n",
              "      padding: 0 0 0 0;\n",
              "      width: 32px;\n",
              "    }\n",
              "\n",
              "    .colab-df-convert:hover {\n",
              "      background-color: #E2EBFA;\n",
              "      box-shadow: 0px 1px 2px rgba(60, 64, 67, 0.3), 0px 1px 3px 1px rgba(60, 64, 67, 0.15);\n",
              "      fill: #174EA6;\n",
              "    }\n",
              "\n",
              "    [theme=dark] .colab-df-convert {\n",
              "      background-color: #3B4455;\n",
              "      fill: #D2E3FC;\n",
              "    }\n",
              "\n",
              "    [theme=dark] .colab-df-convert:hover {\n",
              "      background-color: #434B5C;\n",
              "      box-shadow: 0px 1px 3px 1px rgba(0, 0, 0, 0.15);\n",
              "      filter: drop-shadow(0px 1px 2px rgba(0, 0, 0, 0.3));\n",
              "      fill: #FFFFFF;\n",
              "    }\n",
              "  </style>\n",
              "\n",
              "      <script>\n",
              "        const buttonEl =\n",
              "          document.querySelector('#df-f884fa12-885d-4bb2-ac7d-43d7381273ef button.colab-df-convert');\n",
              "        buttonEl.style.display =\n",
              "          google.colab.kernel.accessAllowed ? 'block' : 'none';\n",
              "\n",
              "        async function convertToInteractive(key) {\n",
              "          const element = document.querySelector('#df-f884fa12-885d-4bb2-ac7d-43d7381273ef');\n",
              "          const dataTable =\n",
              "            await google.colab.kernel.invokeFunction('convertToInteractive',\n",
              "                                                     [key], {});\n",
              "          if (!dataTable) return;\n",
              "\n",
              "          const docLinkHtml = 'Like what you see? Visit the ' +\n",
              "            '<a target=\"_blank\" href=https://colab.research.google.com/notebooks/data_table.ipynb>data table notebook</a>'\n",
              "            + ' to learn more about interactive tables.';\n",
              "          element.innerHTML = '';\n",
              "          dataTable['output_type'] = 'display_data';\n",
              "          await google.colab.output.renderOutput(dataTable, element);\n",
              "          const docLink = document.createElement('div');\n",
              "          docLink.innerHTML = docLinkHtml;\n",
              "          element.appendChild(docLink);\n",
              "        }\n",
              "      </script>\n",
              "    </div>\n",
              "  </div>\n",
              "  "
            ]
          },
          "metadata": {},
          "execution_count": 64
        }
      ],
      "source": [
        "kp_regression.head(2)"
      ]
    },
    {
      "cell_type": "code",
      "execution_count": 65,
      "metadata": {
        "colab": {
          "base_uri": "https://localhost:8080/",
          "height": 721
        },
        "id": "sRaLW_84nH_e",
        "outputId": "59f5e750-a020-4eb0-8c30-90e0b617df3c"
      },
      "outputs": [
        {
          "output_type": "execute_result",
          "data": {
            "text/plain": [
              "<matplotlib.axes._subplots.AxesSubplot at 0x7febb5c02090>"
            ]
          },
          "metadata": {},
          "execution_count": 65
        },
        {
          "output_type": "display_data",
          "data": {
            "text/plain": [
              "<Figure size 864x864 with 2 Axes>"
            ],
            "image/png": "[encoded data removed]"
          },
          "metadata": {
            "needs_background": "light"
          }
        }
      ],
      "source": [
        "corr_matrix = kp_regression.corr()\n",
        "plt.figure(figsize= (12,12))\n",
        "sns.heatmap(corr_matrix, annot = True, cmap = 'inferno')"
      ]
    },
    {
      "cell_type": "code",
      "execution_count": 66,
      "metadata": {
        "id": "DCnhJsM25Bsx"
      },
      "outputs": [],
      "source": [
        "kp_regression.drop(['Location','StartDate','TotalDays',\n",
        "                    'DailyRate','AmountPaid30'],\n",
        "                   axis=1,\n",
        "                   inplace=True)"
      ]
    },
    {
      "cell_type": "code",
      "execution_count": 67,
      "metadata": {
        "colab": {
          "base_uri": "https://localhost:8080/",
          "height": 206
        },
        "id": "Mm58CyQy58Vc",
        "outputId": "20680dd7-1b1b-4612-9794-f351c03034da"
      },
      "outputs": [
        {
          "output_type": "execute_result",
          "data": {
            "text/plain": [
              "     Product CustomerGender    Region  TotalPrice  Deposit  AmountPaid60  \\\n",
              "0  Product B           Male  Region 2       16600     2000          4241   \n",
              "1  Product B           Male  Region 3       16600     2000          4171   \n",
              "2  Product C         Female  Region 5       15600     1000          3280   \n",
              "3  Product B           Male  Region 1       16600     2000          4241   \n",
              "4  Product D         Female  Region 2       20250     2000          4820   \n",
              "\n",
              "   AmountPaid360 LoanStatus360  \n",
              "0          13621        Active  \n",
              "1          15041        Active  \n",
              "2          15340        Active  \n",
              "3          15321        Active  \n",
              "4          13720        Active  "
            ],
            "text/html": [
              "\n",
              "  <div id=\"df-b9b1e9e9-b2b3-4e8b-ba7e-94a029a8168d\">\n",
              "    <div class=\"colab-df-container\">\n",
              "      <div>\n",
              "<style scoped>\n",
              "    .dataframe tbody tr th:only-of-type {\n",
              "        vertical-align: middle;\n",
              "    }\n",
              "\n",
              "    .dataframe tbody tr th {\n",
              "        vertical-align: top;\n",
              "    }\n",
              "\n",
              "    .dataframe thead th {\n",
              "        text-align: right;\n",
              "    }\n",
              "</style>\n",
              "<table border=\"1\" class=\"dataframe\">\n",
              "  <thead>\n",
              "    <tr style=\"text-align: right;\">\n",
              "      <th></th>\n",
              "      <th>Product</th>\n",
              "      <th>CustomerGender</th>\n",
              "      <th>Region</th>\n",
              "      <th>TotalPrice</th>\n",
              "      <th>Deposit</th>\n",
              "      <th>AmountPaid60</th>\n",
              "      <th>AmountPaid360</th>\n",
              "      <th>LoanStatus360</th>\n",
              "    </tr>\n",
              "  </thead>\n",
              "  <tbody>\n",
              "    <tr>\n",
              "      <th>0</th>\n",
              "      <td>Product B</td>\n",
              "      <td>Male</td>\n",
              "      <td>Region 2</td>\n",
              "      <td>16600</td>\n",
              "      <td>2000</td>\n",
              "      <td>4241</td>\n",
              "      <td>13621</td>\n",
              "      <td>Active</td>\n",
              "    </tr>\n",
              "    <tr>\n",
              "      <th>1</th>\n",
              "      <td>Product B</td>\n",
              "      <td>Male</td>\n",
              "      <td>Region 3</td>\n",
              "      <td>16600</td>\n",
              "      <td>2000</td>\n",
              "      <td>4171</td>\n",
              "      <td>15041</td>\n",
              "      <td>Active</td>\n",
              "    </tr>\n",
              "    <tr>\n",
              "      <th>2</th>\n",
              "      <td>Product C</td>\n",
              "      <td>Female</td>\n",
              "      <td>Region 5</td>\n",
              "      <td>15600</td>\n",
              "      <td>1000</td>\n",
              "      <td>3280</td>\n",
              "      <td>15340</td>\n",
              "      <td>Active</td>\n",
              "    </tr>\n",
              "    <tr>\n",
              "      <th>3</th>\n",
              "      <td>Product B</td>\n",
              "      <td>Male</td>\n",
              "      <td>Region 1</td>\n",
              "      <td>16600</td>\n",
              "      <td>2000</td>\n",
              "      <td>4241</td>\n",
              "      <td>15321</td>\n",
              "      <td>Active</td>\n",
              "    </tr>\n",
              "    <tr>\n",
              "      <th>4</th>\n",
              "      <td>Product D</td>\n",
              "      <td>Female</td>\n",
              "      <td>Region 2</td>\n",
              "      <td>20250</td>\n",
              "      <td>2000</td>\n",
              "      <td>4820</td>\n",
              "      <td>13720</td>\n",
              "      <td>Active</td>\n",
              "    </tr>\n",
              "  </tbody>\n",
              "</table>\n",
              "</div>\n",
              "      <button class=\"colab-df-convert\" onclick=\"convertToInteractive('df-b9b1e9e9-b2b3-4e8b-ba7e-94a029a8168d')\"\n",
              "              title=\"Convert this dataframe to an interactive table.\"\n",
              "              style=\"display:none;\">\n",
              "        \n",
              "  <svg xmlns=\"http://www.w3.org/2000/svg\" height=\"24px\"viewBox=\"0 0 24 24\"\n",
              "       width=\"24px\">\n",
              "    <path d=\"M0 0h24v24H0V0z\" fill=\"none\"/>\n",
              "    <path d=\"M18.56 5.44l.94 2.06.94-2.06 2.06-.94-2.06-.94-.94-2.06-.94 2.06-2.06.94zm-11 1L8.5 8.5l.94-2.06 2.06-.94-2.06-.94L8.5 2.5l-.94 2.06-2.06.94zm10 10l.94 2.06.94-2.06 2.06-.94-2.06-.94-.94-2.06-.94 2.06-2.06.94z\"/><path d=\"M17.41 7.96l-1.37-1.37c-.4-.4-.92-.59-1.43-.59-.52 0-1.04.2-1.43.59L10.3 9.45l-7.72 7.72c-.78.78-.78 2.05 0 2.83L4 21.41c.39.39.9.59 1.41.59.51 0 1.02-.2 1.41-.59l7.78-7.78 2.81-2.81c.8-.78.8-2.07 0-2.86zM5.41 20L4 18.59l7.72-7.72 1.47 1.35L5.41 20z\"/>\n",
              "  </svg>\n",
              "      </button>\n",
              "      \n",
              "  <style>\n",
              "    .colab-df-container {\n",
              "      display:flex;\n",
              "      flex-wrap:wrap;\n",
              "      gap: 12px;\n",
              "    }\n",
              "\n",
              "    .colab-df-convert {\n",
              "      background-color: #E8F0FE;\n",
              "      border: none;\n",
              "      border-radius: 50%;\n",
              "      cursor: pointer;\n",
              "      display: none;\n",
              "      fill: #1967D2;\n",
              "      height: 32px;\n",
              "      padding: 0 0 0 0;\n",
              "      width: 32px;\n",
              "    }\n",
              "\n",
              "    .colab-df-convert:hover {\n",
              "      background-color: #E2EBFA;\n",
              "      box-shadow: 0px 1px 2px rgba(60, 64, 67, 0.3), 0px 1px 3px 1px rgba(60, 64, 67, 0.15);\n",
              "      fill: #174EA6;\n",
              "    }\n",
              "\n",
              "    [theme=dark] .colab-df-convert {\n",
              "      background-color: #3B4455;\n",
              "      fill: #D2E3FC;\n",
              "    }\n",
              "\n",
              "    [theme=dark] .colab-df-convert:hover {\n",
              "      background-color: #434B5C;\n",
              "      box-shadow: 0px 1px 3px 1px rgba(0, 0, 0, 0.15);\n",
              "      filter: drop-shadow(0px 1px 2px rgba(0, 0, 0, 0.3));\n",
              "      fill: #FFFFFF;\n",
              "    }\n",
              "  </style>\n",
              "\n",
              "      <script>\n",
              "        const buttonEl =\n",
              "          document.querySelector('#df-b9b1e9e9-b2b3-4e8b-ba7e-94a029a8168d button.colab-df-convert');\n",
              "        buttonEl.style.display =\n",
              "          google.colab.kernel.accessAllowed ? 'block' : 'none';\n",
              "\n",
              "        async function convertToInteractive(key) {\n",
              "          const element = document.querySelector('#df-b9b1e9e9-b2b3-4e8b-ba7e-94a029a8168d');\n",
              "          const dataTable =\n",
              "            await google.colab.kernel.invokeFunction('convertToInteractive',\n",
              "                                                     [key], {});\n",
              "          if (!dataTable) return;\n",
              "\n",
              "          const docLinkHtml = 'Like what you see? Visit the ' +\n",
              "            '<a target=\"_blank\" href=https://colab.research.google.com/notebooks/data_table.ipynb>data table notebook</a>'\n",
              "            + ' to learn more about interactive tables.';\n",
              "          element.innerHTML = '';\n",
              "          dataTable['output_type'] = 'display_data';\n",
              "          await google.colab.output.renderOutput(dataTable, element);\n",
              "          const docLink = document.createElement('div');\n",
              "          docLink.innerHTML = docLinkHtml;\n",
              "          element.appendChild(docLink);\n",
              "        }\n",
              "      </script>\n",
              "    </div>\n",
              "  </div>\n",
              "  "
            ]
          },
          "metadata": {},
          "execution_count": 67
        }
      ],
      "source": [
        "kp_regression.head()"
      ]
    },
    {
      "cell_type": "code",
      "execution_count": 68,
      "metadata": {
        "id": "8IOSSNYhNnDx"
      },
      "outputs": [],
      "source": [
        "x=kp_regression.drop('AmountPaid360',  axis=1)\n",
        "y=kp_regression['AmountPaid360']\n"
      ]
    },
    {
      "cell_type": "code",
      "execution_count": 69,
      "metadata": {
        "id": "EWof5ipgO80C"
      },
      "outputs": [],
      "source": [
        "from sklearn.model_selection import train_test_split"
      ]
    },
    {
      "cell_type": "code",
      "execution_count": 70,
      "metadata": {
        "id": "pdjcsxbDPM4g"
      },
      "outputs": [],
      "source": [
        "x_train, x_test, y_train, y_test = train_test_split(x, y, test_size=0.2, random_state=42)"
      ]
    },
    {
      "cell_type": "code",
      "execution_count": 71,
      "metadata": {
        "id": "LdFHWUQ7QPEe"
      },
      "outputs": [],
      "source": [
        "from sklearn.linear_model import LinearRegression\n",
        "from sklearn.tree import DecisionTreeRegressor\n",
        "from sklearn.metrics import mean_absolute_error, mean_squared_error"
      ]
    },
    {
      "cell_type": "code",
      "execution_count": 75,
      "metadata": {
        "colab": {
          "base_uri": "https://localhost:8080/",
          "height": 364
        },
        "id": "R9nYr3O5RFhV",
        "outputId": "6dfd7f36-a6d4-473e-960a-1d05446432ad"
      },
      "outputs": [
        {
          "output_type": "error",
          "ename": "NotFittedError",
          "evalue": "ignored",
          "traceback": [
            "\u001b[0;31m---------------------------------------------------------------------------\u001b[0m",
            "\u001b[0;31mNotFittedError\u001b[0m                            Traceback (most recent call last)",
            "\u001b[0;32m<ipython-input-75-4e5f10bacb4e>\u001b[0m in \u001b[0;36m<module>\u001b[0;34m()\u001b[0m\n\u001b[1;32m      1\u001b[0m \u001b[0mlinear\u001b[0m \u001b[0;34m=\u001b[0m \u001b[0mLinearRegression\u001b[0m\u001b[0;34m(\u001b[0m\u001b[0;34m)\u001b[0m\u001b[0;34m\u001b[0m\u001b[0;34m\u001b[0m\u001b[0m\n\u001b[1;32m      2\u001b[0m \u001b[0mlinear\u001b[0m\u001b[0;34m.\u001b[0m\u001b[0mfit\u001b[0m\u001b[0;34m=\u001b[0m\u001b[0;34m(\u001b[0m\u001b[0mx_train\u001b[0m\u001b[0;34m,\u001b[0m \u001b[0mx_test\u001b[0m\u001b[0;34m)\u001b[0m\u001b[0;34m\u001b[0m\u001b[0;34m\u001b[0m\u001b[0m\n\u001b[0;32m----> 3\u001b[0;31m \u001b[0mpredictions\u001b[0m \u001b[0;34m=\u001b[0m \u001b[0mlinear\u001b[0m\u001b[0;34m.\u001b[0m\u001b[0mpredict\u001b[0m\u001b[0;34m(\u001b[0m\u001b[0mx_test\u001b[0m\u001b[0;34m)\u001b[0m\u001b[0;34m\u001b[0m\u001b[0;34m\u001b[0m\u001b[0m\n\u001b[0m\u001b[1;32m      4\u001b[0m \u001b[0merror\u001b[0m \u001b[0;34m=\u001b[0m \u001b[0mmean_squared_error\u001b[0m\u001b[0;34m(\u001b[0m\u001b[0my_test\u001b[0m\u001b[0;34m,\u001b[0m \u001b[0mpredictions\u001b[0m\u001b[0;34m)\u001b[0m\u001b[0;34m\u001b[0m\u001b[0;34m\u001b[0m\u001b[0m\n",
            "\u001b[0;32m/usr/local/lib/python3.7/dist-packages/sklearn/linear_model/_base.py\u001b[0m in \u001b[0;36mpredict\u001b[0;34m(self, X)\u001b[0m\n\u001b[1;32m    360\u001b[0m             \u001b[0mReturns\u001b[0m \u001b[0mpredicted\u001b[0m \u001b[0mvalues\u001b[0m\u001b[0;34m.\u001b[0m\u001b[0;34m\u001b[0m\u001b[0;34m\u001b[0m\u001b[0m\n\u001b[1;32m    361\u001b[0m         \"\"\"\n\u001b[0;32m--> 362\u001b[0;31m         \u001b[0;32mreturn\u001b[0m \u001b[0mself\u001b[0m\u001b[0;34m.\u001b[0m\u001b[0m_decision_function\u001b[0m\u001b[0;34m(\u001b[0m\u001b[0mX\u001b[0m\u001b[0;34m)\u001b[0m\u001b[0;34m\u001b[0m\u001b[0;34m\u001b[0m\u001b[0m\n\u001b[0m\u001b[1;32m    363\u001b[0m \u001b[0;34m\u001b[0m\u001b[0m\n\u001b[1;32m    364\u001b[0m     \u001b[0m_preprocess_data\u001b[0m \u001b[0;34m=\u001b[0m \u001b[0mstaticmethod\u001b[0m\u001b[0;34m(\u001b[0m\u001b[0m_preprocess_data\u001b[0m\u001b[0;34m)\u001b[0m\u001b[0;34m\u001b[0m\u001b[0;34m\u001b[0m\u001b[0m\n",
            "\u001b[0;32m/usr/local/lib/python3.7/dist-packages/sklearn/linear_model/_base.py\u001b[0m in \u001b[0;36m_decision_function\u001b[0;34m(self, X)\u001b[0m\n\u001b[1;32m    341\u001b[0m \u001b[0;34m\u001b[0m\u001b[0m\n\u001b[1;32m    342\u001b[0m     \u001b[0;32mdef\u001b[0m \u001b[0m_decision_function\u001b[0m\u001b[0;34m(\u001b[0m\u001b[0mself\u001b[0m\u001b[0;34m,\u001b[0m \u001b[0mX\u001b[0m\u001b[0;34m)\u001b[0m\u001b[0;34m:\u001b[0m\u001b[0;34m\u001b[0m\u001b[0;34m\u001b[0m\u001b[0m\n\u001b[0;32m--> 343\u001b[0;31m         \u001b[0mcheck_is_fitted\u001b[0m\u001b[0;34m(\u001b[0m\u001b[0mself\u001b[0m\u001b[0;34m)\u001b[0m\u001b[0;34m\u001b[0m\u001b[0;34m\u001b[0m\u001b[0m\n\u001b[0m\u001b[1;32m    344\u001b[0m \u001b[0;34m\u001b[0m\u001b[0m\n\u001b[1;32m    345\u001b[0m         \u001b[0mX\u001b[0m \u001b[0;34m=\u001b[0m \u001b[0mself\u001b[0m\u001b[0;34m.\u001b[0m\u001b[0m_validate_data\u001b[0m\u001b[0;34m(\u001b[0m\u001b[0mX\u001b[0m\u001b[0;34m,\u001b[0m \u001b[0maccept_sparse\u001b[0m\u001b[0;34m=\u001b[0m\u001b[0;34m[\u001b[0m\u001b[0;34m\"csr\"\u001b[0m\u001b[0;34m,\u001b[0m \u001b[0;34m\"csc\"\u001b[0m\u001b[0;34m,\u001b[0m \u001b[0;34m\"coo\"\u001b[0m\u001b[0;34m]\u001b[0m\u001b[0;34m,\u001b[0m \u001b[0mreset\u001b[0m\u001b[0;34m=\u001b[0m\u001b[0;32mFalse\u001b[0m\u001b[0;34m)\u001b[0m\u001b[0;34m\u001b[0m\u001b[0;34m\u001b[0m\u001b[0m\n",
            "\u001b[0;32m/usr/local/lib/python3.7/dist-packages/sklearn/utils/validation.py\u001b[0m in \u001b[0;36mcheck_is_fitted\u001b[0;34m(estimator, attributes, msg, all_or_any)\u001b[0m\n\u001b[1;32m   1220\u001b[0m \u001b[0;34m\u001b[0m\u001b[0m\n\u001b[1;32m   1221\u001b[0m     \u001b[0;32mif\u001b[0m \u001b[0;32mnot\u001b[0m \u001b[0mfitted\u001b[0m\u001b[0;34m:\u001b[0m\u001b[0;34m\u001b[0m\u001b[0;34m\u001b[0m\u001b[0m\n\u001b[0;32m-> 1222\u001b[0;31m         \u001b[0;32mraise\u001b[0m \u001b[0mNotFittedError\u001b[0m\u001b[0;34m(\u001b[0m\u001b[0mmsg\u001b[0m \u001b[0;34m%\u001b[0m \u001b[0;34m{\u001b[0m\u001b[0;34m\"name\"\u001b[0m\u001b[0;34m:\u001b[0m \u001b[0mtype\u001b[0m\u001b[0;34m(\u001b[0m\u001b[0mestimator\u001b[0m\u001b[0;34m)\u001b[0m\u001b[0;34m.\u001b[0m\u001b[0m__name__\u001b[0m\u001b[0;34m}\u001b[0m\u001b[0;34m)\u001b[0m\u001b[0;34m\u001b[0m\u001b[0;34m\u001b[0m\u001b[0m\n\u001b[0m\u001b[1;32m   1223\u001b[0m \u001b[0;34m\u001b[0m\u001b[0m\n\u001b[1;32m   1224\u001b[0m \u001b[0;34m\u001b[0m\u001b[0m\n",
            "\u001b[0;31mNotFittedError\u001b[0m: This LinearRegression instance is not fitted yet. Call 'fit' with appropriate arguments before using this estimator."
          ]
        }
      ],
      "source": [
        "linear = LinearRegression()\n",
        "linear.fit=(x_train, x_test)\n",
        "predictions = linear.predict(x_test)\n",
        "error = mean_squared_error(y_test, predictions)"
      ]
    }
  ],
  "metadata": {
    "colab": {
      "collapsed_sections": [],
      "name": "linear_logistic_regression.ipynb",
      "provenance": []
    },
    "kernelspec": {
      "display_name": "Python 3",
      "name": "python3"
    },
    "language_info": {
      "name": "python"
    }
  },
  "nbformat": 4,
  "nbformat_minor": 0
}