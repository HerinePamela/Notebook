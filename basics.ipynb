{
  "cells": [
    {
      "cell_type": "code",
      "execution_count": null,
      "metadata": {
        "colab": {
          "base_uri": "https://localhost:8080/"
        },
        "id": "IVamqiNOr_0t",
        "outputId": "09b9b731-8109-49d9-d710-41aa17cdb46f"
      },
      "outputs": [
        {
          "output_type": "stream",
          "name": "stdout",
          "text": [
            "hello world!\n"
          ]
        }
      ],
      "source": [
        "print(\"hello world!\")"
      ]
    },
    {
      "cell_type": "code",
      "source": [
        "height = 6\n",
        "length = 3\n",
        "width = 2\n",
        "volume = height * length * width\n",
        "print(volume)"
      ],
      "metadata": {
        "colab": {
          "base_uri": "https://localhost:8080/"
        },
        "id": "k5xdHgFm1Ur6",
        "outputId": "9b086e5d-6e28-4d12-d806-ae9979516461"
      },
      "execution_count": null,
      "outputs": [
        {
          "output_type": "stream",
          "name": "stdout",
          "text": [
            "36\n"
          ]
        }
      ]
    },
    {
      "cell_type": "code",
      "source": [
        "rent = 1700\n",
        "print(rent)\n",
        "rent =2000\n",
        "rent = rent + 700\n",
        "print(rent)"
      ],
      "metadata": {
        "colab": {
          "base_uri": "https://localhost:8080/"
        },
        "id": "1JGXswVd3ZcC",
        "outputId": "c1e4a15c-e9e6-4d38-dadc-a988e11cb09f"
      },
      "execution_count": null,
      "outputs": [
        {
          "output_type": "stream",
          "name": "stdout",
          "text": [
            "1700\n",
            "2700\n"
          ]
        }
      ]
    },
    {
      "cell_type": "code",
      "source": [
        ""
      ],
      "metadata": {
        "id": "QBhqUfSl6hll"
      },
      "execution_count": null,
      "outputs": []
    },
    {
      "cell_type": "code",
      "source": [
        "print('hello' + 'world')\n",
        "print(\"hello\" + \"\" + \"world\")"
      ],
      "metadata": {
        "colab": {
          "base_uri": "https://localhost:8080/"
        },
        "id": "Q5d68mP6AVkF",
        "outputId": "d86cb9d3-dae4-40c4-f75d-28d91640134b"
      },
      "execution_count": null,
      "outputs": [
        {
          "output_type": "stream",
          "name": "stdout",
          "text": [
            "helloworld\n",
            "helloworld\n"
          ]
        }
      ]
    },
    {
      "cell_type": "code",
      "source": [
        "word = \"hello\"\n",
        "print(word *5)"
      ],
      "metadata": {
        "colab": {
          "base_uri": "https://localhost:8080/"
        },
        "id": "TQgG8lOMAz3c",
        "outputId": "4a0e8538-8bdc-4b58-ad6f-fec240dfb9d6"
      },
      "execution_count": null,
      "outputs": [
        {
          "output_type": "stream",
          "name": "stdout",
          "text": [
            "hellohellohellohellohello\n"
          ]
        }
      ]
    },
    {
      "cell_type": "code",
      "source": [
        "word_length= len('shape AI')\n",
        "print(word_length)"
      ],
      "metadata": {
        "colab": {
          "base_uri": "https://localhost:8080/"
        },
        "id": "JgbsJrt6A8R_",
        "outputId": "c82152a8-9a2e-4aa7-8143-2e8078af7ea6"
      },
      "execution_count": null,
      "outputs": [
        {
          "output_type": "stream",
          "name": "stdout",
          "text": [
            "8\n"
          ]
        }
      ]
    },
    {
      "cell_type": "code",
      "source": [
        "decimal = float (3)\n",
        "print(decimal)"
      ],
      "metadata": {
        "colab": {
          "base_uri": "https://localhost:8080/"
        },
        "id": "IofnKYeFBhQs",
        "outputId": "1d901313-4b55-409a-c356-0f7a4fbda3f0"
      },
      "execution_count": null,
      "outputs": [
        {
          "output_type": "stream",
          "name": "stdout",
          "text": [
            "3.0\n"
          ]
        }
      ]
    },
    {
      "cell_type": "code",
      "source": [
        "marks = 15\n",
        "subject = 'coding'\n",
        "semester = 'first'\n",
        "print(subject + str(marks))\n",
        "result = \"i was able to score\" + str(marks)  + \"in\" + \"my\" + (semester) + \"semester\"\n",
        "print(result)"
      ],
      "metadata": {
        "colab": {
          "base_uri": "https://localhost:8080/"
        },
        "id": "3WgR8EiiBtR9",
        "outputId": "698dcd63-6b4f-40b3-d464-037abc1d85ab"
      },
      "execution_count": null,
      "outputs": [
        {
          "output_type": "stream",
          "name": "stdout",
          "text": [
            "coding15\n",
            "i was able to score15inmyfirstsemester\n"
          ]
        }
      ]
    },
    {
      "cell_type": "code",
      "source": [
        "print(\"EG:1\")\n",
        "print(\"mohammed has{} baloons\".format(27))\n",
        "\n",
        "print(\"ERG:2\")\n",
        "animal = \"dog\"\n",
        "action = \"bite\"\n",
        "print(\"does your {} {}\".format(animal,action))\n",
        "print(\"EG:3\")\n",
        "maria_string = \"maria loves {} and {}\"\n",
        "print(maria_string.format(\"maths\", \"statistics\"))"
      ],
      "metadata": {
        "colab": {
          "base_uri": "https://localhost:8080/"
        },
        "id": "Ymn91J-HCHPU",
        "outputId": "2ace9915-a1dc-41b1-b43e-d3d0075feaef"
      },
      "execution_count": null,
      "outputs": [
        {
          "output_type": "stream",
          "name": "stdout",
          "text": [
            "EG:1\n",
            "mohammed has27 baloons\n",
            "ERG:2\n",
            "does your dog bite\n",
            "EG:3\n",
            "maria loves maths and statistics\n"
          ]
        }
      ]
    },
    {
      "cell_type": "code",
      "source": [
        "students = ['pam',  'sam', 'austin',  'banner', 'rocky', 'steve' ]\n",
        "print(students)"
      ],
      "metadata": {
        "colab": {
          "base_uri": "https://localhost:8080/"
        },
        "id": "89PZLN6jD43I",
        "outputId": "7969eb8c-9095-4571-ba09-d85a8c66d43c"
      },
      "execution_count": null,
      "outputs": [
        {
          "output_type": "stream",
          "name": "stdout",
          "text": [
            "['pam', 'sam', 'austin', 'banner', 'rocky', 'steve']\n"
          ]
        }
      ]
    },
    {
      "cell_type": "code",
      "source": [
        "print(students[0])\n",
        "print(students[1])\n",
        "print(students[2])\n"
      ],
      "metadata": {
        "colab": {
          "base_uri": "https://localhost:8080/"
        },
        "id": "TurIn9eIFmTZ",
        "outputId": "8d96076e-84ac-4e6a-8c5e-1a3e77fea26c"
      },
      "execution_count": null,
      "outputs": [
        {
          "output_type": "stream",
          "name": "stdout",
          "text": [
            "pam\n",
            "sam\n",
            "austin\n"
          ]
        }
      ]
    },
    {
      "cell_type": "code",
      "source": [
        "print(students[-1])\n",
        "print(students[-2])\n",
        "print(students[-3])"
      ],
      "metadata": {
        "colab": {
          "base_uri": "https://localhost:8080/"
        },
        "id": "AKqtgBXMGQnH",
        "outputId": "c6730539-591d-4072-99bc-085035b212f5"
      },
      "execution_count": null,
      "outputs": [
        {
          "output_type": "stream",
          "name": "stdout",
          "text": [
            "steve\n",
            "rocky\n",
            "banner\n"
          ]
        }
      ]
    },
    {
      "cell_type": "code",
      "source": [
        "students = ['pam',  'sam', 'austin',  'banner', 'rocky', 'steve','clark', 'diana','tony' ]\n",
        "student = \"berry\"\n",
        "marvel = students[4:7]\n",
        "flash = student[:3]\n",
        "print(marvel)\n",
        "print(flash)\n"
      ],
      "metadata": {
        "colab": {
          "base_uri": "https://localhost:8080/"
        },
        "id": "4F3ATXNbG4Ny",
        "outputId": "64d0829b-7ceb-4826-c3f6-3045cb0e3290"
      },
      "execution_count": null,
      "outputs": [
        {
          "output_type": "stream",
          "name": "stdout",
          "text": [
            "['rocky', 'steve', 'clark']\n",
            "ber\n"
          ]
        }
      ]
    },
    {
      "cell_type": "code",
      "source": [
        "print(len(students))\n",
        "print(len(student))"
      ],
      "metadata": {
        "colab": {
          "base_uri": "https://localhost:8080/"
        },
        "id": "Hj7iiOi4J40Z",
        "outputId": "7455ea8c-3c13-4dfc-87b7-eb0f678b4739"
      },
      "execution_count": null,
      "outputs": [
        {
          "output_type": "stream",
          "name": "stdout",
          "text": [
            "9\n",
            "5\n"
          ]
        }
      ]
    },
    {
      "cell_type": "code",
      "source": [
        "sep_str = \"\\n\".join([\"jack\", \"o\", \"lantern\"])\n",
        "print(sep_str)"
      ],
      "metadata": {
        "colab": {
          "base_uri": "https://localhost:8080/"
        },
        "id": "WROo9fnUKbhp",
        "outputId": "40912b23-2c49-4894-d7d2-05a143a067af"
      },
      "execution_count": null,
      "outputs": [
        {
          "output_type": "stream",
          "name": "stdout",
          "text": [
            "jack\n",
            "o\n",
            "lantern\n"
          ]
        }
      ]
    },
    {
      "cell_type": "code",
      "source": [
        "import time\n",
        "import numpy as np"
      ],
      "metadata": {
        "id": "qL43sfxlLHHv"
      },
      "execution_count": null,
      "outputs": []
    },
    {
      "cell_type": "code",
      "source": [
        "x = np.random.rand(1000000000)\n"
      ],
      "metadata": {
        "id": "j0MzywW4Rkij"
      },
      "execution_count": null,
      "outputs": []
    },
    {
      "cell_type": "code",
      "source": [
        "start = time.time()\n",
        "mean = sum (x)/ len (x)\n",
        "print(time.time() - start)"
      ],
      "metadata": {
        "colab": {
          "base_uri": "https://localhost:8080/"
        },
        "id": "cT1Jw_pjSZOV",
        "outputId": "f5e93b91-2486-4de0-9d3a-1d383e01e26b"
      },
      "execution_count": null,
      "outputs": [
        {
          "output_type": "stream",
          "name": "stdout",
          "text": [
            "91.81222558021545\n"
          ]
        }
      ]
    },
    {
      "cell_type": "code",
      "source": [
        "start = time.time()\n",
        "mean_np = np.mean(x)\n",
        "print(time.time() - start)"
      ],
      "metadata": {
        "colab": {
          "base_uri": "https://localhost:8080/"
        },
        "id": "pWteJfCsSyI_",
        "outputId": "55dd9e82-81c1-491a-c16f-1d0b9cf7396a"
      },
      "execution_count": null,
      "outputs": [
        {
          "output_type": "stream",
          "name": "stdout",
          "text": [
            "1.1883327960968018\n"
          ]
        }
      ]
    },
    {
      "cell_type": "code",
      "source": [
        "x = np.array([1,2,3,4,5,])\n",
        "print('x = ', x)"
      ],
      "metadata": {
        "colab": {
          "base_uri": "https://localhost:8080/"
        },
        "id": "BELBeffRTt7k",
        "outputId": "4a930514-14c5-4bef-adbe-a331f9bafc44"
      },
      "execution_count": null,
      "outputs": [
        {
          "output_type": "stream",
          "name": "stdout",
          "text": [
            "x =  [1 2 3 4 5]\n"
          ]
        }
      ]
    },
    {
      "cell_type": "code",
      "source": [
        "x = np.array([1,2,3,4,5,])\n",
        "print()\n",
        "print('x = ', x)\n",
        "print()\n",
        "\n",
        "print('x has dimension: ', x.shape)\n",
        "print('x is an object of type:', type(x))\n",
        "print('the elements in x are of type:', x.dtype)"
      ],
      "metadata": {
        "colab": {
          "base_uri": "https://localhost:8080/"
        },
        "id": "rwoNDiWXWh1n",
        "outputId": "af0db836-9766-4f1f-9db3-9b9daee612ea"
      },
      "execution_count": null,
      "outputs": [
        {
          "output_type": "stream",
          "name": "stdout",
          "text": [
            "\n",
            "x =  [1 2 3 4 5]\n",
            "\n",
            "x has dimension:  (5,)\n",
            "x is an object of type: <class 'numpy.ndarray'>\n",
            "the elements in x are of type: int64\n"
          ]
        }
      ]
    },
    {
      "cell_type": "code",
      "source": [
        "x = np.array(\"hello world\")\n",
        "print()\n",
        "print('x = ', x)\n",
        "print()\n",
        "print('x has dimension: ', x.shape)\n",
        "print('x is an object of type:', type(x))\n",
        "print('the elements in x are of type:', x.dtype)\n",
        "\n",
        "\n"
      ],
      "metadata": {
        "colab": {
          "base_uri": "https://localhost:8080/"
        },
        "id": "nY91szcWX6YP",
        "outputId": "a6f7d4d3-7c39-4583-9a44-a88c7bb4f92e"
      },
      "execution_count": null,
      "outputs": [
        {
          "output_type": "stream",
          "name": "stdout",
          "text": [
            "\n",
            "x =  hello world\n",
            "\n",
            "x has dimension:  ()\n",
            "x is an object of type: <class 'numpy.ndarray'>\n",
            "the elements in x are of type: <U11\n"
          ]
        }
      ]
    },
    {
      "cell_type": "code",
      "source": [
        "x = np.array([1,2 , \"world\"])\n",
        "print()\n",
        "print('x = ', x)\n",
        "print()\n",
        "print('x has dimension: ', x.shape)\n",
        "print('x is an object of type:', type(x))\n",
        "print('the elements in x are of type:', x.dtype)"
      ],
      "metadata": {
        "colab": {
          "base_uri": "https://localhost:8080/"
        },
        "id": "9ZCD9mugZcy2",
        "outputId": "f123b148-4bc7-4228-abb6-5eb0bb445310"
      },
      "execution_count": null,
      "outputs": [
        {
          "output_type": "stream",
          "name": "stdout",
          "text": [
            "\n",
            "x =  ['1' '2' 'world']\n",
            "\n",
            "x has dimension:  (3,)\n",
            "x is an object of type: <class 'numpy.ndarray'>\n",
            "the elements in x are of type: <U21\n"
          ]
        }
      ]
    },
    {
      "cell_type": "code",
      "source": [
        "y = np.array([[1,2,3],[4,5,6],[7,8,9],[10,11,12]])\n",
        "print()\n",
        "print('y =\\n ', y)\n",
        "print()\n",
        "print('y has dimension: ', x.shape)\n",
        "print('y is an object of type:', type(y))\n",
        "print('the elements in y are of type:', y.dtype)"
      ],
      "metadata": {
        "colab": {
          "base_uri": "https://localhost:8080/"
        },
        "id": "vo8ZyICeaZ5x",
        "outputId": "f773f61d-e27a-4e2f-899b-a14d3dcc77af"
      },
      "execution_count": null,
      "outputs": [
        {
          "output_type": "stream",
          "name": "stdout",
          "text": [
            "\n",
            "y =\n",
            "  [[ 1  2  3]\n",
            " [ 4  5  6]\n",
            " [ 7  8  9]\n",
            " [10 11 12]]\n",
            "\n",
            "y has dimension:  (3,)\n",
            "y is an object of type: <class 'numpy.ndarray'>\n",
            "the elements in y are of type: int64\n"
          ]
        }
      ]
    },
    {
      "cell_type": "code",
      "source": [
        "x = np.arange(20).reshape(4,5)\n",
        "print()\n",
        "print('original x = ', x)\n",
        "print()"
      ],
      "metadata": {
        "id": "ciarX5R2byyc",
        "colab": {
          "base_uri": "https://localhost:8080/"
        },
        "outputId": "08f575a4-9e0f-48ae-b957-ee19d15a4da6"
      },
      "execution_count": null,
      "outputs": [
        {
          "output_type": "stream",
          "name": "stdout",
          "text": [
            "\n",
            "original x =  [[ 0  1  2  3  4]\n",
            " [ 5  6  7  8  9]\n",
            " [10 11 12 13 14]\n",
            " [15 16 17 18 19]]\n",
            "\n"
          ]
        }
      ]
    },
    {
      "cell_type": "code",
      "source": [
        "x = np.array([1,2,3,4,5])\n",
        "print()\n",
        "print('x = ', x)\n",
        "print()"
      ],
      "metadata": {
        "colab": {
          "base_uri": "https://localhost:8080/"
        },
        "id": "8KywPj-0Szp7",
        "outputId": "84d06e22-6db4-4479-97e7-baed75a1ee9e"
      },
      "execution_count": null,
      "outputs": [
        {
          "output_type": "stream",
          "name": "stdout",
          "text": [
            "\n",
            "x =  [1 2 3 4 5]\n",
            "\n"
          ]
        }
      ]
    },
    {
      "cell_type": "code",
      "source": [
        "x = np.array([1,2,3,4,5])\n",
        "print()\n",
        "print('original:\\n x = ', x)\n",
        "print()\n",
        "x[3]=20\n",
        "print('modified:\\n x = ', x)"
      ],
      "metadata": {
        "colab": {
          "base_uri": "https://localhost:8080/"
        },
        "id": "dW9hzlg0UJn_",
        "outputId": "fba68861-b14d-4b64-ac47-d49182af6410"
      },
      "execution_count": null,
      "outputs": [
        {
          "output_type": "stream",
          "name": "stdout",
          "text": [
            "\n",
            "original:\n",
            " x =  [1 2 3 4 5]\n",
            "\n",
            "modified:\n",
            " x =  [ 1  2  3 20  5]\n"
          ]
        }
      ]
    },
    {
      "cell_type": "code",
      "source": [
        "x = np.array([[1,2,3],[4,5,6],[7,8,9]])\n",
        "print()\n",
        "print('x = \\n ', x)\n",
        "print()"
      ],
      "metadata": {
        "colab": {
          "base_uri": "https://localhost:8080/"
        },
        "id": "wNsv_J8DUhPZ",
        "outputId": "3d531831-0975-4667-a0e3-00fd82a932b9"
      },
      "execution_count": null,
      "outputs": [
        {
          "output_type": "stream",
          "name": "stdout",
          "text": [
            "\n",
            "x = \n",
            "  [[1 2 3]\n",
            " [4 5 6]\n",
            " [7 8 9]]\n",
            "\n"
          ]
        }
      ]
    },
    {
      "cell_type": "code",
      "source": [
        "x = np.array([1,2,3,4,5])\n",
        "print()\n",
        "print('original:\\n x = ', x)\n",
        "\n",
        "x  = np.delete(x , [0,4])\n",
        "print()\n",
        "print('modified:\\n x = ', x)\n"
      ],
      "metadata": {
        "colab": {
          "base_uri": "https://localhost:8080/"
        },
        "id": "Gcp_SBbGV017",
        "outputId": "3cacd9be-0c4f-4e5d-f8eb-d42d3e885c04"
      },
      "execution_count": null,
      "outputs": [
        {
          "output_type": "stream",
          "name": "stdout",
          "text": [
            "\n",
            "original:\n",
            " x =  [1 2 3 4 5]\n",
            "\n",
            "modified:\n",
            " x =  [2 3 4]\n"
          ]
        }
      ]
    },
    {
      "cell_type": "code",
      "source": [
        "x = np.array([1,2,3,4,5])\n",
        "x = np.array([[1,2,3],[4,5,6],[7,8,9]])\n",
        "\n",
        "print()\n",
        "print('original:\\n x = ', x)\n",
        "\n",
        "x  = np.append(x,  [6])\n",
        "print()\n",
        "print('x =  ', x)\n",
        "x  = np.append(x,  [7,8])\n",
        "print()\n",
        "print('x = ', x)\n",
        "\n",
        "print()\n",
        "print('original:\\n y = ', y)\n",
        "v  = np.append(y, [[10,11,12]], axis = 0)\n",
        "\n",
        "print()\n",
        "print('v = ', y)\n",
        "\n"
      ],
      "metadata": {
        "colab": {
          "base_uri": "https://localhost:8080/"
        },
        "id": "XK0lv_PnXz5P",
        "outputId": "d2169854-782e-4098-a46c-9fdf9e83592c"
      },
      "execution_count": null,
      "outputs": [
        {
          "output_type": "stream",
          "name": "stdout",
          "text": [
            "\n",
            "original:\n",
            " x =  [[1 2 3]\n",
            " [4 5 6]\n",
            " [7 8 9]]\n",
            "\n",
            "x =   [1 2 3 4 5 6 7 8 9 6]\n",
            "\n",
            "x =  [1 2 3 4 5 6 7 8 9 6 7 8]\n",
            "\n",
            "original:\n",
            " y =  [[ 1  2  3]\n",
            " [ 4  5  6]\n",
            " [ 7  8  9]\n",
            " [10 11 12]]\n",
            "\n",
            "v =  [[ 1  2  3]\n",
            " [ 4  5  6]\n",
            " [ 7  8  9]\n",
            " [10 11 12]]\n"
          ]
        }
      ]
    },
    {
      "cell_type": "code",
      "source": [
        "x = np.array([1,2,3,4,5])\n",
        "print()\n",
        "print('original:\\n x = ', x)\n",
        "\n",
        "\n",
        "x = np.insert(x, 2,[-3,-4])\n",
        "print()\n",
        "print('modified:\\n x = ', x)\n",
        "\n"
      ],
      "metadata": {
        "colab": {
          "base_uri": "https://localhost:8080/"
        },
        "id": "ARXcZXexb48X",
        "outputId": "cd51e353-a257-4ceb-fb05-05741e6766a9"
      },
      "execution_count": null,
      "outputs": [
        {
          "output_type": "stream",
          "name": "stdout",
          "text": [
            "\n",
            "original:\n",
            " x =  [1 2 3 4 5]\n",
            "\n",
            "modified:\n",
            " x =  [ 1  2 -3 -4  3  4  5]\n"
          ]
        }
      ]
    },
    {
      "cell_type": "code",
      "source": [
        ""
      ],
      "metadata": {
        "id": "_bfb1K7HeDof"
      },
      "execution_count": null,
      "outputs": []
    }
  ],
  "metadata": {
    "colab": {
      "name": "basics.ipynb",
      "provenance": [],
      "collapsed_sections": [],
      "toc_visible": true
    },
    "kernelspec": {
      "display_name": "Python 3",
      "name": "python3"
    },
    "language_info": {
      "name": "python"
    }
  },
  "nbformat": 4,
  "nbformat_minor": 0
}