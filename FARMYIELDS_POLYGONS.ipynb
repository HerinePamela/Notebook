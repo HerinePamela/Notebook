{
  "nbformat": 4,
  "nbformat_minor": 0,
  "metadata": {
    "colab": {
      "provenance": [],
      "authorship_tag": "ABX9TyOHp4N8jX+sEsuQmRXGBOqs",
      "include_colab_link": true
    },
    "kernelspec": {
      "name": "python3",
      "display_name": "Python 3"
    },
    "language_info": {
      "name": "python"
    }
  },
  "cells": [
    {
      "cell_type": "markdown",
      "metadata": {
        "id": "view-in-github",
        "colab_type": "text"
      },
      "source": [
        "<a href=\"https://colab.research.google.com/github/HerinePamela/Notebook/blob/main/FARMYIELDS_POLYGONS.ipynb\" target=\"_parent\"><img src=\"https://colab.research.google.com/assets/colab-badge.svg\" alt=\"Open In Colab\"/></a>"
      ]
    },
    {
      "cell_type": "code",
      "execution_count": null,
      "metadata": {
        "id": "gi4QtP-E6Aig"
      },
      "outputs": [],
      "source": [
        "import folium\n",
        "from folium.plugins import DualMap\n",
        "import json\n",
        "import pandas as pd\n",
        "from shapely.geometry import shape"
      ]
    },
    {
      "cell_type": "code",
      "source": [
        "!pip install branca\n",
        "import branca"
      ],
      "metadata": {
        "colab": {
          "base_uri": "https://localhost:8080/"
        },
        "id": "y4SfDe9V6tXa",
        "outputId": "8c775175-022b-46be-e2d4-2503cdf6995e"
      },
      "execution_count": null,
      "outputs": [
        {
          "output_type": "stream",
          "name": "stdout",
          "text": [
            "Requirement already satisfied: branca in /usr/local/lib/python3.10/dist-packages (0.7.2)\n",
            "Requirement already satisfied: jinja2>=3 in /usr/local/lib/python3.10/dist-packages (from branca) (3.1.4)\n",
            "Requirement already satisfied: MarkupSafe>=2.0 in /usr/local/lib/python3.10/dist-packages (from jinja2>=3->branca) (2.1.5)\n"
          ]
        }
      ]
    },
    {
      "cell_type": "code",
      "source": [
        "geojson_data = '/content/farmyields.geojson'"
      ],
      "metadata": {
        "id": "TN3L8s1b60G9"
      },
      "execution_count": null,
      "outputs": []
    },
    {
      "cell_type": "code",
      "source": [
        "m = folium.Map(location=[0.1072, 34.9286], zoom_start=12)  # Set the initial location and zoom"
      ],
      "metadata": {
        "id": "FK-TJGu863td"
      },
      "execution_count": null,
      "outputs": []
    },
    {
      "cell_type": "code",
      "source": [
        "folium.TileLayer('OpenStreetMap').add_to(m)\n",
        "folium.TileLayer('Esri.WorldImagery', name=\"Satellite\").add_to(m)"
      ],
      "metadata": {
        "colab": {
          "base_uri": "https://localhost:8080/"
        },
        "id": "mQssa1sj67mT",
        "outputId": "707e2e86-e2e2-4950-edee-f3fbfc0e9094"
      },
      "execution_count": null,
      "outputs": [
        {
          "output_type": "execute_result",
          "data": {
            "text/plain": [
              "<folium.raster_layers.TileLayer at 0x7db0d92014b0>"
            ]
          },
          "metadata": {},
          "execution_count": 5
        }
      ]
    },
    {
      "cell_type": "code",
      "source": [
        "with open(geojson_data) as f:\n",
        "    geojson = json.load(f)"
      ],
      "metadata": {
        "id": "gIwfJ_UV6_uz"
      },
      "execution_count": null,
      "outputs": []
    },
    {
      "cell_type": "code",
      "source": [
        "yield_values = [feature['properties'].get('Trt-Ctr_Per_Change') for feature in geojson['features'] if feature['properties'].get('Trt-Ctr_Per_Change') is not None]\n",
        "if not yield_values:\n",
        "    raise ValueError(\"No valid 'farm_yield' values found in the GeoJSON data.\")\n",
        "\n",
        "min_yield = min(yield_values)\n",
        "max_yield = max(yield_values)"
      ],
      "metadata": {
        "id": "DhCIHyQq7FdL"
      },
      "execution_count": null,
      "outputs": []
    },
    {
      "cell_type": "code",
      "source": [
        "min_yield, max_yield"
      ],
      "metadata": {
        "colab": {
          "base_uri": "https://localhost:8080/"
        },
        "id": "vi0oJJrL7GqJ",
        "outputId": "c1994d0c-0610-4fbf-bace-377b7f685704"
      },
      "execution_count": null,
      "outputs": [
        {
          "output_type": "execute_result",
          "data": {
            "text/plain": [
              "(1.6282225237449155, 423.9130434782609)"
            ]
          },
          "metadata": {},
          "execution_count": 8
        }
      ]
    },
    {
      "cell_type": "code",
      "source": [
        "import branca.colormap as cm"
      ],
      "metadata": {
        "id": "gGSUd5tM7J8E"
      },
      "execution_count": null,
      "outputs": []
    },
    {
      "cell_type": "code",
      "source": [
        "colormap = cm.LinearColormap(\n",
        "    colors=['#e6f5d0', '#b8e186', '#7fbc41', '#4d9221', '#276419'],\n",
        "    # colors=['#97d7a1', '#78aa7f', '#197516','#104d0f','#0c380b'],# # Light green to dark green\n",
        "    vmin=min_yield,\n",
        "    vmax=max_yield,\n",
        "    caption=\" harvest weight change(%)\"  # Legend caption\n",
        ")"
      ],
      "metadata": {
        "id": "DTsPvmRv7Mph"
      },
      "execution_count": null,
      "outputs": []
    },
    {
      "cell_type": "code",
      "source": [
        "colormap.add_to(m)"
      ],
      "metadata": {
        "colab": {
          "base_uri": "https://localhost:8080/"
        },
        "id": "11Gp9uSQ7QH3",
        "outputId": "e6cd2f26-c18c-444d-ecb6-b2800300fdd3"
      },
      "execution_count": null,
      "outputs": [
        {
          "output_type": "execute_result",
          "data": {
            "text/plain": [
              "<branca.colormap.LinearColormap at 0x7db0a9a1be20>"
            ],
            "text/html": [
              "<svg height=\"40\" width=\"450\"><line x1=\"0\" y1=\"15\" x2=\"0\" y2=\"27\" style=\"stroke:#e6f5d0ff;stroke-width:2;\" /><line x1=\"1\" y1=\"15\" x2=\"1\" y2=\"27\" style=\"stroke:#e6f5d0ff;stroke-width:2;\" /><line x1=\"2\" y1=\"15\" x2=\"2\" y2=\"27\" style=\"stroke:#e6f5cfff;stroke-width:2;\" /><line x1=\"3\" y1=\"15\" x2=\"3\" y2=\"27\" style=\"stroke:#e5f5ceff;stroke-width:2;\" /><line x1=\"4\" y1=\"15\" x2=\"4\" y2=\"27\" style=\"stroke:#e5f5ceff;stroke-width:2;\" /><line x1=\"5\" y1=\"15\" x2=\"5\" y2=\"27\" style=\"stroke:#e4f5cdff;stroke-width:2;\" /><line x1=\"6\" y1=\"15\" x2=\"6\" y2=\"27\" style=\"stroke:#e4f4ccff;stroke-width:2;\" /><line x1=\"7\" y1=\"15\" x2=\"7\" y2=\"27\" style=\"stroke:#e4f4ccff;stroke-width:2;\" /><line x1=\"8\" y1=\"15\" x2=\"8\" y2=\"27\" style=\"stroke:#e3f4cbff;stroke-width:2;\" /><line x1=\"9\" y1=\"15\" x2=\"9\" y2=\"27\" style=\"stroke:#e3f4caff;stroke-width:2;\" /><line x1=\"10\" y1=\"15\" x2=\"10\" y2=\"27\" style=\"stroke:#e2f4caff;stroke-width:2;\" /><line x1=\"11\" y1=\"15\" x2=\"11\" y2=\"27\" style=\"stroke:#e2f3c9ff;stroke-width:2;\" /><line x1=\"12\" y1=\"15\" x2=\"12\" y2=\"27\" style=\"stroke:#e1f3c8ff;stroke-width:2;\" /><line x1=\"13\" y1=\"15\" x2=\"13\" y2=\"27\" style=\"stroke:#e1f3c8ff;stroke-width:2;\" /><line x1=\"14\" y1=\"15\" x2=\"14\" y2=\"27\" style=\"stroke:#e1f3c7ff;stroke-width:2;\" /><line x1=\"15\" y1=\"15\" x2=\"15\" y2=\"27\" style=\"stroke:#e0f3c6ff;stroke-width:2;\" /><line x1=\"16\" y1=\"15\" x2=\"16\" y2=\"27\" style=\"stroke:#e0f3c6ff;stroke-width:2;\" /><line x1=\"17\" y1=\"15\" x2=\"17\" y2=\"27\" style=\"stroke:#dff2c5ff;stroke-width:2;\" /><line x1=\"18\" y1=\"15\" x2=\"18\" y2=\"27\" style=\"stroke:#dff2c4ff;stroke-width:2;\" /><line x1=\"19\" y1=\"15\" x2=\"19\" y2=\"27\" style=\"stroke:#dff2c4ff;stroke-width:2;\" /><line x1=\"20\" y1=\"15\" x2=\"20\" y2=\"27\" style=\"stroke:#def2c3ff;stroke-width:2;\" /><line x1=\"21\" y1=\"15\" x2=\"21\" y2=\"27\" style=\"stroke:#def2c2ff;stroke-width:2;\" /><line x1=\"22\" y1=\"15\" x2=\"22\" y2=\"27\" style=\"stroke:#ddf2c2ff;stroke-width:2;\" /><line x1=\"23\" y1=\"15\" x2=\"23\" y2=\"27\" style=\"stroke:#ddf1c1ff;stroke-width:2;\" /><line x1=\"24\" y1=\"15\" x2=\"24\" y2=\"27\" style=\"stroke:#ddf1c0ff;stroke-width:2;\" /><line x1=\"25\" y1=\"15\" x2=\"25\" y2=\"27\" style=\"stroke:#dcf1c0ff;stroke-width:2;\" /><line x1=\"26\" y1=\"15\" x2=\"26\" y2=\"27\" style=\"stroke:#dcf1bfff;stroke-width:2;\" /><line x1=\"27\" y1=\"15\" x2=\"27\" y2=\"27\" style=\"stroke:#dbf1beff;stroke-width:2;\" /><line x1=\"28\" y1=\"15\" x2=\"28\" y2=\"27\" style=\"stroke:#dbf0beff;stroke-width:2;\" /><line x1=\"29\" y1=\"15\" x2=\"29\" y2=\"27\" style=\"stroke:#daf0bdff;stroke-width:2;\" /><line x1=\"30\" y1=\"15\" x2=\"30\" y2=\"27\" style=\"stroke:#daf0bcff;stroke-width:2;\" /><line x1=\"31\" y1=\"15\" x2=\"31\" y2=\"27\" style=\"stroke:#daf0bcff;stroke-width:2;\" /><line x1=\"32\" y1=\"15\" x2=\"32\" y2=\"27\" style=\"stroke:#d9f0bbff;stroke-width:2;\" /><line x1=\"33\" y1=\"15\" x2=\"33\" y2=\"27\" style=\"stroke:#d9f0baff;stroke-width:2;\" /><line x1=\"34\" y1=\"15\" x2=\"34\" y2=\"27\" style=\"stroke:#d8efbaff;stroke-width:2;\" /><line x1=\"35\" y1=\"15\" x2=\"35\" y2=\"27\" style=\"stroke:#d8efb9ff;stroke-width:2;\" /><line x1=\"36\" y1=\"15\" x2=\"36\" y2=\"27\" style=\"stroke:#d8efb8ff;stroke-width:2;\" /><line x1=\"37\" y1=\"15\" x2=\"37\" y2=\"27\" style=\"stroke:#d7efb8ff;stroke-width:2;\" /><line x1=\"38\" y1=\"15\" x2=\"38\" y2=\"27\" style=\"stroke:#d7efb7ff;stroke-width:2;\" /><line x1=\"39\" y1=\"15\" x2=\"39\" y2=\"27\" style=\"stroke:#d6eeb7ff;stroke-width:2;\" /><line x1=\"40\" y1=\"15\" x2=\"40\" y2=\"27\" style=\"stroke:#d6eeb6ff;stroke-width:2;\" /><line x1=\"41\" y1=\"15\" x2=\"41\" y2=\"27\" style=\"stroke:#d6eeb5ff;stroke-width:2;\" /><line x1=\"42\" y1=\"15\" x2=\"42\" y2=\"27\" style=\"stroke:#d5eeb5ff;stroke-width:2;\" /><line x1=\"43\" y1=\"15\" x2=\"43\" y2=\"27\" style=\"stroke:#d5eeb4ff;stroke-width:2;\" /><line x1=\"44\" y1=\"15\" x2=\"44\" y2=\"27\" style=\"stroke:#d4eeb3ff;stroke-width:2;\" /><line x1=\"45\" y1=\"15\" x2=\"45\" y2=\"27\" style=\"stroke:#d4edb3ff;stroke-width:2;\" /><line x1=\"46\" y1=\"15\" x2=\"46\" y2=\"27\" style=\"stroke:#d3edb2ff;stroke-width:2;\" /><line x1=\"47\" y1=\"15\" x2=\"47\" y2=\"27\" style=\"stroke:#d3edb1ff;stroke-width:2;\" /><line x1=\"48\" y1=\"15\" x2=\"48\" y2=\"27\" style=\"stroke:#d3edb1ff;stroke-width:2;\" /><line x1=\"49\" y1=\"15\" x2=\"49\" y2=\"27\" style=\"stroke:#d2edb0ff;stroke-width:2;\" /><line x1=\"50\" y1=\"15\" x2=\"50\" y2=\"27\" style=\"stroke:#d2edafff;stroke-width:2;\" /><line x1=\"51\" y1=\"15\" x2=\"51\" y2=\"27\" style=\"stroke:#d1ecafff;stroke-width:2;\" /><line x1=\"52\" y1=\"15\" x2=\"52\" y2=\"27\" style=\"stroke:#d1ecaeff;stroke-width:2;\" /><line x1=\"53\" y1=\"15\" x2=\"53\" y2=\"27\" style=\"stroke:#d1ecadff;stroke-width:2;\" /><line x1=\"54\" y1=\"15\" x2=\"54\" y2=\"27\" style=\"stroke:#d0ecadff;stroke-width:2;\" /><line x1=\"55\" y1=\"15\" x2=\"55\" y2=\"27\" style=\"stroke:#d0ecacff;stroke-width:2;\" /><line x1=\"56\" y1=\"15\" x2=\"56\" y2=\"27\" style=\"stroke:#cfebabff;stroke-width:2;\" /><line x1=\"57\" y1=\"15\" x2=\"57\" y2=\"27\" style=\"stroke:#cfebabff;stroke-width:2;\" /><line x1=\"58\" y1=\"15\" x2=\"58\" y2=\"27\" style=\"stroke:#cfebaaff;stroke-width:2;\" /><line x1=\"59\" y1=\"15\" x2=\"59\" y2=\"27\" style=\"stroke:#ceeba9ff;stroke-width:2;\" /><line x1=\"60\" y1=\"15\" x2=\"60\" y2=\"27\" style=\"stroke:#ceeba9ff;stroke-width:2;\" /><line x1=\"61\" y1=\"15\" x2=\"61\" y2=\"27\" style=\"stroke:#cdeba8ff;stroke-width:2;\" /><line x1=\"62\" y1=\"15\" x2=\"62\" y2=\"27\" style=\"stroke:#cdeaa7ff;stroke-width:2;\" /><line x1=\"63\" y1=\"15\" x2=\"63\" y2=\"27\" style=\"stroke:#cceaa7ff;stroke-width:2;\" /><line x1=\"64\" y1=\"15\" x2=\"64\" y2=\"27\" style=\"stroke:#cceaa6ff;stroke-width:2;\" /><line x1=\"65\" y1=\"15\" x2=\"65\" y2=\"27\" style=\"stroke:#cceaa5ff;stroke-width:2;\" /><line x1=\"66\" y1=\"15\" x2=\"66\" y2=\"27\" style=\"stroke:#cbeaa5ff;stroke-width:2;\" /><line x1=\"67\" y1=\"15\" x2=\"67\" y2=\"27\" style=\"stroke:#cbe9a4ff;stroke-width:2;\" /><line x1=\"68\" y1=\"15\" x2=\"68\" y2=\"27\" style=\"stroke:#cae9a3ff;stroke-width:2;\" /><line x1=\"69\" y1=\"15\" x2=\"69\" y2=\"27\" style=\"stroke:#cae9a3ff;stroke-width:2;\" /><line x1=\"70\" y1=\"15\" x2=\"70\" y2=\"27\" style=\"stroke:#cae9a2ff;stroke-width:2;\" /><line x1=\"71\" y1=\"15\" x2=\"71\" y2=\"27\" style=\"stroke:#c9e9a1ff;stroke-width:2;\" /><line x1=\"72\" y1=\"15\" x2=\"72\" y2=\"27\" style=\"stroke:#c9e9a1ff;stroke-width:2;\" /><line x1=\"73\" y1=\"15\" x2=\"73\" y2=\"27\" style=\"stroke:#c8e8a0ff;stroke-width:2;\" /><line x1=\"74\" y1=\"15\" x2=\"74\" y2=\"27\" style=\"stroke:#c8e89fff;stroke-width:2;\" /><line x1=\"75\" y1=\"15\" x2=\"75\" y2=\"27\" style=\"stroke:#c8e89fff;stroke-width:2;\" /><line x1=\"76\" y1=\"15\" x2=\"76\" y2=\"27\" style=\"stroke:#c7e89eff;stroke-width:2;\" /><line x1=\"77\" y1=\"15\" x2=\"77\" y2=\"27\" style=\"stroke:#c7e89dff;stroke-width:2;\" /><line x1=\"78\" y1=\"15\" x2=\"78\" y2=\"27\" style=\"stroke:#c6e89dff;stroke-width:2;\" /><line x1=\"79\" y1=\"15\" x2=\"79\" y2=\"27\" style=\"stroke:#c6e79cff;stroke-width:2;\" /><line x1=\"80\" y1=\"15\" x2=\"80\" y2=\"27\" style=\"stroke:#c5e79bff;stroke-width:2;\" /><line x1=\"81\" y1=\"15\" x2=\"81\" y2=\"27\" style=\"stroke:#c5e79bff;stroke-width:2;\" /><line x1=\"82\" y1=\"15\" x2=\"82\" y2=\"27\" style=\"stroke:#c5e79aff;stroke-width:2;\" /><line x1=\"83\" y1=\"15\" x2=\"83\" y2=\"27\" style=\"stroke:#c4e799ff;stroke-width:2;\" /><line x1=\"84\" y1=\"15\" x2=\"84\" y2=\"27\" style=\"stroke:#c4e699ff;stroke-width:2;\" /><line x1=\"85\" y1=\"15\" x2=\"85\" y2=\"27\" style=\"stroke:#c3e698ff;stroke-width:2;\" /><line x1=\"86\" y1=\"15\" x2=\"86\" y2=\"27\" style=\"stroke:#c3e697ff;stroke-width:2;\" /><line x1=\"87\" y1=\"15\" x2=\"87\" y2=\"27\" style=\"stroke:#c3e697ff;stroke-width:2;\" /><line x1=\"88\" y1=\"15\" x2=\"88\" y2=\"27\" style=\"stroke:#c2e696ff;stroke-width:2;\" /><line x1=\"89\" y1=\"15\" x2=\"89\" y2=\"27\" style=\"stroke:#c2e695ff;stroke-width:2;\" /><line x1=\"90\" y1=\"15\" x2=\"90\" y2=\"27\" style=\"stroke:#c1e595ff;stroke-width:2;\" /><line x1=\"91\" y1=\"15\" x2=\"91\" y2=\"27\" style=\"stroke:#c1e594ff;stroke-width:2;\" /><line x1=\"92\" y1=\"15\" x2=\"92\" y2=\"27\" style=\"stroke:#c1e593ff;stroke-width:2;\" /><line x1=\"93\" y1=\"15\" x2=\"93\" y2=\"27\" style=\"stroke:#c0e593ff;stroke-width:2;\" /><line x1=\"94\" y1=\"15\" x2=\"94\" y2=\"27\" style=\"stroke:#c0e592ff;stroke-width:2;\" /><line x1=\"95\" y1=\"15\" x2=\"95\" y2=\"27\" style=\"stroke:#bfe491ff;stroke-width:2;\" /><line x1=\"96\" y1=\"15\" x2=\"96\" y2=\"27\" style=\"stroke:#bfe491ff;stroke-width:2;\" /><line x1=\"97\" y1=\"15\" x2=\"97\" y2=\"27\" style=\"stroke:#bee490ff;stroke-width:2;\" /><line x1=\"98\" y1=\"15\" x2=\"98\" y2=\"27\" style=\"stroke:#bee48fff;stroke-width:2;\" /><line x1=\"99\" y1=\"15\" x2=\"99\" y2=\"27\" style=\"stroke:#bee48fff;stroke-width:2;\" /><line x1=\"100\" y1=\"15\" x2=\"100\" y2=\"27\" style=\"stroke:#bde48eff;stroke-width:2;\" /><line x1=\"101\" y1=\"15\" x2=\"101\" y2=\"27\" style=\"stroke:#bde38dff;stroke-width:2;\" /><line x1=\"102\" y1=\"15\" x2=\"102\" y2=\"27\" style=\"stroke:#bce38dff;stroke-width:2;\" /><line x1=\"103\" y1=\"15\" x2=\"103\" y2=\"27\" style=\"stroke:#bce38cff;stroke-width:2;\" /><line x1=\"104\" y1=\"15\" x2=\"104\" y2=\"27\" style=\"stroke:#bce38bff;stroke-width:2;\" /><line x1=\"105\" y1=\"15\" x2=\"105\" y2=\"27\" style=\"stroke:#bbe38bff;stroke-width:2;\" /><line x1=\"106\" y1=\"15\" x2=\"106\" y2=\"27\" style=\"stroke:#bbe38aff;stroke-width:2;\" /><line x1=\"107\" y1=\"15\" x2=\"107\" y2=\"27\" style=\"stroke:#bae28aff;stroke-width:2;\" /><line x1=\"108\" y1=\"15\" x2=\"108\" y2=\"27\" style=\"stroke:#bae289ff;stroke-width:2;\" /><line x1=\"109\" y1=\"15\" x2=\"109\" y2=\"27\" style=\"stroke:#bae288ff;stroke-width:2;\" /><line x1=\"110\" y1=\"15\" x2=\"110\" y2=\"27\" style=\"stroke:#b9e288ff;stroke-width:2;\" /><line x1=\"111\" y1=\"15\" x2=\"111\" y2=\"27\" style=\"stroke:#b9e287ff;stroke-width:2;\" /><line x1=\"112\" y1=\"15\" x2=\"112\" y2=\"27\" style=\"stroke:#b8e186ff;stroke-width:2;\" /><line x1=\"113\" y1=\"15\" x2=\"113\" y2=\"27\" style=\"stroke:#b8e186ff;stroke-width:2;\" /><line x1=\"114\" y1=\"15\" x2=\"114\" y2=\"27\" style=\"stroke:#b7e185ff;stroke-width:2;\" /><line x1=\"115\" y1=\"15\" x2=\"115\" y2=\"27\" style=\"stroke:#b7e084ff;stroke-width:2;\" /><line x1=\"116\" y1=\"15\" x2=\"116\" y2=\"27\" style=\"stroke:#b6e084ff;stroke-width:2;\" /><line x1=\"117\" y1=\"15\" x2=\"117\" y2=\"27\" style=\"stroke:#b6e083ff;stroke-width:2;\" /><line x1=\"118\" y1=\"15\" x2=\"118\" y2=\"27\" style=\"stroke:#b5df82ff;stroke-width:2;\" /><line x1=\"119\" y1=\"15\" x2=\"119\" y2=\"27\" style=\"stroke:#b5df82ff;stroke-width:2;\" /><line x1=\"120\" y1=\"15\" x2=\"120\" y2=\"27\" style=\"stroke:#b4df81ff;stroke-width:2;\" /><line x1=\"121\" y1=\"15\" x2=\"121\" y2=\"27\" style=\"stroke:#b4de81ff;stroke-width:2;\" /><line x1=\"122\" y1=\"15\" x2=\"122\" y2=\"27\" style=\"stroke:#b3de80ff;stroke-width:2;\" /><line x1=\"123\" y1=\"15\" x2=\"123\" y2=\"27\" style=\"stroke:#b3de7fff;stroke-width:2;\" /><line x1=\"124\" y1=\"15\" x2=\"124\" y2=\"27\" style=\"stroke:#b2dd7fff;stroke-width:2;\" /><line x1=\"125\" y1=\"15\" x2=\"125\" y2=\"27\" style=\"stroke:#b2dd7eff;stroke-width:2;\" /><line x1=\"126\" y1=\"15\" x2=\"126\" y2=\"27\" style=\"stroke:#b1dd7eff;stroke-width:2;\" /><line x1=\"127\" y1=\"15\" x2=\"127\" y2=\"27\" style=\"stroke:#b1dd7dff;stroke-width:2;\" /><line x1=\"128\" y1=\"15\" x2=\"128\" y2=\"27\" style=\"stroke:#b0dc7cff;stroke-width:2;\" /><line x1=\"129\" y1=\"15\" x2=\"129\" y2=\"27\" style=\"stroke:#b0dc7cff;stroke-width:2;\" /><line x1=\"130\" y1=\"15\" x2=\"130\" y2=\"27\" style=\"stroke:#afdc7bff;stroke-width:2;\" /><line x1=\"131\" y1=\"15\" x2=\"131\" y2=\"27\" style=\"stroke:#afdb7aff;stroke-width:2;\" /><line x1=\"132\" y1=\"15\" x2=\"132\" y2=\"27\" style=\"stroke:#aedb7aff;stroke-width:2;\" /><line x1=\"133\" y1=\"15\" x2=\"133\" y2=\"27\" style=\"stroke:#aedb79ff;stroke-width:2;\" /><line x1=\"134\" y1=\"15\" x2=\"134\" y2=\"27\" style=\"stroke:#adda79ff;stroke-width:2;\" /><line x1=\"135\" y1=\"15\" x2=\"135\" y2=\"27\" style=\"stroke:#adda78ff;stroke-width:2;\" /><line x1=\"136\" y1=\"15\" x2=\"136\" y2=\"27\" style=\"stroke:#acda77ff;stroke-width:2;\" /><line x1=\"137\" y1=\"15\" x2=\"137\" y2=\"27\" style=\"stroke:#acd977ff;stroke-width:2;\" /><line x1=\"138\" y1=\"15\" x2=\"138\" y2=\"27\" style=\"stroke:#abd976ff;stroke-width:2;\" /><line x1=\"139\" y1=\"15\" x2=\"139\" y2=\"27\" style=\"stroke:#abd976ff;stroke-width:2;\" /><line x1=\"140\" y1=\"15\" x2=\"140\" y2=\"27\" style=\"stroke:#aad875ff;stroke-width:2;\" /><line x1=\"141\" y1=\"15\" x2=\"141\" y2=\"27\" style=\"stroke:#aad874ff;stroke-width:2;\" /><line x1=\"142\" y1=\"15\" x2=\"142\" y2=\"27\" style=\"stroke:#a9d874ff;stroke-width:2;\" /><line x1=\"143\" y1=\"15\" x2=\"143\" y2=\"27\" style=\"stroke:#a9d773ff;stroke-width:2;\" /><line x1=\"144\" y1=\"15\" x2=\"144\" y2=\"27\" style=\"stroke:#a8d772ff;stroke-width:2;\" /><line x1=\"145\" y1=\"15\" x2=\"145\" y2=\"27\" style=\"stroke:#a8d772ff;stroke-width:2;\" /><line x1=\"146\" y1=\"15\" x2=\"146\" y2=\"27\" style=\"stroke:#a7d671ff;stroke-width:2;\" /><line x1=\"147\" y1=\"15\" x2=\"147\" y2=\"27\" style=\"stroke:#a7d671ff;stroke-width:2;\" /><line x1=\"148\" y1=\"15\" x2=\"148\" y2=\"27\" style=\"stroke:#a6d670ff;stroke-width:2;\" /><line x1=\"149\" y1=\"15\" x2=\"149\" y2=\"27\" style=\"stroke:#a5d56fff;stroke-width:2;\" /><line x1=\"150\" y1=\"15\" x2=\"150\" y2=\"27\" style=\"stroke:#a5d56fff;stroke-width:2;\" /><line x1=\"151\" y1=\"15\" x2=\"151\" y2=\"27\" style=\"stroke:#a4d56eff;stroke-width:2;\" /><line x1=\"152\" y1=\"15\" x2=\"152\" y2=\"27\" style=\"stroke:#a4d46dff;stroke-width:2;\" /><line x1=\"153\" y1=\"15\" x2=\"153\" y2=\"27\" style=\"stroke:#a3d46dff;stroke-width:2;\" /><line x1=\"154\" y1=\"15\" x2=\"154\" y2=\"27\" style=\"stroke:#a3d46cff;stroke-width:2;\" /><line x1=\"155\" y1=\"15\" x2=\"155\" y2=\"27\" style=\"stroke:#a2d36cff;stroke-width:2;\" /><line x1=\"156\" y1=\"15\" x2=\"156\" y2=\"27\" style=\"stroke:#a2d36bff;stroke-width:2;\" /><line x1=\"157\" y1=\"15\" x2=\"157\" y2=\"27\" style=\"stroke:#a1d36aff;stroke-width:2;\" /><line x1=\"158\" y1=\"15\" x2=\"158\" y2=\"27\" style=\"stroke:#a1d26aff;stroke-width:2;\" /><line x1=\"159\" y1=\"15\" x2=\"159\" y2=\"27\" style=\"stroke:#a0d269ff;stroke-width:2;\" /><line x1=\"160\" y1=\"15\" x2=\"160\" y2=\"27\" style=\"stroke:#a0d269ff;stroke-width:2;\" /><line x1=\"161\" y1=\"15\" x2=\"161\" y2=\"27\" style=\"stroke:#9fd168ff;stroke-width:2;\" /><line x1=\"162\" y1=\"15\" x2=\"162\" y2=\"27\" style=\"stroke:#9fd167ff;stroke-width:2;\" /><line x1=\"163\" y1=\"15\" x2=\"163\" y2=\"27\" style=\"stroke:#9ed167ff;stroke-width:2;\" /><line x1=\"164\" y1=\"15\" x2=\"164\" y2=\"27\" style=\"stroke:#9ed066ff;stroke-width:2;\" /><line x1=\"165\" y1=\"15\" x2=\"165\" y2=\"27\" style=\"stroke:#9dd065ff;stroke-width:2;\" /><line x1=\"166\" y1=\"15\" x2=\"166\" y2=\"27\" style=\"stroke:#9dd065ff;stroke-width:2;\" /><line x1=\"167\" y1=\"15\" x2=\"167\" y2=\"27\" style=\"stroke:#9ccf64ff;stroke-width:2;\" /><line x1=\"168\" y1=\"15\" x2=\"168\" y2=\"27\" style=\"stroke:#9ccf64ff;stroke-width:2;\" /><line x1=\"169\" y1=\"15\" x2=\"169\" y2=\"27\" style=\"stroke:#9bcf63ff;stroke-width:2;\" /><line x1=\"170\" y1=\"15\" x2=\"170\" y2=\"27\" style=\"stroke:#9bce62ff;stroke-width:2;\" /><line x1=\"171\" y1=\"15\" x2=\"171\" y2=\"27\" style=\"stroke:#9ace62ff;stroke-width:2;\" /><line x1=\"172\" y1=\"15\" x2=\"172\" y2=\"27\" style=\"stroke:#9ace61ff;stroke-width:2;\" /><line x1=\"173\" y1=\"15\" x2=\"173\" y2=\"27\" style=\"stroke:#99cd61ff;stroke-width:2;\" /><line x1=\"174\" y1=\"15\" x2=\"174\" y2=\"27\" style=\"stroke:#99cd60ff;stroke-width:2;\" /><line x1=\"175\" y1=\"15\" x2=\"175\" y2=\"27\" style=\"stroke:#98cd5fff;stroke-width:2;\" /><line x1=\"176\" y1=\"15\" x2=\"176\" y2=\"27\" style=\"stroke:#98cc5fff;stroke-width:2;\" /><line x1=\"177\" y1=\"15\" x2=\"177\" y2=\"27\" style=\"stroke:#97cc5eff;stroke-width:2;\" /><line x1=\"178\" y1=\"15\" x2=\"178\" y2=\"27\" style=\"stroke:#97cc5dff;stroke-width:2;\" /><line x1=\"179\" y1=\"15\" x2=\"179\" y2=\"27\" style=\"stroke:#96cb5dff;stroke-width:2;\" /><line x1=\"180\" y1=\"15\" x2=\"180\" y2=\"27\" style=\"stroke:#96cb5cff;stroke-width:2;\" /><line x1=\"181\" y1=\"15\" x2=\"181\" y2=\"27\" style=\"stroke:#95cb5cff;stroke-width:2;\" /><line x1=\"182\" y1=\"15\" x2=\"182\" y2=\"27\" style=\"stroke:#95ca5bff;stroke-width:2;\" /><line x1=\"183\" y1=\"15\" x2=\"183\" y2=\"27\" style=\"stroke:#94ca5aff;stroke-width:2;\" /><line x1=\"184\" y1=\"15\" x2=\"184\" y2=\"27\" style=\"stroke:#94ca5aff;stroke-width:2;\" /><line x1=\"185\" y1=\"15\" x2=\"185\" y2=\"27\" style=\"stroke:#93c959ff;stroke-width:2;\" /><line x1=\"186\" y1=\"15\" x2=\"186\" y2=\"27\" style=\"stroke:#93c959ff;stroke-width:2;\" /><line x1=\"187\" y1=\"15\" x2=\"187\" y2=\"27\" style=\"stroke:#92c958ff;stroke-width:2;\" /><line x1=\"188\" y1=\"15\" x2=\"188\" y2=\"27\" style=\"stroke:#92c857ff;stroke-width:2;\" /><line x1=\"189\" y1=\"15\" x2=\"189\" y2=\"27\" style=\"stroke:#91c857ff;stroke-width:2;\" /><line x1=\"190\" y1=\"15\" x2=\"190\" y2=\"27\" style=\"stroke:#91c856ff;stroke-width:2;\" /><line x1=\"191\" y1=\"15\" x2=\"191\" y2=\"27\" style=\"stroke:#90c755ff;stroke-width:2;\" /><line x1=\"192\" y1=\"15\" x2=\"192\" y2=\"27\" style=\"stroke:#90c755ff;stroke-width:2;\" /><line x1=\"193\" y1=\"15\" x2=\"193\" y2=\"27\" style=\"stroke:#8fc754ff;stroke-width:2;\" /><line x1=\"194\" y1=\"15\" x2=\"194\" y2=\"27\" style=\"stroke:#8fc654ff;stroke-width:2;\" /><line x1=\"195\" y1=\"15\" x2=\"195\" y2=\"27\" style=\"stroke:#8ec653ff;stroke-width:2;\" /><line x1=\"196\" y1=\"15\" x2=\"196\" y2=\"27\" style=\"stroke:#8ec652ff;stroke-width:2;\" /><line x1=\"197\" y1=\"15\" x2=\"197\" y2=\"27\" style=\"stroke:#8dc552ff;stroke-width:2;\" /><line x1=\"198\" y1=\"15\" x2=\"198\" y2=\"27\" style=\"stroke:#8dc551ff;stroke-width:2;\" /><line x1=\"199\" y1=\"15\" x2=\"199\" y2=\"27\" style=\"stroke:#8cc550ff;stroke-width:2;\" /><line x1=\"200\" y1=\"15\" x2=\"200\" y2=\"27\" style=\"stroke:#8bc450ff;stroke-width:2;\" /><line x1=\"201\" y1=\"15\" x2=\"201\" y2=\"27\" style=\"stroke:#8bc44fff;stroke-width:2;\" /><line x1=\"202\" y1=\"15\" x2=\"202\" y2=\"27\" style=\"stroke:#8ac44fff;stroke-width:2;\" /><line x1=\"203\" y1=\"15\" x2=\"203\" y2=\"27\" style=\"stroke:#8ac34eff;stroke-width:2;\" /><line x1=\"204\" y1=\"15\" x2=\"204\" y2=\"27\" style=\"stroke:#89c34dff;stroke-width:2;\" /><line x1=\"205\" y1=\"15\" x2=\"205\" y2=\"27\" style=\"stroke:#89c34dff;stroke-width:2;\" /><line x1=\"206\" y1=\"15\" x2=\"206\" y2=\"27\" style=\"stroke:#88c24cff;stroke-width:2;\" /><line x1=\"207\" y1=\"15\" x2=\"207\" y2=\"27\" style=\"stroke:#88c24cff;stroke-width:2;\" /><line x1=\"208\" y1=\"15\" x2=\"208\" y2=\"27\" style=\"stroke:#87c24bff;stroke-width:2;\" /><line x1=\"209\" y1=\"15\" x2=\"209\" y2=\"27\" style=\"stroke:#87c14aff;stroke-width:2;\" /><line x1=\"210\" y1=\"15\" x2=\"210\" y2=\"27\" style=\"stroke:#86c14aff;stroke-width:2;\" /><line x1=\"211\" y1=\"15\" x2=\"211\" y2=\"27\" style=\"stroke:#86c149ff;stroke-width:2;\" /><line x1=\"212\" y1=\"15\" x2=\"212\" y2=\"27\" style=\"stroke:#85c048ff;stroke-width:2;\" /><line x1=\"213\" y1=\"15\" x2=\"213\" y2=\"27\" style=\"stroke:#85c048ff;stroke-width:2;\" /><line x1=\"214\" y1=\"15\" x2=\"214\" y2=\"27\" style=\"stroke:#84c047ff;stroke-width:2;\" /><line x1=\"215\" y1=\"15\" x2=\"215\" y2=\"27\" style=\"stroke:#84bf47ff;stroke-width:2;\" /><line x1=\"216\" y1=\"15\" x2=\"216\" y2=\"27\" style=\"stroke:#83bf46ff;stroke-width:2;\" /><line x1=\"217\" y1=\"15\" x2=\"217\" y2=\"27\" style=\"stroke:#83bf45ff;stroke-width:2;\" /><line x1=\"218\" y1=\"15\" x2=\"218\" y2=\"27\" style=\"stroke:#82be45ff;stroke-width:2;\" /><line x1=\"219\" y1=\"15\" x2=\"219\" y2=\"27\" style=\"stroke:#82be44ff;stroke-width:2;\" /><line x1=\"220\" y1=\"15\" x2=\"220\" y2=\"27\" style=\"stroke:#81be44ff;stroke-width:2;\" /><line x1=\"221\" y1=\"15\" x2=\"221\" y2=\"27\" style=\"stroke:#81bd43ff;stroke-width:2;\" /><line x1=\"222\" y1=\"15\" x2=\"222\" y2=\"27\" style=\"stroke:#80bd42ff;stroke-width:2;\" /><line x1=\"223\" y1=\"15\" x2=\"223\" y2=\"27\" style=\"stroke:#80bd42ff;stroke-width:2;\" /><line x1=\"224\" y1=\"15\" x2=\"224\" y2=\"27\" style=\"stroke:#7fbc41ff;stroke-width:2;\" /><line x1=\"225\" y1=\"15\" x2=\"225\" y2=\"27\" style=\"stroke:#7fbc41ff;stroke-width:2;\" /><line x1=\"226\" y1=\"15\" x2=\"226\" y2=\"27\" style=\"stroke:#7ebc40ff;stroke-width:2;\" /><line x1=\"227\" y1=\"15\" x2=\"227\" y2=\"27\" style=\"stroke:#7ebb40ff;stroke-width:2;\" /><line x1=\"228\" y1=\"15\" x2=\"228\" y2=\"27\" style=\"stroke:#7dbb40ff;stroke-width:2;\" /><line x1=\"229\" y1=\"15\" x2=\"229\" y2=\"27\" style=\"stroke:#7dbb3fff;stroke-width:2;\" /><line x1=\"230\" y1=\"15\" x2=\"230\" y2=\"27\" style=\"stroke:#7dba3fff;stroke-width:2;\" /><line x1=\"231\" y1=\"15\" x2=\"231\" y2=\"27\" style=\"stroke:#7cba3fff;stroke-width:2;\" /><line x1=\"232\" y1=\"15\" x2=\"232\" y2=\"27\" style=\"stroke:#7cb93fff;stroke-width:2;\" /><line x1=\"233\" y1=\"15\" x2=\"233\" y2=\"27\" style=\"stroke:#7bb93eff;stroke-width:2;\" /><line x1=\"234\" y1=\"15\" x2=\"234\" y2=\"27\" style=\"stroke:#7bb93eff;stroke-width:2;\" /><line x1=\"235\" y1=\"15\" x2=\"235\" y2=\"27\" style=\"stroke:#7ab83eff;stroke-width:2;\" /><line x1=\"236\" y1=\"15\" x2=\"236\" y2=\"27\" style=\"stroke:#7ab83dff;stroke-width:2;\" /><line x1=\"237\" y1=\"15\" x2=\"237\" y2=\"27\" style=\"stroke:#79b83dff;stroke-width:2;\" /><line x1=\"238\" y1=\"15\" x2=\"238\" y2=\"27\" style=\"stroke:#79b73dff;stroke-width:2;\" /><line x1=\"239\" y1=\"15\" x2=\"239\" y2=\"27\" style=\"stroke:#79b73dff;stroke-width:2;\" /><line x1=\"240\" y1=\"15\" x2=\"240\" y2=\"27\" style=\"stroke:#78b63cff;stroke-width:2;\" /><line x1=\"241\" y1=\"15\" x2=\"241\" y2=\"27\" style=\"stroke:#78b63cff;stroke-width:2;\" /><line x1=\"242\" y1=\"15\" x2=\"242\" y2=\"27\" style=\"stroke:#77b63cff;stroke-width:2;\" /><line x1=\"243\" y1=\"15\" x2=\"243\" y2=\"27\" style=\"stroke:#77b53bff;stroke-width:2;\" /><line x1=\"244\" y1=\"15\" x2=\"244\" y2=\"27\" style=\"stroke:#76b53bff;stroke-width:2;\" /><line x1=\"245\" y1=\"15\" x2=\"245\" y2=\"27\" style=\"stroke:#76b53bff;stroke-width:2;\" /><line x1=\"246\" y1=\"15\" x2=\"246\" y2=\"27\" style=\"stroke:#75b43bff;stroke-width:2;\" /><line x1=\"247\" y1=\"15\" x2=\"247\" y2=\"27\" style=\"stroke:#75b43aff;stroke-width:2;\" /><line x1=\"248\" y1=\"15\" x2=\"248\" y2=\"27\" style=\"stroke:#74b33aff;stroke-width:2;\" /><line x1=\"249\" y1=\"15\" x2=\"249\" y2=\"27\" style=\"stroke:#74b33aff;stroke-width:2;\" /><line x1=\"250\" y1=\"15\" x2=\"250\" y2=\"27\" style=\"stroke:#74b339ff;stroke-width:2;\" /><line x1=\"251\" y1=\"15\" x2=\"251\" y2=\"27\" style=\"stroke:#73b239ff;stroke-width:2;\" /><line x1=\"252\" y1=\"15\" x2=\"252\" y2=\"27\" style=\"stroke:#73b239ff;stroke-width:2;\" /><line x1=\"253\" y1=\"15\" x2=\"253\" y2=\"27\" style=\"stroke:#72b239ff;stroke-width:2;\" /><line x1=\"254\" y1=\"15\" x2=\"254\" y2=\"27\" style=\"stroke:#72b138ff;stroke-width:2;\" /><line x1=\"255\" y1=\"15\" x2=\"255\" y2=\"27\" style=\"stroke:#71b138ff;stroke-width:2;\" /><line x1=\"256\" y1=\"15\" x2=\"256\" y2=\"27\" style=\"stroke:#71b038ff;stroke-width:2;\" /><line x1=\"257\" y1=\"15\" x2=\"257\" y2=\"27\" style=\"stroke:#70b037ff;stroke-width:2;\" /><line x1=\"258\" y1=\"15\" x2=\"258\" y2=\"27\" style=\"stroke:#70b037ff;stroke-width:2;\" /><line x1=\"259\" y1=\"15\" x2=\"259\" y2=\"27\" style=\"stroke:#70af37ff;stroke-width:2;\" /><line x1=\"260\" y1=\"15\" x2=\"260\" y2=\"27\" style=\"stroke:#6faf37ff;stroke-width:2;\" /><line x1=\"261\" y1=\"15\" x2=\"261\" y2=\"27\" style=\"stroke:#6faf36ff;stroke-width:2;\" /><line x1=\"262\" y1=\"15\" x2=\"262\" y2=\"27\" style=\"stroke:#6eae36ff;stroke-width:2;\" /><line x1=\"263\" y1=\"15\" x2=\"263\" y2=\"27\" style=\"stroke:#6eae36ff;stroke-width:2;\" /><line x1=\"264\" y1=\"15\" x2=\"264\" y2=\"27\" style=\"stroke:#6dad35ff;stroke-width:2;\" /><line x1=\"265\" y1=\"15\" x2=\"265\" y2=\"27\" style=\"stroke:#6dad35ff;stroke-width:2;\" /><line x1=\"266\" y1=\"15\" x2=\"266\" y2=\"27\" style=\"stroke:#6cad35ff;stroke-width:2;\" /><line x1=\"267\" y1=\"15\" x2=\"267\" y2=\"27\" style=\"stroke:#6cac35ff;stroke-width:2;\" /><line x1=\"268\" y1=\"15\" x2=\"268\" y2=\"27\" style=\"stroke:#6cac34ff;stroke-width:2;\" /><line x1=\"269\" y1=\"15\" x2=\"269\" y2=\"27\" style=\"stroke:#6bac34ff;stroke-width:2;\" /><line x1=\"270\" y1=\"15\" x2=\"270\" y2=\"27\" style=\"stroke:#6bab34ff;stroke-width:2;\" /><line x1=\"271\" y1=\"15\" x2=\"271\" y2=\"27\" style=\"stroke:#6aab33ff;stroke-width:2;\" /><line x1=\"272\" y1=\"15\" x2=\"272\" y2=\"27\" style=\"stroke:#6aaa33ff;stroke-width:2;\" /><line x1=\"273\" y1=\"15\" x2=\"273\" y2=\"27\" style=\"stroke:#69aa33ff;stroke-width:2;\" /><line x1=\"274\" y1=\"15\" x2=\"274\" y2=\"27\" style=\"stroke:#69aa33ff;stroke-width:2;\" /><line x1=\"275\" y1=\"15\" x2=\"275\" y2=\"27\" style=\"stroke:#68a932ff;stroke-width:2;\" /><line x1=\"276\" y1=\"15\" x2=\"276\" y2=\"27\" style=\"stroke:#68a932ff;stroke-width:2;\" /><line x1=\"277\" y1=\"15\" x2=\"277\" y2=\"27\" style=\"stroke:#68a932ff;stroke-width:2;\" /><line x1=\"278\" y1=\"15\" x2=\"278\" y2=\"27\" style=\"stroke:#67a831ff;stroke-width:2;\" /><line x1=\"279\" y1=\"15\" x2=\"279\" y2=\"27\" style=\"stroke:#67a831ff;stroke-width:2;\" /><line x1=\"280\" y1=\"15\" x2=\"280\" y2=\"27\" style=\"stroke:#66a731ff;stroke-width:2;\" /><line x1=\"281\" y1=\"15\" x2=\"281\" y2=\"27\" style=\"stroke:#66a731ff;stroke-width:2;\" /><line x1=\"282\" y1=\"15\" x2=\"282\" y2=\"27\" style=\"stroke:#65a730ff;stroke-width:2;\" /><line x1=\"283\" y1=\"15\" x2=\"283\" y2=\"27\" style=\"stroke:#65a630ff;stroke-width:2;\" /><line x1=\"284\" y1=\"15\" x2=\"284\" y2=\"27\" style=\"stroke:#64a630ff;stroke-width:2;\" /><line x1=\"285\" y1=\"15\" x2=\"285\" y2=\"27\" style=\"stroke:#64a62fff;stroke-width:2;\" /><line x1=\"286\" y1=\"15\" x2=\"286\" y2=\"27\" style=\"stroke:#63a52fff;stroke-width:2;\" /><line x1=\"287\" y1=\"15\" x2=\"287\" y2=\"27\" style=\"stroke:#63a52fff;stroke-width:2;\" /><line x1=\"288\" y1=\"15\" x2=\"288\" y2=\"27\" style=\"stroke:#63a42fff;stroke-width:2;\" /><line x1=\"289\" y1=\"15\" x2=\"289\" y2=\"27\" style=\"stroke:#62a42eff;stroke-width:2;\" /><line x1=\"290\" y1=\"15\" x2=\"290\" y2=\"27\" style=\"stroke:#62a42eff;stroke-width:2;\" /><line x1=\"291\" y1=\"15\" x2=\"291\" y2=\"27\" style=\"stroke:#61a32eff;stroke-width:2;\" /><line x1=\"292\" y1=\"15\" x2=\"292\" y2=\"27\" style=\"stroke:#61a32dff;stroke-width:2;\" /><line x1=\"293\" y1=\"15\" x2=\"293\" y2=\"27\" style=\"stroke:#60a32dff;stroke-width:2;\" /><line x1=\"294\" y1=\"15\" x2=\"294\" y2=\"27\" style=\"stroke:#60a22dff;stroke-width:2;\" /><line x1=\"295\" y1=\"15\" x2=\"295\" y2=\"27\" style=\"stroke:#5fa22dff;stroke-width:2;\" /><line x1=\"296\" y1=\"15\" x2=\"296\" y2=\"27\" style=\"stroke:#5fa12cff;stroke-width:2;\" /><line x1=\"297\" y1=\"15\" x2=\"297\" y2=\"27\" style=\"stroke:#5fa12cff;stroke-width:2;\" /><line x1=\"298\" y1=\"15\" x2=\"298\" y2=\"27\" style=\"stroke:#5ea12cff;stroke-width:2;\" /><line x1=\"299\" y1=\"15\" x2=\"299\" y2=\"27\" style=\"stroke:#5ea02bff;stroke-width:2;\" /><line x1=\"300\" y1=\"15\" x2=\"300\" y2=\"27\" style=\"stroke:#5da02bff;stroke-width:2;\" /><line x1=\"301\" y1=\"15\" x2=\"301\" y2=\"27\" style=\"stroke:#5da02bff;stroke-width:2;\" /><line x1=\"302\" y1=\"15\" x2=\"302\" y2=\"27\" style=\"stroke:#5c9f2bff;stroke-width:2;\" /><line x1=\"303\" y1=\"15\" x2=\"303\" y2=\"27\" style=\"stroke:#5c9f2aff;stroke-width:2;\" /><line x1=\"304\" y1=\"15\" x2=\"304\" y2=\"27\" style=\"stroke:#5b9e2aff;stroke-width:2;\" /><line x1=\"305\" y1=\"15\" x2=\"305\" y2=\"27\" style=\"stroke:#5b9e2aff;stroke-width:2;\" /><line x1=\"306\" y1=\"15\" x2=\"306\" y2=\"27\" style=\"stroke:#5b9e29ff;stroke-width:2;\" /><line x1=\"307\" y1=\"15\" x2=\"307\" y2=\"27\" style=\"stroke:#5a9d29ff;stroke-width:2;\" /><line x1=\"308\" y1=\"15\" x2=\"308\" y2=\"27\" style=\"stroke:#5a9d29ff;stroke-width:2;\" /><line x1=\"309\" y1=\"15\" x2=\"309\" y2=\"27\" style=\"stroke:#599c29ff;stroke-width:2;\" /><line x1=\"310\" y1=\"15\" x2=\"310\" y2=\"27\" style=\"stroke:#599c28ff;stroke-width:2;\" /><line x1=\"311\" y1=\"15\" x2=\"311\" y2=\"27\" style=\"stroke:#589c28ff;stroke-width:2;\" /><line x1=\"312\" y1=\"15\" x2=\"312\" y2=\"27\" style=\"stroke:#589b28ff;stroke-width:2;\" /><line x1=\"313\" y1=\"15\" x2=\"313\" y2=\"27\" style=\"stroke:#579b27ff;stroke-width:2;\" /><line x1=\"314\" y1=\"15\" x2=\"314\" y2=\"27\" style=\"stroke:#579b27ff;stroke-width:2;\" /><line x1=\"315\" y1=\"15\" x2=\"315\" y2=\"27\" style=\"stroke:#579a27ff;stroke-width:2;\" /><line x1=\"316\" y1=\"15\" x2=\"316\" y2=\"27\" style=\"stroke:#569a27ff;stroke-width:2;\" /><line x1=\"317\" y1=\"15\" x2=\"317\" y2=\"27\" style=\"stroke:#569926ff;stroke-width:2;\" /><line x1=\"318\" y1=\"15\" x2=\"318\" y2=\"27\" style=\"stroke:#559926ff;stroke-width:2;\" /><line x1=\"319\" y1=\"15\" x2=\"319\" y2=\"27\" style=\"stroke:#559926ff;stroke-width:2;\" /><line x1=\"320\" y1=\"15\" x2=\"320\" y2=\"27\" style=\"stroke:#549825ff;stroke-width:2;\" /><line x1=\"321\" y1=\"15\" x2=\"321\" y2=\"27\" style=\"stroke:#549825ff;stroke-width:2;\" /><line x1=\"322\" y1=\"15\" x2=\"322\" y2=\"27\" style=\"stroke:#539825ff;stroke-width:2;\" /><line x1=\"323\" y1=\"15\" x2=\"323\" y2=\"27\" style=\"stroke:#539725ff;stroke-width:2;\" /><line x1=\"324\" y1=\"15\" x2=\"324\" y2=\"27\" style=\"stroke:#539724ff;stroke-width:2;\" /><line x1=\"325\" y1=\"15\" x2=\"325\" y2=\"27\" style=\"stroke:#529624ff;stroke-width:2;\" /><line x1=\"326\" y1=\"15\" x2=\"326\" y2=\"27\" style=\"stroke:#529624ff;stroke-width:2;\" /><line x1=\"327\" y1=\"15\" x2=\"327\" y2=\"27\" style=\"stroke:#519623ff;stroke-width:2;\" /><line x1=\"328\" y1=\"15\" x2=\"328\" y2=\"27\" style=\"stroke:#519523ff;stroke-width:2;\" /><line x1=\"329\" y1=\"15\" x2=\"329\" y2=\"27\" style=\"stroke:#509523ff;stroke-width:2;\" /><line x1=\"330\" y1=\"15\" x2=\"330\" y2=\"27\" style=\"stroke:#509523ff;stroke-width:2;\" /><line x1=\"331\" y1=\"15\" x2=\"331\" y2=\"27\" style=\"stroke:#4f9422ff;stroke-width:2;\" /><line x1=\"332\" y1=\"15\" x2=\"332\" y2=\"27\" style=\"stroke:#4f9422ff;stroke-width:2;\" /><line x1=\"333\" y1=\"15\" x2=\"333\" y2=\"27\" style=\"stroke:#4e9322ff;stroke-width:2;\" /><line x1=\"334\" y1=\"15\" x2=\"334\" y2=\"27\" style=\"stroke:#4e9321ff;stroke-width:2;\" /><line x1=\"335\" y1=\"15\" x2=\"335\" y2=\"27\" style=\"stroke:#4e9321ff;stroke-width:2;\" /><line x1=\"336\" y1=\"15\" x2=\"336\" y2=\"27\" style=\"stroke:#4d9221ff;stroke-width:2;\" /><line x1=\"337\" y1=\"15\" x2=\"337\" y2=\"27\" style=\"stroke:#4d9221ff;stroke-width:2;\" /><line x1=\"338\" y1=\"15\" x2=\"338\" y2=\"27\" style=\"stroke:#4c9221ff;stroke-width:2;\" /><line x1=\"339\" y1=\"15\" x2=\"339\" y2=\"27\" style=\"stroke:#4c9120ff;stroke-width:2;\" /><line x1=\"340\" y1=\"15\" x2=\"340\" y2=\"27\" style=\"stroke:#4c9120ff;stroke-width:2;\" /><line x1=\"341\" y1=\"15\" x2=\"341\" y2=\"27\" style=\"stroke:#4b9020ff;stroke-width:2;\" /><line x1=\"342\" y1=\"15\" x2=\"342\" y2=\"27\" style=\"stroke:#4b9020ff;stroke-width:2;\" /><line x1=\"343\" y1=\"15\" x2=\"343\" y2=\"27\" style=\"stroke:#4b9020ff;stroke-width:2;\" /><line x1=\"344\" y1=\"15\" x2=\"344\" y2=\"27\" style=\"stroke:#4a8f20ff;stroke-width:2;\" /><line x1=\"345\" y1=\"15\" x2=\"345\" y2=\"27\" style=\"stroke:#4a8f20ff;stroke-width:2;\" /><line x1=\"346\" y1=\"15\" x2=\"346\" y2=\"27\" style=\"stroke:#4a8e20ff;stroke-width:2;\" /><line x1=\"347\" y1=\"15\" x2=\"347\" y2=\"27\" style=\"stroke:#498e20ff;stroke-width:2;\" /><line x1=\"348\" y1=\"15\" x2=\"348\" y2=\"27\" style=\"stroke:#498d20ff;stroke-width:2;\" /><line x1=\"349\" y1=\"15\" x2=\"349\" y2=\"27\" style=\"stroke:#498d20ff;stroke-width:2;\" /><line x1=\"350\" y1=\"15\" x2=\"350\" y2=\"27\" style=\"stroke:#488d20ff;stroke-width:2;\" /><line x1=\"351\" y1=\"15\" x2=\"351\" y2=\"27\" style=\"stroke:#488c20ff;stroke-width:2;\" /><line x1=\"352\" y1=\"15\" x2=\"352\" y2=\"27\" style=\"stroke:#488c20ff;stroke-width:2;\" /><line x1=\"353\" y1=\"15\" x2=\"353\" y2=\"27\" style=\"stroke:#478b1fff;stroke-width:2;\" /><line x1=\"354\" y1=\"15\" x2=\"354\" y2=\"27\" style=\"stroke:#478b1fff;stroke-width:2;\" /><line x1=\"355\" y1=\"15\" x2=\"355\" y2=\"27\" style=\"stroke:#478b1fff;stroke-width:2;\" /><line x1=\"356\" y1=\"15\" x2=\"356\" y2=\"27\" style=\"stroke:#468a1fff;stroke-width:2;\" /><line x1=\"357\" y1=\"15\" x2=\"357\" y2=\"27\" style=\"stroke:#468a1fff;stroke-width:2;\" /><line x1=\"358\" y1=\"15\" x2=\"358\" y2=\"27\" style=\"stroke:#46891fff;stroke-width:2;\" /><line x1=\"359\" y1=\"15\" x2=\"359\" y2=\"27\" style=\"stroke:#45891fff;stroke-width:2;\" /><line x1=\"360\" y1=\"15\" x2=\"360\" y2=\"27\" style=\"stroke:#45891fff;stroke-width:2;\" /><line x1=\"361\" y1=\"15\" x2=\"361\" y2=\"27\" style=\"stroke:#45881fff;stroke-width:2;\" /><line x1=\"362\" y1=\"15\" x2=\"362\" y2=\"27\" style=\"stroke:#44881fff;stroke-width:2;\" /><line x1=\"363\" y1=\"15\" x2=\"363\" y2=\"27\" style=\"stroke:#44871fff;stroke-width:2;\" /><line x1=\"364\" y1=\"15\" x2=\"364\" y2=\"27\" style=\"stroke:#44871fff;stroke-width:2;\" /><line x1=\"365\" y1=\"15\" x2=\"365\" y2=\"27\" style=\"stroke:#43861fff;stroke-width:2;\" /><line x1=\"366\" y1=\"15\" x2=\"366\" y2=\"27\" style=\"stroke:#43861fff;stroke-width:2;\" /><line x1=\"367\" y1=\"15\" x2=\"367\" y2=\"27\" style=\"stroke:#43861eff;stroke-width:2;\" /><line x1=\"368\" y1=\"15\" x2=\"368\" y2=\"27\" style=\"stroke:#42851eff;stroke-width:2;\" /><line x1=\"369\" y1=\"15\" x2=\"369\" y2=\"27\" style=\"stroke:#42851eff;stroke-width:2;\" /><line x1=\"370\" y1=\"15\" x2=\"370\" y2=\"27\" style=\"stroke:#42841eff;stroke-width:2;\" /><line x1=\"371\" y1=\"15\" x2=\"371\" y2=\"27\" style=\"stroke:#41841eff;stroke-width:2;\" /><line x1=\"372\" y1=\"15\" x2=\"372\" y2=\"27\" style=\"stroke:#41841eff;stroke-width:2;\" /><line x1=\"373\" y1=\"15\" x2=\"373\" y2=\"27\" style=\"stroke:#40831eff;stroke-width:2;\" /><line x1=\"374\" y1=\"15\" x2=\"374\" y2=\"27\" style=\"stroke:#40831eff;stroke-width:2;\" /><line x1=\"375\" y1=\"15\" x2=\"375\" y2=\"27\" style=\"stroke:#40821eff;stroke-width:2;\" /><line x1=\"376\" y1=\"15\" x2=\"376\" y2=\"27\" style=\"stroke:#3f821eff;stroke-width:2;\" /><line x1=\"377\" y1=\"15\" x2=\"377\" y2=\"27\" style=\"stroke:#3f821eff;stroke-width:2;\" /><line x1=\"378\" y1=\"15\" x2=\"378\" y2=\"27\" style=\"stroke:#3f811eff;stroke-width:2;\" /><line x1=\"379\" y1=\"15\" x2=\"379\" y2=\"27\" style=\"stroke:#3e811eff;stroke-width:2;\" /><line x1=\"380\" y1=\"15\" x2=\"380\" y2=\"27\" style=\"stroke:#3e801eff;stroke-width:2;\" /><line x1=\"381\" y1=\"15\" x2=\"381\" y2=\"27\" style=\"stroke:#3e801dff;stroke-width:2;\" /><line x1=\"382\" y1=\"15\" x2=\"382\" y2=\"27\" style=\"stroke:#3d7f1dff;stroke-width:2;\" /><line x1=\"383\" y1=\"15\" x2=\"383\" y2=\"27\" style=\"stroke:#3d7f1dff;stroke-width:2;\" /><line x1=\"384\" y1=\"15\" x2=\"384\" y2=\"27\" style=\"stroke:#3d7f1dff;stroke-width:2;\" /><line x1=\"385\" y1=\"15\" x2=\"385\" y2=\"27\" style=\"stroke:#3c7e1dff;stroke-width:2;\" /><line x1=\"386\" y1=\"15\" x2=\"386\" y2=\"27\" style=\"stroke:#3c7e1dff;stroke-width:2;\" /><line x1=\"387\" y1=\"15\" x2=\"387\" y2=\"27\" style=\"stroke:#3c7d1dff;stroke-width:2;\" /><line x1=\"388\" y1=\"15\" x2=\"388\" y2=\"27\" style=\"stroke:#3b7d1dff;stroke-width:2;\" /><line x1=\"389\" y1=\"15\" x2=\"389\" y2=\"27\" style=\"stroke:#3b7d1dff;stroke-width:2;\" /><line x1=\"390\" y1=\"15\" x2=\"390\" y2=\"27\" style=\"stroke:#3b7c1dff;stroke-width:2;\" /><line x1=\"391\" y1=\"15\" x2=\"391\" y2=\"27\" style=\"stroke:#3a7c1dff;stroke-width:2;\" /><line x1=\"392\" y1=\"15\" x2=\"392\" y2=\"27\" style=\"stroke:#3a7b1dff;stroke-width:2;\" /><line x1=\"393\" y1=\"15\" x2=\"393\" y2=\"27\" style=\"stroke:#3a7b1dff;stroke-width:2;\" /><line x1=\"394\" y1=\"15\" x2=\"394\" y2=\"27\" style=\"stroke:#397b1dff;stroke-width:2;\" /><line x1=\"395\" y1=\"15\" x2=\"395\" y2=\"27\" style=\"stroke:#397a1cff;stroke-width:2;\" /><line x1=\"396\" y1=\"15\" x2=\"396\" y2=\"27\" style=\"stroke:#397a1cff;stroke-width:2;\" /><line x1=\"397\" y1=\"15\" x2=\"397\" y2=\"27\" style=\"stroke:#38791cff;stroke-width:2;\" /><line x1=\"398\" y1=\"15\" x2=\"398\" y2=\"27\" style=\"stroke:#38791cff;stroke-width:2;\" /><line x1=\"399\" y1=\"15\" x2=\"399\" y2=\"27\" style=\"stroke:#38781cff;stroke-width:2;\" /><line x1=\"400\" y1=\"15\" x2=\"400\" y2=\"27\" style=\"stroke:#37781cff;stroke-width:2;\" /><line x1=\"401\" y1=\"15\" x2=\"401\" y2=\"27\" style=\"stroke:#37781cff;stroke-width:2;\" /><line x1=\"402\" y1=\"15\" x2=\"402\" y2=\"27\" style=\"stroke:#37771cff;stroke-width:2;\" /><line x1=\"403\" y1=\"15\" x2=\"403\" y2=\"27\" style=\"stroke:#36771cff;stroke-width:2;\" /><line x1=\"404\" y1=\"15\" x2=\"404\" y2=\"27\" style=\"stroke:#36761cff;stroke-width:2;\" /><line x1=\"405\" y1=\"15\" x2=\"405\" y2=\"27\" style=\"stroke:#36761cff;stroke-width:2;\" /><line x1=\"406\" y1=\"15\" x2=\"406\" y2=\"27\" style=\"stroke:#35761cff;stroke-width:2;\" /><line x1=\"407\" y1=\"15\" x2=\"407\" y2=\"27\" style=\"stroke:#35751cff;stroke-width:2;\" /><line x1=\"408\" y1=\"15\" x2=\"408\" y2=\"27\" style=\"stroke:#35751cff;stroke-width:2;\" /><line x1=\"409\" y1=\"15\" x2=\"409\" y2=\"27\" style=\"stroke:#34741bff;stroke-width:2;\" /><line x1=\"410\" y1=\"15\" x2=\"410\" y2=\"27\" style=\"stroke:#34741bff;stroke-width:2;\" /><line x1=\"411\" y1=\"15\" x2=\"411\" y2=\"27\" style=\"stroke:#34741bff;stroke-width:2;\" /><line x1=\"412\" y1=\"15\" x2=\"412\" y2=\"27\" style=\"stroke:#33731bff;stroke-width:2;\" /><line x1=\"413\" y1=\"15\" x2=\"413\" y2=\"27\" style=\"stroke:#33731bff;stroke-width:2;\" /><line x1=\"414\" y1=\"15\" x2=\"414\" y2=\"27\" style=\"stroke:#33721bff;stroke-width:2;\" /><line x1=\"415\" y1=\"15\" x2=\"415\" y2=\"27\" style=\"stroke:#32721bff;stroke-width:2;\" /><line x1=\"416\" y1=\"15\" x2=\"416\" y2=\"27\" style=\"stroke:#32711bff;stroke-width:2;\" /><line x1=\"417\" y1=\"15\" x2=\"417\" y2=\"27\" style=\"stroke:#32711bff;stroke-width:2;\" /><line x1=\"418\" y1=\"15\" x2=\"418\" y2=\"27\" style=\"stroke:#31711bff;stroke-width:2;\" /><line x1=\"419\" y1=\"15\" x2=\"419\" y2=\"27\" style=\"stroke:#31701bff;stroke-width:2;\" /><line x1=\"420\" y1=\"15\" x2=\"420\" y2=\"27\" style=\"stroke:#31701bff;stroke-width:2;\" /><line x1=\"421\" y1=\"15\" x2=\"421\" y2=\"27\" style=\"stroke:#306f1bff;stroke-width:2;\" /><line x1=\"422\" y1=\"15\" x2=\"422\" y2=\"27\" style=\"stroke:#306f1bff;stroke-width:2;\" /><line x1=\"423\" y1=\"15\" x2=\"423\" y2=\"27\" style=\"stroke:#2f6f1aff;stroke-width:2;\" /><line x1=\"424\" y1=\"15\" x2=\"424\" y2=\"27\" style=\"stroke:#2f6e1aff;stroke-width:2;\" /><line x1=\"425\" y1=\"15\" x2=\"425\" y2=\"27\" style=\"stroke:#2f6e1aff;stroke-width:2;\" /><line x1=\"426\" y1=\"15\" x2=\"426\" y2=\"27\" style=\"stroke:#2e6d1aff;stroke-width:2;\" /><line x1=\"427\" y1=\"15\" x2=\"427\" y2=\"27\" style=\"stroke:#2e6d1aff;stroke-width:2;\" /><line x1=\"428\" y1=\"15\" x2=\"428\" y2=\"27\" style=\"stroke:#2e6d1aff;stroke-width:2;\" /><line x1=\"429\" y1=\"15\" x2=\"429\" y2=\"27\" style=\"stroke:#2d6c1aff;stroke-width:2;\" /><line x1=\"430\" y1=\"15\" x2=\"430\" y2=\"27\" style=\"stroke:#2d6c1aff;stroke-width:2;\" /><line x1=\"431\" y1=\"15\" x2=\"431\" y2=\"27\" style=\"stroke:#2d6b1aff;stroke-width:2;\" /><line x1=\"432\" y1=\"15\" x2=\"432\" y2=\"27\" style=\"stroke:#2c6b1aff;stroke-width:2;\" /><line x1=\"433\" y1=\"15\" x2=\"433\" y2=\"27\" style=\"stroke:#2c6a1aff;stroke-width:2;\" /><line x1=\"434\" y1=\"15\" x2=\"434\" y2=\"27\" style=\"stroke:#2c6a1aff;stroke-width:2;\" /><line x1=\"435\" y1=\"15\" x2=\"435\" y2=\"27\" style=\"stroke:#2b6a1aff;stroke-width:2;\" /><line x1=\"436\" y1=\"15\" x2=\"436\" y2=\"27\" style=\"stroke:#2b691aff;stroke-width:2;\" /><line x1=\"437\" y1=\"15\" x2=\"437\" y2=\"27\" style=\"stroke:#2b6919ff;stroke-width:2;\" /><line x1=\"438\" y1=\"15\" x2=\"438\" y2=\"27\" style=\"stroke:#2a6819ff;stroke-width:2;\" /><line x1=\"439\" y1=\"15\" x2=\"439\" y2=\"27\" style=\"stroke:#2a6819ff;stroke-width:2;\" /><line x1=\"440\" y1=\"15\" x2=\"440\" y2=\"27\" style=\"stroke:#2a6819ff;stroke-width:2;\" /><line x1=\"441\" y1=\"15\" x2=\"441\" y2=\"27\" style=\"stroke:#296719ff;stroke-width:2;\" /><line x1=\"442\" y1=\"15\" x2=\"442\" y2=\"27\" style=\"stroke:#296719ff;stroke-width:2;\" /><line x1=\"443\" y1=\"15\" x2=\"443\" y2=\"27\" style=\"stroke:#296619ff;stroke-width:2;\" /><line x1=\"444\" y1=\"15\" x2=\"444\" y2=\"27\" style=\"stroke:#286619ff;stroke-width:2;\" /><line x1=\"445\" y1=\"15\" x2=\"445\" y2=\"27\" style=\"stroke:#286619ff;stroke-width:2;\" /><line x1=\"446\" y1=\"15\" x2=\"446\" y2=\"27\" style=\"stroke:#286519ff;stroke-width:2;\" /><line x1=\"447\" y1=\"15\" x2=\"447\" y2=\"27\" style=\"stroke:#276519ff;stroke-width:2;\" /><line x1=\"448\" y1=\"15\" x2=\"448\" y2=\"27\" style=\"stroke:#276419ff;stroke-width:2;\" /><line x1=\"449\" y1=\"15\" x2=\"449\" y2=\"27\" style=\"stroke:#276419ff;stroke-width:2;\" /><text x=\"0\" y=\"38\" style=\"text-anchor:start; font-size:11px; font:Arial\">1.6282225237449155</text><text x=\"75\" y=\"38\"; style=\"text-anchor:middle; font-size:11px; font:Arial\">72.0</text><text x=\"150\" y=\"38\"; style=\"text-anchor:middle; font-size:11px; font:Arial\">142.4</text><text x=\"225\" y=\"38\"; style=\"text-anchor:middle; font-size:11px; font:Arial\">212.8</text><text x=\"300\" y=\"38\"; style=\"text-anchor:middle; font-size:11px; font:Arial\">283.2</text><text x=\"375\" y=\"38\"; style=\"text-anchor:middle; font-size:11px; font:Arial\">353.5</text><text x=\"450\" y=\"38\" style=\"text-anchor:end; font-size:11px; font:Arial\">423.9130434782609</text><text x=\"0\" y=\"12\" style=\"font-size:11px; font:Arial\"> harvest weight change(%)</text></svg>"
            ]
          },
          "metadata": {},
          "execution_count": 11
        }
      ]
    },
    {
      "cell_type": "markdown",
      "source": [
        "FUNCTION TO STYLE THE POLYGONS"
      ],
      "metadata": {
        "id": "NmOEofaO7g2I"
      }
    },
    {
      "cell_type": "code",
      "source": [
        "def style_function(feature):\n",
        "    yield_value = feature['properties'].get('Trt-Ctr_Per_Change')\n",
        "    if yield_value is None:\n",
        "        yield_value = min_yield  # Default value for missing data (you can customize this)\n",
        "    return {\n",
        "        'fillColor': colormap(yield_value),\n",
        "        'color': 'black',\n",
        "        'fill': True,\n",
        "        'weight': 2,\n",
        "        'fillOpacity': 0.7,\n",
        "       'tooltip':f\"harvest weight change: {yield_value} %<br>Soil pH: {feature['properties'].get('Mean pH', 'N/A')}\",\n",
        "    }"
      ],
      "metadata": {
        "id": "zjyg4lmT7TLL"
      },
      "execution_count": null,
      "outputs": []
    },
    {
      "cell_type": "markdown",
      "source": [
        "Function to create a popup with information from GeoJSON properties"
      ],
      "metadata": {
        "id": "bFT3qilZ7ku1"
      }
    },
    {
      "cell_type": "code",
      "source": [
        "def popup_function(feature):\n",
        "    harvest_yield = feature['properties'].get('harvest weight change', 'N/A')\n",
        "    soil_ph = feature['properties'].get('Mean pH', 'N/A')\n",
        "    return folium.Popup(f\"harvest weight change: {harvest_yield} %<br>\"\n",
        "                        f\"Soil pH: {soil_ph}\")"
      ],
      "metadata": {
        "id": "QoEbrq0hBntM"
      },
      "execution_count": null,
      "outputs": []
    },
    {
      "cell_type": "markdown",
      "source": [
        "Add the GeoJSON layer to the map with popups"
      ],
      "metadata": {
        "id": "F7w__J1D7o-6"
      }
    },
    {
      "cell_type": "code",
      "source": [
        "geojson_layer = folium.GeoJson(\n",
        "    geojson,\n",
        "    style_function=style_function,\n",
        "    tooltip=folium.GeoJsonTooltip(fields=[\"Trt-Ctr_Per_Change\", \"Mean pH\"],\n",
        "                                  aliases=[\"harvest weight change %:\", \"Mean pH:\"]),\n",
        "    popup=folium.GeoJsonPopup(fields=[\"Trt-Ctr_Per_Change\", \"Mean pH\"],\n",
        "                              aliases=[\"harvest weight change %:\", \"Mean pH:\"]),\n",
        "    name=\"Farm Data\"\n",
        ").add_to(m)"
      ],
      "metadata": {
        "id": "2lYDSM9-Bu0v"
      },
      "execution_count": null,
      "outputs": []
    },
    {
      "cell_type": "code",
      "source": [
        "# Add title with green text and light green background\n",
        "title_html = '''\n",
        "             <h3 align=\"center\" style=\"font-size:20px; color:green; background-color:#e6f5d0;\">\n",
        "             <b>Percentage farmyield change and Soil pH Analysis</b></h3>\n",
        "             '''\n",
        "m.get_root().html.add_child(folium.Element(title_html))\n",
        "\n",
        "# Save the map with the title embedded into the HTML\n",
        "m.save('final.html')"
      ],
      "metadata": {
        "id": "1aSMjM0uKh1x"
      },
      "execution_count": null,
      "outputs": []
    },
    {
      "cell_type": "markdown",
      "source": [
        "Add Layer control to switch between basemaps\n"
      ],
      "metadata": {
        "id": "-Whbiynb7spn"
      }
    },
    {
      "cell_type": "code",
      "source": [
        "folium.LayerControl().add_to(m)"
      ],
      "metadata": {
        "colab": {
          "base_uri": "https://localhost:8080/"
        },
        "id": "kfzQ2CrT7oPi",
        "outputId": "367fbf53-ab2a-433b-a43b-7b26b747739c"
      },
      "execution_count": null,
      "outputs": [
        {
          "output_type": "execute_result",
          "data": {
            "text/plain": [
              "<folium.map.LayerControl at 0x7db0a9a91900>"
            ]
          },
          "metadata": {},
          "execution_count": 16
        }
      ]
    },
    {
      "cell_type": "markdown",
      "source": [
        "Visualize the webmap and assess the results"
      ],
      "metadata": {
        "id": "91l5Q_5f7128"
      }
    },
    {
      "cell_type": "code",
      "source": [
        "m"
      ],
      "metadata": {
        "colab": {
          "base_uri": "https://localhost:8080/"
        },
        "id": "YJoopTRd76bz",
        "outputId": "ab110288-f58c-4044-d9ec-ea2ff782aa17"
      },
      "execution_count": null,
      "outputs": [
        {
          "output_type": "execute_result",
          "data": {
            "text/plain": [
              "<folium.folium.Map at 0x7db0a9a1a020>"
            ],
            "text/html": [
              "<div style=\"width:100%;\"><div style=\"position:relative;width:100%;height:0;padding-bottom:60%;\"><span style=\"color:#565656\">Make this Notebook Trusted to load map: File -> Trust Notebook</span><iframe srcdoc=\"&lt;!DOCTYPE html&gt;\n",
              "&lt;html&gt;\n",
              "&lt;head&gt;\n",
              "    \n",
              "    &lt;meta http-equiv=&quot;content-type&quot; content=&quot;text/html; charset=UTF-8&quot; /&gt;\n",
              "    \n",
              "        &lt;script&gt;\n",
              "            L_NO_TOUCH = false;\n",
              "            L_DISABLE_3D = false;\n",
              "        &lt;/script&gt;\n",
              "    \n",
              "    &lt;style&gt;html, body {width: 100%;height: 100%;margin: 0;padding: 0;}&lt;/style&gt;\n",
              "    &lt;style&gt;#map {position:absolute;top:0;bottom:0;right:0;left:0;}&lt;/style&gt;\n",
              "    &lt;script src=&quot;https://cdn.jsdelivr.net/npm/leaflet@1.9.3/dist/leaflet.js&quot;&gt;&lt;/script&gt;\n",
              "    &lt;script src=&quot;https://code.jquery.com/jquery-3.7.1.min.js&quot;&gt;&lt;/script&gt;\n",
              "    &lt;script src=&quot;https://cdn.jsdelivr.net/npm/bootstrap@5.2.2/dist/js/bootstrap.bundle.min.js&quot;&gt;&lt;/script&gt;\n",
              "    &lt;script src=&quot;https://cdnjs.cloudflare.com/ajax/libs/Leaflet.awesome-markers/2.0.2/leaflet.awesome-markers.js&quot;&gt;&lt;/script&gt;\n",
              "    &lt;link rel=&quot;stylesheet&quot; href=&quot;https://cdn.jsdelivr.net/npm/leaflet@1.9.3/dist/leaflet.css&quot;/&gt;\n",
              "    &lt;link rel=&quot;stylesheet&quot; href=&quot;https://cdn.jsdelivr.net/npm/bootstrap@5.2.2/dist/css/bootstrap.min.css&quot;/&gt;\n",
              "    &lt;link rel=&quot;stylesheet&quot; href=&quot;https://netdna.bootstrapcdn.com/bootstrap/3.0.0/css/bootstrap-glyphicons.css&quot;/&gt;\n",
              "    &lt;link rel=&quot;stylesheet&quot; href=&quot;https://cdn.jsdelivr.net/npm/@fortawesome/fontawesome-free@6.2.0/css/all.min.css&quot;/&gt;\n",
              "    &lt;link rel=&quot;stylesheet&quot; href=&quot;https://cdnjs.cloudflare.com/ajax/libs/Leaflet.awesome-markers/2.0.2/leaflet.awesome-markers.css&quot;/&gt;\n",
              "    &lt;link rel=&quot;stylesheet&quot; href=&quot;https://cdn.jsdelivr.net/gh/python-visualization/folium/folium/templates/leaflet.awesome.rotate.min.css&quot;/&gt;\n",
              "    \n",
              "            &lt;meta name=&quot;viewport&quot; content=&quot;width=device-width,\n",
              "                initial-scale=1.0, maximum-scale=1.0, user-scalable=no&quot; /&gt;\n",
              "            &lt;style&gt;\n",
              "                #map_027150389ed8c57154e1f1d6e291246e {\n",
              "                    position: relative;\n",
              "                    width: 100.0%;\n",
              "                    height: 100.0%;\n",
              "                    left: 0.0%;\n",
              "                    top: 0.0%;\n",
              "                }\n",
              "                .leaflet-container { font-size: 1rem; }\n",
              "            &lt;/style&gt;\n",
              "        \n",
              "    &lt;script src=&quot;https://cdnjs.cloudflare.com/ajax/libs/d3/3.5.5/d3.min.js&quot;&gt;&lt;/script&gt;\n",
              "    \n",
              "                    &lt;style&gt;\n",
              "                        .foliumtooltip {\n",
              "                            \n",
              "                        }\n",
              "                       .foliumtooltip table{\n",
              "                            margin: auto;\n",
              "                        }\n",
              "                        .foliumtooltip tr{\n",
              "                            text-align: left;\n",
              "                        }\n",
              "                        .foliumtooltip th{\n",
              "                            padding: 2px; padding-right: 8px;\n",
              "                        }\n",
              "                    &lt;/style&gt;\n",
              "            \n",
              "    \n",
              "                    &lt;style&gt;\n",
              "                        .foliumpopup {\n",
              "                            margin: auto;\n",
              "                        }\n",
              "                       .foliumpopup table{\n",
              "                            margin: auto;\n",
              "                        }\n",
              "                        .foliumpopup tr{\n",
              "                            text-align: left;\n",
              "                        }\n",
              "                        .foliumpopup th{\n",
              "                            padding: 2px; padding-right: 8px;\n",
              "                        }\n",
              "                    &lt;/style&gt;\n",
              "            \n",
              "&lt;/head&gt;\n",
              "&lt;body&gt;\n",
              "    \n",
              "    \n",
              "             &lt;h3 align=&quot;center&quot; style=&quot;font-size:20px; color:green; background-color:#e6f5d0;&quot;&gt;\n",
              "             &lt;b&gt;Percentage farmyield change and Soil pH Analysis&lt;/b&gt;&lt;/h3&gt;\n",
              "             \n",
              "    \n",
              "            &lt;div class=&quot;folium-map&quot; id=&quot;map_027150389ed8c57154e1f1d6e291246e&quot; &gt;&lt;/div&gt;\n",
              "        \n",
              "&lt;/body&gt;\n",
              "&lt;script&gt;\n",
              "    \n",
              "    \n",
              "            var map_027150389ed8c57154e1f1d6e291246e = L.map(\n",
              "                &quot;map_027150389ed8c57154e1f1d6e291246e&quot;,\n",
              "                {\n",
              "                    center: [0.1072, 34.9286],\n",
              "                    crs: L.CRS.EPSG3857,\n",
              "                    zoom: 12,\n",
              "                    zoomControl: true,\n",
              "                    preferCanvas: false,\n",
              "                }\n",
              "            );\n",
              "\n",
              "            \n",
              "\n",
              "        \n",
              "    \n",
              "            var tile_layer_396d2779cf4296c64978d52d9a85b6f6 = L.tileLayer(\n",
              "                &quot;https://tile.openstreetmap.org/{z}/{x}/{y}.png&quot;,\n",
              "                {&quot;attribution&quot;: &quot;\\u0026copy; \\u003ca href=\\&quot;https://www.openstreetmap.org/copyright\\&quot;\\u003eOpenStreetMap\\u003c/a\\u003e contributors&quot;, &quot;detectRetina&quot;: false, &quot;maxNativeZoom&quot;: 19, &quot;maxZoom&quot;: 19, &quot;minZoom&quot;: 0, &quot;noWrap&quot;: false, &quot;opacity&quot;: 1, &quot;subdomains&quot;: &quot;abc&quot;, &quot;tms&quot;: false}\n",
              "            );\n",
              "        \n",
              "    \n",
              "            tile_layer_396d2779cf4296c64978d52d9a85b6f6.addTo(map_027150389ed8c57154e1f1d6e291246e);\n",
              "        \n",
              "    \n",
              "            var tile_layer_abd85491ec4ae0c889728e80de105835 = L.tileLayer(\n",
              "                &quot;https://tile.openstreetmap.org/{z}/{x}/{y}.png&quot;,\n",
              "                {&quot;attribution&quot;: &quot;\\u0026copy; \\u003ca href=\\&quot;https://www.openstreetmap.org/copyright\\&quot;\\u003eOpenStreetMap\\u003c/a\\u003e contributors&quot;, &quot;detectRetina&quot;: false, &quot;maxNativeZoom&quot;: 19, &quot;maxZoom&quot;: 19, &quot;minZoom&quot;: 0, &quot;noWrap&quot;: false, &quot;opacity&quot;: 1, &quot;subdomains&quot;: &quot;abc&quot;, &quot;tms&quot;: false}\n",
              "            );\n",
              "        \n",
              "    \n",
              "            tile_layer_abd85491ec4ae0c889728e80de105835.addTo(map_027150389ed8c57154e1f1d6e291246e);\n",
              "        \n",
              "    \n",
              "            var tile_layer_35dd6e53c3ce2895789c66f0d2776480 = L.tileLayer(\n",
              "                &quot;https://server.arcgisonline.com/ArcGIS/rest/services/World_Imagery/MapServer/tile/{z}/{y}/{x}&quot;,\n",
              "                {&quot;attribution&quot;: &quot;Tiles \\u0026copy; Esri \\u0026mdash; Source: Esri, i-cubed, USDA, USGS, AEX, GeoEye, Getmapping, Aerogrid, IGN, IGP, UPR-EGP, and the GIS User Community&quot;, &quot;detectRetina&quot;: false, &quot;maxZoom&quot;: 18, &quot;minZoom&quot;: 0, &quot;noWrap&quot;: false, &quot;opacity&quot;: 1, &quot;subdomains&quot;: &quot;abc&quot;, &quot;tms&quot;: false}\n",
              "            );\n",
              "        \n",
              "    \n",
              "            tile_layer_35dd6e53c3ce2895789c66f0d2776480.addTo(map_027150389ed8c57154e1f1d6e291246e);\n",
              "        \n",
              "    \n",
              "    var color_map_e8f0395a9ee3eb4e81f6c79debb7e843 = {};\n",
              "\n",
              "    \n",
              "    color_map_e8f0395a9ee3eb4e81f6c79debb7e843.color = d3.scale.threshold()\n",
              "              .domain([1.6282225237449155, 2.4744846899864306, 3.320746856227945, 4.167009022469461, 5.013271188710975, 5.859533354952491, 6.7057955211940055, 7.55205768743552, 8.398319853677036, 9.24458201991855, 10.090844186160066, 10.93710635240158, 11.783368518643096, 12.629630684884608, 13.475892851126124, 14.322155017367638, 15.168417183609154, 16.01467934985067, 16.860941516092186, 17.707203682333702, 18.553465848575218, 19.39972801481673, 20.245990181058247, 21.09225234729976, 21.93851451354128, 22.78477667978279, 23.631038846024303, 24.477301012265823, 25.323563178507335, 26.16982534474885, 27.016087510990364, 27.862349677231883, 28.708611843473395, 29.554874009714908, 30.401136175956427, 31.24739834219794, 32.093660508439456, 32.939922674680965, 33.78618484092249, 34.632447007164, 35.47870917340552, 36.32497133964703, 37.171233505888544, 38.01749567213006, 38.863757838371576, 39.710020004613085, 40.5562821708546, 41.402544337096124, 42.24880650333764, 43.09506866957915, 43.941330835820665, 44.78759300206218, 45.63385516830369, 46.480117334545206, 47.32637950078673, 48.172641667028245, 49.01890383326975, 49.86516599951127, 50.711428165752785, 51.557690331994294, 52.40395249823581, 53.25021466447733, 54.09647683071885, 54.94273899696036, 55.789001163201874, 56.63526332944339, 57.4815254956849, 58.327787661926415, 59.17404982816794, 60.020311994409454, 60.86657416065096, 61.71283632689248, 62.559098493133995, 63.4053606593755, 64.25162282561702, 65.09788499185854, 65.94414715810005, 66.79040932434157, 67.63667149058307, 68.48293365682459, 69.32919582306612, 70.17545798930762, 71.02172015554913, 71.86798232179065, 72.71424448803216, 73.56050665427368, 74.4067688205152, 75.25303098675671, 76.09929315299823, 76.94555531923974, 77.79181748548125, 78.63807965172278, 79.48434181796428, 80.3306039842058, 81.17686615044732, 82.02312831668883, 82.86939048293036, 83.71565264917186, 84.56191481541337, 85.40817698165489, 86.2544391478964, 87.10070131413792, 87.94696348037944, 88.79322564662095, 89.63948781286246, 90.48574997910399, 91.33201214534549, 92.178274311587, 93.02453647782853, 93.87079864407004, 94.71706081031157, 95.56332297655307, 96.40958514279458, 97.2558473090361, 98.10210947527762, 98.94837164151913, 99.79463380776065, 100.64089597400216, 101.48715814024366, 102.3334203064852, 103.1796824727267, 104.02594463896823, 104.87220680520974, 105.71846897145124, 106.56473113769277, 107.41099330393428, 108.25725547017579, 109.10351763641731, 109.94977980265882, 110.79604196890034, 111.64230413514186, 112.48856630138337, 113.33482846762487, 114.1810906338664, 115.0273528001079, 115.87361496634944, 116.71987713259095, 117.56613929883245, 118.41240146507398, 119.25866363131549, 120.104925797557, 120.95118796379852, 121.79745013004003, 122.64371229628155, 123.48997446252307, 124.33623662876458, 125.18249879500608, 126.02876096124761, 126.87502312748911, 127.72128529373065, 128.56754745997216, 129.41380962621366, 130.2600717924552, 131.1063339586967, 131.95259612493822, 132.79885829117973, 133.64512045742123, 134.49138262366276, 135.33764478990426, 136.1839069561458, 137.03016912238732, 137.8764312886288, 138.72269345487032, 139.56895562111185, 140.41521778735336, 141.2614799535949, 142.1077421198364, 142.95400428607792, 143.80026645231942, 144.64652861856095, 145.49279078480245, 146.33905295104395, 147.18531511728548, 148.031577283527, 148.87783944976852, 149.72410161601002, 150.57036378225155, 151.41662594849305, 152.26288811473458, 153.1091502809761, 153.95541244721758, 154.8016746134591, 155.64793677970064, 156.49419894594214, 157.34046111218365, 158.18672327842518, 159.03298544466668, 159.8792476109082, 160.72550977714974, 161.5717719433912, 162.41803410963274, 163.26429627587427, 164.1105584421158, 164.9568206083573, 165.8030827745988, 166.64934494084034, 167.49560710708184, 168.34186927332337, 169.18813143956487, 170.03439360580637, 170.8806557720479, 171.72691793828943, 172.57318010453093, 173.41944227077244, 174.26570443701397, 175.11196660325547, 175.958228769497, 176.80449093573853, 177.65075310198, 178.49701526822153, 179.34327743446306, 180.18953960070456, 181.03580176694607, 181.8820639331876, 182.7283260994291, 183.57458826567063, 184.42085043191216, 185.26711259815366, 186.11337476439516, 186.9596369306367, 187.80589909687822, 188.65216126311972, 189.49842342936122, 190.34468559560275, 191.19094776184426, 192.0372099280858, 192.8834720943273, 193.7297342605688, 194.57599642681032, 195.42225859305185, 196.26852075929335, 197.11478292553485, 197.96104509177638, 198.8073072580179, 199.65356942425942, 200.49983159050095, 201.34609375674242, 202.19235592298395, 203.03861808922548, 203.88488025546698, 204.73114242170848, 205.57740458795, 206.42366675419154, 207.26992892043305, 208.11619108667458, 208.96245325291608, 209.80871541915758, 210.6549775853991, 211.50123975164064, 212.34750191788214, 213.19376408412364, 214.04002625036517, 214.88628841660667, 215.7325505828482, 216.5788127490897, 217.4250749153312, 218.27133708157274, 219.11759924781427, 219.96386141405577, 220.81012358029727, 221.6563857465388, 222.5026479127803, 223.34891007902183, 224.19517224526334, 225.04143441150484, 225.88769657774637, 226.7339587439879, 227.58022091022943, 228.4264830764709, 229.27274524271243, 230.11900740895396, 230.96526957519546, 231.811531741437, 232.6577939076785, 233.50405607392, 234.35031824016153, 235.19658040640306, 236.04284257264453, 236.88910473888606, 237.7353669051276, 238.5816290713691, 239.42789123761062, 240.27415340385213, 241.12041557009363, 241.96667773633516, 242.8129399025767, 243.6592020688182, 244.5054642350597, 245.35172640130122, 246.19798856754272, 247.04425073378425, 247.89051290002575, 248.73677506626726, 249.5830372325088, 250.42929939875032, 251.27556156499185, 252.12182373123332, 252.96808589747485, 253.81434806371638, 254.66061022995788, 255.5068723961994, 256.3531345624409, 257.1993967286824, 258.0456588949239, 258.8919210611655, 259.738183227407, 260.5844453936485, 261.43070755989, 262.27696972613154, 263.12323189237304, 263.96949405861454, 264.8157562248561, 265.66201839109755, 266.50828055733905, 267.3545427235806, 268.2008048898221, 269.0470670560636, 269.89332922230517, 270.73959138854667, 271.5858535547882, 272.43211572102973, 273.27837788727123, 274.1246400535127, 274.97090221975424, 275.81716438599574, 276.66342655223724, 277.5096887184788, 278.3559508847203, 279.2022130509618, 280.04847521720336, 280.89473738344486, 281.7409995496863, 282.58726171592787, 283.43352388216937, 284.2797860484109, 285.1260482146524, 285.97231038089393, 286.8185725471355, 287.664834713377, 288.5110968796185, 289.35735904586, 290.2036212121015, 291.049883378343, 291.89614554458456, 292.74240771082606, 293.58866987706756, 294.4349320433091, 295.2811942095506, 296.1274563757921, 296.9737185420337, 297.8199807082751, 298.6662428745166, 299.5125050407582, 300.3587672069997, 301.2050293732412, 302.05129153948275, 302.89755370572425, 303.74381587196575, 304.5900780382073, 305.43634020444875, 306.28260237069026, 307.1288645369318, 307.9751267031733, 308.8213888694148, 309.6676510356564, 310.5139132018979, 311.3601753681394, 312.20643753438094, 313.0526997006224, 313.8989618668639, 314.74522403310544, 315.59148619934695, 316.43774836558845, 317.28401053183, 318.1302726980715, 318.976534864313, 319.82279703055457, 320.66905919679607, 321.5153213630375, 322.3615835292791, 323.2078456955206, 324.0541078617621, 324.90037002800364, 325.74663219424514, 326.5928943604867, 327.4391565267282, 328.2854186929697, 329.1316808592112, 329.9779430254527, 330.8242051916942, 331.67046735793576, 332.51672952417726, 333.36299169041877, 334.2092538566603, 335.0555160229018, 335.90177818914333, 336.74804035538483, 337.59430252162633, 338.44056468786783, 339.2868268541094, 340.1330890203509, 340.9793511865924, 341.82561335283395, 342.67187551907546, 343.51813768531696, 344.36439985155846, 345.21066201779996, 346.05692418404146, 346.903186350283, 347.7494485165245, 348.595710682766, 349.4419728490076, 350.2882350152491, 351.1344971814906, 351.98075934773215, 352.8270215139736, 353.6732836802151, 354.51954584645665, 355.36580801269815, 356.21207017893965, 357.0583323451812, 357.9045945114227, 358.7508566776642, 359.5971188439058, 360.4433810101472, 361.2896431763887, 362.1359053426303, 362.9821675088718, 363.8284296751133, 364.67469184135484, 365.52095400759634, 366.36721617383785, 367.2134783400794, 368.05974050632085, 368.9060026725624, 369.7522648388039, 370.5985270050454, 371.44478917128697, 372.2910513375285, 373.13731350377, 373.98357567001153, 374.82983783625303, 375.67610000249454, 376.52236216873604, 377.36862433497754, 378.21488650121904, 379.0611486674606, 379.9074108337021, 380.7536729999436, 381.59993516618516, 382.44619733242666, 383.29245949866817, 384.13872166490967, 384.98498383115117, 385.83124599739267, 386.67750816363423, 387.52377032987573, 388.37003249611723, 389.2162946623588, 390.0625568286003, 390.9088189948418, 391.7550811610833, 392.6013433273248, 393.4476054935663, 394.29386765980786, 395.14012982604936, 395.98639199229086, 396.8326541585324, 397.6789163247739, 398.5251784910154, 399.371440657257, 400.2177028234984, 401.06396498973993, 401.9102271559815, 402.756489322223, 403.6027514884645, 404.44901365470605, 405.29527582094755, 406.14153798718905, 406.9878001534306, 407.83406231967206, 408.68032448591356, 409.5265866521551, 410.3728488183966, 411.2191109846382, 412.0653731508797, 412.9116353171212, 413.75789748336274, 414.60415964960424, 415.4504218158457, 416.29668398208725, 417.14294614832875, 417.98920831457025, 418.8354704808118, 419.6817326470533, 420.5279948132948, 421.37425697953637, 422.22051914577787, 423.0667813120194, 423.9130434782609])\n",
              "              .range([&#x27;#e6f5d0ff&#x27;, &#x27;#e6f5d0ff&#x27;, &#x27;#e6f5cfff&#x27;, &#x27;#e5f5cfff&#x27;, &#x27;#e5f5ceff&#x27;, &#x27;#e5f5cdff&#x27;, &#x27;#e4f4cdff&#x27;, &#x27;#e4f4ccff&#x27;, &#x27;#e3f4ccff&#x27;, &#x27;#e3f4cbff&#x27;, &#x27;#e3f4caff&#x27;, &#x27;#e2f4caff&#x27;, &#x27;#e2f4c9ff&#x27;, &#x27;#e2f3c9ff&#x27;, &#x27;#e1f3c8ff&#x27;, &#x27;#e1f3c7ff&#x27;, &#x27;#e0f3c7ff&#x27;, &#x27;#e0f3c6ff&#x27;, &#x27;#e0f3c6ff&#x27;, &#x27;#dff2c5ff&#x27;, &#x27;#dff2c4ff&#x27;, &#x27;#dff2c4ff&#x27;, &#x27;#def2c3ff&#x27;, &#x27;#def2c3ff&#x27;, &#x27;#def2c2ff&#x27;, &#x27;#ddf1c1ff&#x27;, &#x27;#ddf1c1ff&#x27;, &#x27;#dcf1c0ff&#x27;, &#x27;#dcf1c0ff&#x27;, &#x27;#dcf1bfff&#x27;, &#x27;#dbf1beff&#x27;, &#x27;#dbf0beff&#x27;, &#x27;#dbf0bdff&#x27;, &#x27;#daf0bdff&#x27;, &#x27;#daf0bcff&#x27;, &#x27;#d9f0bbff&#x27;, &#x27;#d9f0bbff&#x27;, &#x27;#d9f0baff&#x27;, &#x27;#d8efbaff&#x27;, &#x27;#d8efb9ff&#x27;, &#x27;#d8efb8ff&#x27;, &#x27;#d7efb8ff&#x27;, &#x27;#d7efb7ff&#x27;, &#x27;#d6efb7ff&#x27;, &#x27;#d6eeb6ff&#x27;, &#x27;#d6eeb6ff&#x27;, &#x27;#d5eeb5ff&#x27;, &#x27;#d5eeb4ff&#x27;, &#x27;#d5eeb4ff&#x27;, &#x27;#d4eeb3ff&#x27;, &#x27;#d4edb3ff&#x27;, &#x27;#d4edb2ff&#x27;, &#x27;#d3edb1ff&#x27;, &#x27;#d3edb1ff&#x27;, &#x27;#d2edb0ff&#x27;, &#x27;#d2edb0ff&#x27;, &#x27;#d2ecafff&#x27;, &#x27;#d1ecaeff&#x27;, &#x27;#d1ecaeff&#x27;, &#x27;#d1ecadff&#x27;, &#x27;#d0ecadff&#x27;, &#x27;#d0ecacff&#x27;, &#x27;#cfebabff&#x27;, &#x27;#cfebabff&#x27;, &#x27;#cfebaaff&#x27;, &#x27;#ceebaaff&#x27;, &#x27;#ceeba9ff&#x27;, &#x27;#ceeba8ff&#x27;, &#x27;#cdeba8ff&#x27;, &#x27;#cdeaa7ff&#x27;, &#x27;#cceaa7ff&#x27;, &#x27;#cceaa6ff&#x27;, &#x27;#cceaa5ff&#x27;, &#x27;#cbeaa5ff&#x27;, &#x27;#cbeaa4ff&#x27;, &#x27;#cbe9a4ff&#x27;, &#x27;#cae9a3ff&#x27;, &#x27;#cae9a2ff&#x27;, &#x27;#cae9a2ff&#x27;, &#x27;#c9e9a1ff&#x27;, &#x27;#c9e9a1ff&#x27;, &#x27;#c8e8a0ff&#x27;, &#x27;#c8e89fff&#x27;, &#x27;#c8e89fff&#x27;, &#x27;#c7e89eff&#x27;, &#x27;#c7e89eff&#x27;, &#x27;#c7e89dff&#x27;, &#x27;#c6e79dff&#x27;, &#x27;#c6e79cff&#x27;, &#x27;#c5e79bff&#x27;, &#x27;#c5e79bff&#x27;, &#x27;#c5e79aff&#x27;, &#x27;#c4e79aff&#x27;, &#x27;#c4e699ff&#x27;, &#x27;#c4e698ff&#x27;, &#x27;#c3e698ff&#x27;, &#x27;#c3e697ff&#x27;, &#x27;#c2e697ff&#x27;, &#x27;#c2e696ff&#x27;, &#x27;#c2e695ff&#x27;, &#x27;#c1e595ff&#x27;, &#x27;#c1e594ff&#x27;, &#x27;#c1e594ff&#x27;, &#x27;#c0e593ff&#x27;, &#x27;#c0e592ff&#x27;, &#x27;#c0e592ff&#x27;, &#x27;#bfe491ff&#x27;, &#x27;#bfe491ff&#x27;, &#x27;#bee490ff&#x27;, &#x27;#bee48fff&#x27;, &#x27;#bee48fff&#x27;, &#x27;#bde48eff&#x27;, &#x27;#bde38eff&#x27;, &#x27;#bde38dff&#x27;, &#x27;#bce38cff&#x27;, &#x27;#bce38cff&#x27;, &#x27;#bbe38bff&#x27;, &#x27;#bbe38bff&#x27;, &#x27;#bbe28aff&#x27;, &#x27;#bae289ff&#x27;, &#x27;#bae289ff&#x27;, &#x27;#bae288ff&#x27;, &#x27;#b9e288ff&#x27;, &#x27;#b9e287ff&#x27;, &#x27;#b8e286ff&#x27;, &#x27;#b8e186ff&#x27;, &#x27;#b8e185ff&#x27;, &#x27;#b7e185ff&#x27;, &#x27;#b7e084ff&#x27;, &#x27;#b6e084ff&#x27;, &#x27;#b6e083ff&#x27;, &#x27;#b5e083ff&#x27;, &#x27;#b5df82ff&#x27;, &#x27;#b4df81ff&#x27;, &#x27;#b4df81ff&#x27;, &#x27;#b4de80ff&#x27;, &#x27;#b3de80ff&#x27;, &#x27;#b3de7fff&#x27;, &#x27;#b2dd7fff&#x27;, &#x27;#b2dd7eff&#x27;, &#x27;#b1dd7eff&#x27;, &#x27;#b1dd7dff&#x27;, &#x27;#b0dc7cff&#x27;, &#x27;#b0dc7cff&#x27;, &#x27;#afdc7bff&#x27;, &#x27;#afdb7bff&#x27;, &#x27;#aedb7aff&#x27;, &#x27;#aedb7aff&#x27;, &#x27;#aeda79ff&#x27;, &#x27;#adda79ff&#x27;, &#x27;#adda78ff&#x27;, &#x27;#acda77ff&#x27;, &#x27;#acd977ff&#x27;, &#x27;#abd976ff&#x27;, &#x27;#abd976ff&#x27;, &#x27;#aad875ff&#x27;, &#x27;#aad875ff&#x27;, &#x27;#a9d874ff&#x27;, &#x27;#a9d774ff&#x27;, &#x27;#a9d773ff&#x27;, &#x27;#a8d772ff&#x27;, &#x27;#a8d772ff&#x27;, &#x27;#a7d671ff&#x27;, &#x27;#a7d671ff&#x27;, &#x27;#a6d670ff&#x27;, &#x27;#a6d570ff&#x27;, &#x27;#a5d56fff&#x27;, &#x27;#a5d56fff&#x27;, &#x27;#a4d56eff&#x27;, &#x27;#a4d46dff&#x27;, &#x27;#a3d46dff&#x27;, &#x27;#a3d46cff&#x27;, &#x27;#a3d36cff&#x27;, &#x27;#a2d36bff&#x27;, &#x27;#a2d36bff&#x27;, &#x27;#a1d26aff&#x27;, &#x27;#a1d26aff&#x27;, &#x27;#a0d269ff&#x27;, &#x27;#a0d268ff&#x27;, &#x27;#9fd168ff&#x27;, &#x27;#9fd167ff&#x27;, &#x27;#9ed167ff&#x27;, &#x27;#9ed066ff&#x27;, &#x27;#9ed066ff&#x27;, &#x27;#9dd065ff&#x27;, &#x27;#9dcf65ff&#x27;, &#x27;#9ccf64ff&#x27;, &#x27;#9ccf63ff&#x27;, &#x27;#9bcf63ff&#x27;, &#x27;#9bce62ff&#x27;, &#x27;#9ace62ff&#x27;, &#x27;#9ace61ff&#x27;, &#x27;#99cd61ff&#x27;, &#x27;#99cd60ff&#x27;, &#x27;#98cd60ff&#x27;, &#x27;#98cc5fff&#x27;, &#x27;#98cc5eff&#x27;, &#x27;#97cc5eff&#x27;, &#x27;#97cc5dff&#x27;, &#x27;#96cb5dff&#x27;, &#x27;#96cb5cff&#x27;, &#x27;#95cb5cff&#x27;, &#x27;#95ca5bff&#x27;, &#x27;#94ca5bff&#x27;, &#x27;#94ca5aff&#x27;, &#x27;#93c959ff&#x27;, &#x27;#93c959ff&#x27;, &#x27;#92c958ff&#x27;, &#x27;#92c958ff&#x27;, &#x27;#92c857ff&#x27;, &#x27;#91c857ff&#x27;, &#x27;#91c856ff&#x27;, &#x27;#90c756ff&#x27;, &#x27;#90c755ff&#x27;, &#x27;#8fc754ff&#x27;, &#x27;#8fc754ff&#x27;, &#x27;#8ec653ff&#x27;, &#x27;#8ec653ff&#x27;, &#x27;#8dc652ff&#x27;, &#x27;#8dc552ff&#x27;, &#x27;#8dc551ff&#x27;, &#x27;#8cc551ff&#x27;, &#x27;#8cc450ff&#x27;, &#x27;#8bc44fff&#x27;, &#x27;#8bc44fff&#x27;, &#x27;#8ac44eff&#x27;, &#x27;#8ac34eff&#x27;, &#x27;#89c34dff&#x27;, &#x27;#89c34dff&#x27;, &#x27;#88c24cff&#x27;, &#x27;#88c24cff&#x27;, &#x27;#87c24bff&#x27;, &#x27;#87c14aff&#x27;, &#x27;#87c14aff&#x27;, &#x27;#86c149ff&#x27;, &#x27;#86c149ff&#x27;, &#x27;#85c048ff&#x27;, &#x27;#85c048ff&#x27;, &#x27;#84c047ff&#x27;, &#x27;#84bf47ff&#x27;, &#x27;#83bf46ff&#x27;, &#x27;#83bf45ff&#x27;, &#x27;#82be45ff&#x27;, &#x27;#82be44ff&#x27;, &#x27;#82be44ff&#x27;, &#x27;#81be43ff&#x27;, &#x27;#81bd43ff&#x27;, &#x27;#80bd42ff&#x27;, &#x27;#80bd42ff&#x27;, &#x27;#7fbc41ff&#x27;, &#x27;#7fbc41ff&#x27;, &#x27;#7ebc40ff&#x27;, &#x27;#7ebb40ff&#x27;, &#x27;#7ebb40ff&#x27;, &#x27;#7dbb40ff&#x27;, &#x27;#7dba3fff&#x27;, &#x27;#7cba3fff&#x27;, &#x27;#7cba3fff&#x27;, &#x27;#7cb93fff&#x27;, &#x27;#7bb93eff&#x27;, &#x27;#7bb93eff&#x27;, &#x27;#7ab83eff&#x27;, &#x27;#7ab83eff&#x27;, &#x27;#7ab83dff&#x27;, &#x27;#79b73dff&#x27;, &#x27;#79b73dff&#x27;, &#x27;#78b73dff&#x27;, &#x27;#78b63cff&#x27;, &#x27;#78b63cff&#x27;, &#x27;#77b63cff&#x27;, &#x27;#77b53bff&#x27;, &#x27;#76b53bff&#x27;, &#x27;#76b53bff&#x27;, &#x27;#76b43bff&#x27;, &#x27;#75b43aff&#x27;, &#x27;#75b43aff&#x27;, &#x27;#74b33aff&#x27;, &#x27;#74b33aff&#x27;, &#x27;#74b339ff&#x27;, &#x27;#73b239ff&#x27;, &#x27;#73b239ff&#x27;, &#x27;#72b239ff&#x27;, &#x27;#72b138ff&#x27;, &#x27;#72b138ff&#x27;, &#x27;#71b138ff&#x27;, &#x27;#71b038ff&#x27;, &#x27;#70b037ff&#x27;, &#x27;#70b037ff&#x27;, &#x27;#70af37ff&#x27;, &#x27;#6faf37ff&#x27;, &#x27;#6faf36ff&#x27;, &#x27;#6eae36ff&#x27;, &#x27;#6eae36ff&#x27;, &#x27;#6dae36ff&#x27;, &#x27;#6dad35ff&#x27;, &#x27;#6dad35ff&#x27;, &#x27;#6cad35ff&#x27;, &#x27;#6cac35ff&#x27;, &#x27;#6bac34ff&#x27;, &#x27;#6bac34ff&#x27;, &#x27;#6bab34ff&#x27;, &#x27;#6aab33ff&#x27;, &#x27;#6aaa33ff&#x27;, &#x27;#69aa33ff&#x27;, &#x27;#69aa33ff&#x27;, &#x27;#69a932ff&#x27;, &#x27;#68a932ff&#x27;, &#x27;#68a932ff&#x27;, &#x27;#67a832ff&#x27;, &#x27;#67a831ff&#x27;, &#x27;#67a831ff&#x27;, &#x27;#66a731ff&#x27;, &#x27;#66a731ff&#x27;, &#x27;#65a730ff&#x27;, &#x27;#65a630ff&#x27;, &#x27;#65a630ff&#x27;, &#x27;#64a630ff&#x27;, &#x27;#64a52fff&#x27;, &#x27;#63a52fff&#x27;, &#x27;#63a52fff&#x27;, &#x27;#63a42fff&#x27;, &#x27;#62a42eff&#x27;, &#x27;#62a42eff&#x27;, &#x27;#61a32eff&#x27;, &#x27;#61a32eff&#x27;, &#x27;#61a32dff&#x27;, &#x27;#60a22dff&#x27;, &#x27;#60a22dff&#x27;, &#x27;#5fa22dff&#x27;, &#x27;#5fa12cff&#x27;, &#x27;#5fa12cff&#x27;, &#x27;#5ea12cff&#x27;, &#x27;#5ea02cff&#x27;, &#x27;#5da02bff&#x27;, &#x27;#5da02bff&#x27;, &#x27;#5d9f2bff&#x27;, &#x27;#5c9f2aff&#x27;, &#x27;#5c9f2aff&#x27;, &#x27;#5b9e2aff&#x27;, &#x27;#5b9e2aff&#x27;, &#x27;#5b9e29ff&#x27;, &#x27;#5a9d29ff&#x27;, &#x27;#5a9d29ff&#x27;, &#x27;#599d29ff&#x27;, &#x27;#599c28ff&#x27;, &#x27;#599c28ff&#x27;, &#x27;#589c28ff&#x27;, &#x27;#589b28ff&#x27;, &#x27;#579b27ff&#x27;, &#x27;#579b27ff&#x27;, &#x27;#579a27ff&#x27;, &#x27;#569a27ff&#x27;, &#x27;#569a26ff&#x27;, &#x27;#559926ff&#x27;, &#x27;#559926ff&#x27;, &#x27;#559926ff&#x27;, &#x27;#549825ff&#x27;, &#x27;#549825ff&#x27;, &#x27;#539825ff&#x27;, &#x27;#539725ff&#x27;, &#x27;#539724ff&#x27;, &#x27;#529724ff&#x27;, &#x27;#529624ff&#x27;, &#x27;#519624ff&#x27;, &#x27;#519623ff&#x27;, &#x27;#519523ff&#x27;, &#x27;#509523ff&#x27;, &#x27;#509522ff&#x27;, &#x27;#4f9422ff&#x27;, &#x27;#4f9422ff&#x27;, &#x27;#4f9422ff&#x27;, &#x27;#4e9321ff&#x27;, &#x27;#4e9321ff&#x27;, &#x27;#4d9221ff&#x27;, &#x27;#4d9221ff&#x27;, &#x27;#4d9221ff&#x27;, &#x27;#4c9121ff&#x27;, &#x27;#4c9120ff&#x27;, &#x27;#4c9120ff&#x27;, &#x27;#4b9020ff&#x27;, &#x27;#4b9020ff&#x27;, &#x27;#4b9020ff&#x27;, &#x27;#4a8f20ff&#x27;, &#x27;#4a8f20ff&#x27;, &#x27;#4a8e20ff&#x27;, &#x27;#4a8e20ff&#x27;, &#x27;#498e20ff&#x27;, &#x27;#498d20ff&#x27;, &#x27;#498d20ff&#x27;, &#x27;#488d20ff&#x27;, &#x27;#488c20ff&#x27;, &#x27;#488c20ff&#x27;, &#x27;#478c1fff&#x27;, &#x27;#478b1fff&#x27;, &#x27;#478b1fff&#x27;, &#x27;#468a1fff&#x27;, &#x27;#468a1fff&#x27;, &#x27;#468a1fff&#x27;, &#x27;#46891fff&#x27;, &#x27;#45891fff&#x27;, &#x27;#45891fff&#x27;, &#x27;#45881fff&#x27;, &#x27;#44881fff&#x27;, &#x27;#44871fff&#x27;, &#x27;#44871fff&#x27;, &#x27;#43871fff&#x27;, &#x27;#43861fff&#x27;, &#x27;#43861fff&#x27;, &#x27;#42861eff&#x27;, &#x27;#42851eff&#x27;, &#x27;#42851eff&#x27;, &#x27;#42841eff&#x27;, &#x27;#41841eff&#x27;, &#x27;#41841eff&#x27;, &#x27;#41831eff&#x27;, &#x27;#40831eff&#x27;, &#x27;#40831eff&#x27;, &#x27;#40821eff&#x27;, &#x27;#3f821eff&#x27;, &#x27;#3f821eff&#x27;, &#x27;#3f811eff&#x27;, &#x27;#3f811eff&#x27;, &#x27;#3e801eff&#x27;, &#x27;#3e801dff&#x27;, &#x27;#3e801dff&#x27;, &#x27;#3d7f1dff&#x27;, &#x27;#3d7f1dff&#x27;, &#x27;#3d7f1dff&#x27;, &#x27;#3c7e1dff&#x27;, &#x27;#3c7e1dff&#x27;, &#x27;#3c7d1dff&#x27;, &#x27;#3b7d1dff&#x27;, &#x27;#3b7d1dff&#x27;, &#x27;#3b7c1dff&#x27;, &#x27;#3b7c1dff&#x27;, &#x27;#3a7c1dff&#x27;, &#x27;#3a7b1dff&#x27;, &#x27;#3a7b1dff&#x27;, &#x27;#397a1dff&#x27;, &#x27;#397a1cff&#x27;, &#x27;#397a1cff&#x27;, &#x27;#38791cff&#x27;, &#x27;#38791cff&#x27;, &#x27;#38791cff&#x27;, &#x27;#37781cff&#x27;, &#x27;#37781cff&#x27;, &#x27;#37781cff&#x27;, &#x27;#37771cff&#x27;, &#x27;#36771cff&#x27;, &#x27;#36761cff&#x27;, &#x27;#36761cff&#x27;, &#x27;#35761cff&#x27;, &#x27;#35751cff&#x27;, &#x27;#35751cff&#x27;, &#x27;#34751bff&#x27;, &#x27;#34741bff&#x27;, &#x27;#34741bff&#x27;, &#x27;#33731bff&#x27;, &#x27;#33731bff&#x27;, &#x27;#33731bff&#x27;, &#x27;#33721bff&#x27;, &#x27;#32721bff&#x27;, &#x27;#32721bff&#x27;, &#x27;#32711bff&#x27;, &#x27;#31711bff&#x27;, &#x27;#31701bff&#x27;, &#x27;#31701bff&#x27;, &#x27;#30701bff&#x27;, &#x27;#306f1bff&#x27;, &#x27;#306f1bff&#x27;, &#x27;#306f1aff&#x27;, &#x27;#2f6e1aff&#x27;, &#x27;#2f6e1aff&#x27;, &#x27;#2f6e1aff&#x27;, &#x27;#2e6d1aff&#x27;, &#x27;#2e6d1aff&#x27;, &#x27;#2e6c1aff&#x27;, &#x27;#2d6c1aff&#x27;, &#x27;#2d6c1aff&#x27;, &#x27;#2d6b1aff&#x27;, &#x27;#2c6b1aff&#x27;, &#x27;#2c6b1aff&#x27;, &#x27;#2c6a1aff&#x27;, &#x27;#2c6a1aff&#x27;, &#x27;#2b691aff&#x27;, &#x27;#2b6919ff&#x27;, &#x27;#2b6919ff&#x27;, &#x27;#2a6819ff&#x27;, &#x27;#2a6819ff&#x27;, &#x27;#2a6819ff&#x27;, &#x27;#296719ff&#x27;, &#x27;#296719ff&#x27;, &#x27;#296619ff&#x27;, &#x27;#286619ff&#x27;, &#x27;#286619ff&#x27;, &#x27;#286519ff&#x27;, &#x27;#286519ff&#x27;, &#x27;#276519ff&#x27;, &#x27;#276419ff&#x27;, &#x27;#276419ff&#x27;]);\n",
              "    \n",
              "\n",
              "    color_map_e8f0395a9ee3eb4e81f6c79debb7e843.x = d3.scale.linear()\n",
              "              .domain([1.6282225237449155, 423.9130434782609])\n",
              "              .range([0, 450 - 50]);\n",
              "\n",
              "    color_map_e8f0395a9ee3eb4e81f6c79debb7e843.legend = L.control({position: &#x27;topright&#x27;});\n",
              "    color_map_e8f0395a9ee3eb4e81f6c79debb7e843.legend.onAdd = function (map) {var div = L.DomUtil.create(&#x27;div&#x27;, &#x27;legend&#x27;); return div};\n",
              "    color_map_e8f0395a9ee3eb4e81f6c79debb7e843.legend.addTo(map_027150389ed8c57154e1f1d6e291246e);\n",
              "\n",
              "    color_map_e8f0395a9ee3eb4e81f6c79debb7e843.xAxis = d3.svg.axis()\n",
              "        .scale(color_map_e8f0395a9ee3eb4e81f6c79debb7e843.x)\n",
              "        .orient(&quot;top&quot;)\n",
              "        .tickSize(1)\n",
              "        .tickValues([1.6282225237449155, 107.1994277623739, 212.7706330010029, 318.3418382396319, 423.9130434782609]);\n",
              "\n",
              "    color_map_e8f0395a9ee3eb4e81f6c79debb7e843.svg = d3.select(&quot;.legend.leaflet-control&quot;).append(&quot;svg&quot;)\n",
              "        .attr(&quot;id&quot;, &#x27;legend&#x27;)\n",
              "        .attr(&quot;width&quot;, 450)\n",
              "        .attr(&quot;height&quot;, 40);\n",
              "\n",
              "    color_map_e8f0395a9ee3eb4e81f6c79debb7e843.g = color_map_e8f0395a9ee3eb4e81f6c79debb7e843.svg.append(&quot;g&quot;)\n",
              "        .attr(&quot;class&quot;, &quot;key&quot;)\n",
              "        .attr(&quot;transform&quot;, &quot;translate(25,16)&quot;);\n",
              "\n",
              "    color_map_e8f0395a9ee3eb4e81f6c79debb7e843.g.selectAll(&quot;rect&quot;)\n",
              "        .data(color_map_e8f0395a9ee3eb4e81f6c79debb7e843.color.range().map(function(d, i) {\n",
              "          return {\n",
              "            x0: i ? color_map_e8f0395a9ee3eb4e81f6c79debb7e843.x(color_map_e8f0395a9ee3eb4e81f6c79debb7e843.color.domain()[i - 1]) : color_map_e8f0395a9ee3eb4e81f6c79debb7e843.x.range()[0],\n",
              "            x1: i &lt; color_map_e8f0395a9ee3eb4e81f6c79debb7e843.color.domain().length ? color_map_e8f0395a9ee3eb4e81f6c79debb7e843.x(color_map_e8f0395a9ee3eb4e81f6c79debb7e843.color.domain()[i]) : color_map_e8f0395a9ee3eb4e81f6c79debb7e843.x.range()[1],\n",
              "            z: d\n",
              "          };\n",
              "        }))\n",
              "      .enter().append(&quot;rect&quot;)\n",
              "        .attr(&quot;height&quot;, 40 - 30)\n",
              "        .attr(&quot;x&quot;, function(d) { return d.x0; })\n",
              "        .attr(&quot;width&quot;, function(d) { return d.x1 - d.x0; })\n",
              "        .style(&quot;fill&quot;, function(d) { return d.z; });\n",
              "\n",
              "    color_map_e8f0395a9ee3eb4e81f6c79debb7e843.g.call(color_map_e8f0395a9ee3eb4e81f6c79debb7e843.xAxis).append(&quot;text&quot;)\n",
              "        .attr(&quot;class&quot;, &quot;caption&quot;)\n",
              "        .attr(&quot;y&quot;, 21)\n",
              "        .text(&quot; harvest weight change(%)&quot;);\n",
              "    \n",
              "        function geo_json_5352fd99d4c798bca197f067c00e52f5_styler(feature) {\n",
              "            switch(feature.properties.fid) {\n",
              "                case 1: \n",
              "                    return {&quot;color&quot;: &quot;black&quot;, &quot;fill&quot;: true, &quot;fillColor&quot;: &quot;#d7efb8ff&quot;, &quot;fillOpacity&quot;: 0.7, &quot;tooltip&quot;: &quot;harvest weight change: 36.256815190825336 %&lt;br&gt;Soil pH: 6.675&quot;, &quot;weight&quot;: 2};\n",
              "                case 2: \n",
              "                    return {&quot;color&quot;: &quot;black&quot;, &quot;fill&quot;: true, &quot;fillColor&quot;: &quot;#7ab83dff&quot;, &quot;fillOpacity&quot;: 0.7, &quot;tooltip&quot;: &quot;harvest weight change: 223.86831275720166 %&lt;br&gt;Soil pH: 7.234999999999999&quot;, &quot;weight&quot;: 2};\n",
              "                case 3: \n",
              "                    return {&quot;color&quot;: &quot;black&quot;, &quot;fill&quot;: true, &quot;fillColor&quot;: &quot;#d5eeb4ff&quot;, &quot;fillOpacity&quot;: 0.7, &quot;tooltip&quot;: &quot;harvest weight change: 41.262580054894784 %&lt;br&gt;Soil pH: 7.285&quot;, &quot;weight&quot;: 2};\n",
              "                case 4: \n",
              "                    return {&quot;color&quot;: &quot;black&quot;, &quot;fill&quot;: true, &quot;fillColor&quot;: &quot;#e6f5d0ff&quot;, &quot;fillOpacity&quot;: 0.7, &quot;tooltip&quot;: &quot;harvest weight change: 1.6282225237449155 %&lt;br&gt;Soil pH: 7.2&quot;, &quot;weight&quot;: 2};\n",
              "                case 5: \n",
              "                    return {&quot;color&quot;: &quot;black&quot;, &quot;fill&quot;: true, &quot;fillColor&quot;: &quot;#d8efb9ff&quot;, &quot;fillOpacity&quot;: 0.7, &quot;tooltip&quot;: &quot;harvest weight change: 35.257877134307336 %&lt;br&gt;Soil pH: 7.015&quot;, &quot;weight&quot;: 2};\n",
              "                case 6: \n",
              "                    return {&quot;color&quot;: &quot;black&quot;, &quot;fill&quot;: true, &quot;fillColor&quot;: &quot;#d9efbaff&quot;, &quot;fillOpacity&quot;: 0.7, &quot;tooltip&quot;: &quot;harvest weight change: 33.20533918449441 %&lt;br&gt;Soil pH: 7.255&quot;, &quot;weight&quot;: 2};\n",
              "                case 7: \n",
              "                    return {&quot;color&quot;: &quot;black&quot;, &quot;fill&quot;: true, &quot;fillColor&quot;: &quot;#d5eeb4ff&quot;, &quot;fillOpacity&quot;: 0.7, &quot;tooltip&quot;: &quot;harvest weight change: 42.19810040705562 %&lt;br&gt;Soil pH: 7.38&quot;, &quot;weight&quot;: 2};\n",
              "                case 8: \n",
              "                    return {&quot;color&quot;: &quot;black&quot;, &quot;fill&quot;: true, &quot;fillColor&quot;: &quot;#cae9a3ff&quot;, &quot;fillOpacity&quot;: 0.7, &quot;tooltip&quot;: &quot;harvest weight change: 65.9468438538206 %&lt;br&gt;Soil pH: 5.91&quot;, &quot;weight&quot;: 2};\n",
              "                case 9: \n",
              "                    return {&quot;color&quot;: &quot;black&quot;, &quot;fill&quot;: true, &quot;fillColor&quot;: &quot;#d8efb9ff&quot;, &quot;fillOpacity&quot;: 0.7, &quot;tooltip&quot;: &quot;harvest weight change: 34.41618142813361 %&lt;br&gt;Soil pH: 6.69&quot;, &quot;weight&quot;: 2};\n",
              "                case 10: \n",
              "                    return {&quot;color&quot;: &quot;black&quot;, &quot;fill&quot;: true, &quot;fillColor&quot;: &quot;#ceeba9ff&quot;, &quot;fillOpacity&quot;: 0.7, &quot;tooltip&quot;: &quot;harvest weight change: 57.19237435008665 %&lt;br&gt;Soil pH: 6.109999999999999&quot;, &quot;weight&quot;: 2};\n",
              "                case 11: \n",
              "                    return {&quot;color&quot;: &quot;black&quot;, &quot;fill&quot;: true, &quot;fillColor&quot;: &quot;#e2f3c9ff&quot;, &quot;fillOpacity&quot;: 0.7, &quot;tooltip&quot;: &quot;harvest weight change: 12.46034035188924 %&lt;br&gt;Soil pH: 6.970000000000001&quot;, &quot;weight&quot;: 2};\n",
              "                case 12: \n",
              "                    return {&quot;color&quot;: &quot;black&quot;, &quot;fill&quot;: true, &quot;fillColor&quot;: &quot;#cdeaa7ff&quot;, &quot;fillOpacity&quot;: 0.7, &quot;tooltip&quot;: &quot;harvest weight change: 59.653527491840336 %&lt;br&gt;Soil pH: 6.465&quot;, &quot;weight&quot;: 2};\n",
              "                case 13: \n",
              "                    return {&quot;color&quot;: &quot;black&quot;, &quot;fill&quot;: true, &quot;fillColor&quot;: &quot;#d2ecafff&quot;, &quot;fillOpacity&quot;: 0.7, &quot;tooltip&quot;: &quot;harvest weight change: 48.765278124220494 %&lt;br&gt;Soil pH: 6.425&quot;, &quot;weight&quot;: 2};\n",
              "                case 14: \n",
              "                    return {&quot;color&quot;: &quot;black&quot;, &quot;fill&quot;: true, &quot;fillColor&quot;: &quot;#9fd167ff&quot;, &quot;fillOpacity&quot;: 0.7, &quot;tooltip&quot;: &quot;harvest weight change: 153.9644012944984 %&lt;br&gt;Soil pH: 6.654999999999999&quot;, &quot;weight&quot;: 2};\n",
              "                case 15: \n",
              "                    return {&quot;color&quot;: &quot;black&quot;, &quot;fill&quot;: true, &quot;fillColor&quot;: &quot;#c8e8a0ff&quot;, &quot;fillOpacity&quot;: 0.7, &quot;tooltip&quot;: &quot;harvest weight change: 70.51886792452831 %&lt;br&gt;Soil pH: 6.34&quot;, &quot;weight&quot;: 2};\n",
              "                case 16: \n",
              "                    return {&quot;color&quot;: &quot;black&quot;, &quot;fill&quot;: true, &quot;fillColor&quot;: &quot;#c5e79aff&quot;, &quot;fillOpacity&quot;: 0.7, &quot;tooltip&quot;: &quot;harvest weight change: 78.86676875957122 %&lt;br&gt;Soil pH: 6.77&quot;, &quot;weight&quot;: 2};\n",
              "                case 17: \n",
              "                    return {&quot;color&quot;: &quot;black&quot;, &quot;fill&quot;: true, &quot;fillColor&quot;: &quot;#cceaa6ff&quot;, &quot;fillOpacity&quot;: 0.7, &quot;tooltip&quot;: &quot;harvest weight change: 61.91138946880074 %&lt;br&gt;Soil pH: 7.305&quot;, &quot;weight&quot;: 2};\n",
              "                case 18: \n",
              "                    return {&quot;color&quot;: &quot;black&quot;, &quot;fill&quot;: true, &quot;fillColor&quot;: &quot;#c9e9a1ff&quot;, &quot;fillOpacity&quot;: 0.7, &quot;tooltip&quot;: &quot;harvest weight change: 68.8888888888889 %&lt;br&gt;Soil pH: 5.9350000000000005&quot;, &quot;weight&quot;: 2};\n",
              "                case 19: \n",
              "                    return {&quot;color&quot;: &quot;black&quot;, &quot;fill&quot;: true, &quot;fillColor&quot;: &quot;#ddf1c1ff&quot;, &quot;fillOpacity&quot;: 0.7, &quot;tooltip&quot;: &quot;harvest weight change: 23.61111111111111 %&lt;br&gt;Soil pH: 6.175&quot;, &quot;weight&quot;: 2};\n",
              "                case 20: \n",
              "                    return {&quot;color&quot;: &quot;black&quot;, &quot;fill&quot;: true, &quot;fillColor&quot;: &quot;#a0d269ff&quot;, &quot;fillOpacity&quot;: 0.7, &quot;tooltip&quot;: &quot;harvest weight change: 152.1186440677966 %&lt;br&gt;Soil pH: 6.529999999999999&quot;, &quot;weight&quot;: 2};\n",
              "                case 21: \n",
              "                    return {&quot;color&quot;: &quot;black&quot;, &quot;fill&quot;: true, &quot;fillColor&quot;: &quot;#77b63cff&quot;, &quot;fillOpacity&quot;: 0.7, &quot;tooltip&quot;: &quot;harvest weight change: 229.21810699588477 %&lt;br&gt;Soil pH: 6.64&quot;, &quot;weight&quot;: 2};\n",
              "                case 22: \n",
              "                    return {&quot;color&quot;: &quot;black&quot;, &quot;fill&quot;: true, &quot;fillColor&quot;: &quot;#d4edb2ff&quot;, &quot;fillOpacity&quot;: 0.7, &quot;tooltip&quot;: &quot;harvest weight change: 44.31685480731803 %&lt;br&gt;Soil pH: 6.605&quot;, &quot;weight&quot;: 2};\n",
              "                case 23: \n",
              "                    return {&quot;color&quot;: &quot;black&quot;, &quot;fill&quot;: true, &quot;fillColor&quot;: &quot;#e2f4caff&quot;, &quot;fillOpacity&quot;: 0.7, &quot;tooltip&quot;: &quot;harvest weight change: 10.935023771790807 %&lt;br&gt;Soil pH: 6.33&quot;, &quot;weight&quot;: 2};\n",
              "                case 24: \n",
              "                    return {&quot;color&quot;: &quot;black&quot;, &quot;fill&quot;: true, &quot;fillColor&quot;: &quot;#d9efbaff&quot;, &quot;fillOpacity&quot;: 0.7, &quot;tooltip&quot;: &quot;harvest weight change: 32.98192771084335 %&lt;br&gt;Soil pH: 6.06&quot;, &quot;weight&quot;: 2};\n",
              "                case 25: \n",
              "                    return {&quot;color&quot;: &quot;black&quot;, &quot;fill&quot;: true, &quot;fillColor&quot;: &quot;#e3f4cbff&quot;, &quot;fillOpacity&quot;: 0.7, &quot;tooltip&quot;: &quot;harvest weight change: 9.443940767603504 %&lt;br&gt;Soil pH: 6.795&quot;, &quot;weight&quot;: 2};\n",
              "                case 26: case 27: \n",
              "                    return {&quot;color&quot;: &quot;black&quot;, &quot;fill&quot;: true, &quot;fillColor&quot;: &quot;#ddf1c1ff&quot;, &quot;fillOpacity&quot;: 0.7, &quot;tooltip&quot;: &quot;harvest weight change: 23.61111111111111 %&lt;br&gt;Soil pH: nan&quot;, &quot;weight&quot;: 2};\n",
              "                case 28: \n",
              "                    return {&quot;color&quot;: &quot;black&quot;, &quot;fill&quot;: true, &quot;fillColor&quot;: &quot;#e2f4caff&quot;, &quot;fillOpacity&quot;: 0.7, &quot;tooltip&quot;: &quot;harvest weight change: 10.657193605683837 %&lt;br&gt;Soil pH: 6.71&quot;, &quot;weight&quot;: 2};\n",
              "                case 29: \n",
              "                    return {&quot;color&quot;: &quot;black&quot;, &quot;fill&quot;: true, &quot;fillColor&quot;: &quot;#d6eeb7ff&quot;, &quot;fillOpacity&quot;: 0.7, &quot;tooltip&quot;: &quot;harvest weight change: 38.2513661202186 %&lt;br&gt;Soil pH: 6.55&quot;, &quot;weight&quot;: 2};\n",
              "                case 30: \n",
              "                    return {&quot;color&quot;: &quot;black&quot;, &quot;fill&quot;: true, &quot;fillColor&quot;: &quot;#d2ecafff&quot;, &quot;fillOpacity&quot;: 0.7, &quot;tooltip&quot;: &quot;harvest weight change: 49.086479902557855 %&lt;br&gt;Soil pH: 5.865&quot;, &quot;weight&quot;: 2};\n",
              "                case 31: \n",
              "                    return {&quot;color&quot;: &quot;black&quot;, &quot;fill&quot;: true, &quot;fillColor&quot;: &quot;#276419ff&quot;, &quot;fillOpacity&quot;: 0.7, &quot;tooltip&quot;: &quot;harvest weight change: 423.9130434782609 %&lt;br&gt;Soil pH: 6.73&quot;, &quot;weight&quot;: 2};\n",
              "                default:\n",
              "                    return {&quot;color&quot;: &quot;black&quot;, &quot;fill&quot;: true, &quot;fillColor&quot;: &quot;#d9f0bbff&quot;, &quot;fillOpacity&quot;: 0.7, &quot;tooltip&quot;: &quot;harvest weight change: 31.887201735357905 %&lt;br&gt;Soil pH: nan&quot;, &quot;weight&quot;: 2};\n",
              "            }\n",
              "        }\n",
              "\n",
              "        function geo_json_5352fd99d4c798bca197f067c00e52f5_onEachFeature(feature, layer) {\n",
              "            layer.on({\n",
              "            });\n",
              "        };\n",
              "        var geo_json_5352fd99d4c798bca197f067c00e52f5 = L.geoJson(null, {\n",
              "                onEachFeature: geo_json_5352fd99d4c798bca197f067c00e52f5_onEachFeature,\n",
              "            \n",
              "                style: geo_json_5352fd99d4c798bca197f067c00e52f5_styler,\n",
              "        });\n",
              "\n",
              "        function geo_json_5352fd99d4c798bca197f067c00e52f5_add (data) {\n",
              "            geo_json_5352fd99d4c798bca197f067c00e52f5\n",
              "                .addData(data);\n",
              "        }\n",
              "            geo_json_5352fd99d4c798bca197f067c00e52f5_add({&quot;crs&quot;: {&quot;properties&quot;: {&quot;name&quot;: &quot;urn:ogc:def:crs:OGC:1.3:CRS84&quot;}, &quot;type&quot;: &quot;name&quot;}, &quot;features&quot;: [{&quot;geometry&quot;: {&quot;coordinates&quot;: [[[[34.970969, -0.08752, 0.0], [34.970632, -0.087559, 0.0], [34.970603, -0.087249, 0.0], [34.970967, -0.087256, 0.0], [34.970969, -0.08752, 0.0]]], [[[34.971477, -0.08728, 0.0], [34.971344, -0.08748, 0.0], [34.970975, -0.087534, 0.0], [34.970983, -0.087264, 0.0], [34.971477, -0.08728, 0.0]]]], &quot;type&quot;: &quot;MultiPolygon&quot;}, &quot;properties&quot;: {&quot;Cluster_Region_x&quot;: &quot;Ombeyi&quot;, &quot;Farmer_Name&quot;: &quot;Caroline Juma&quot;, &quot;Field_Id&quot;: &quot;KO1&quot;, &quot;HvstWgt_Ctrl_kg&quot;: 106.38, &quot;HvstWgt_Trtmt_kg&quot;: 144.95, &quot;Mean pH&quot;: &quot;6.675&quot;, &quot;Trt-Ctr_Per_Change&quot;: 36.256815190825336, &quot;fid&quot;: 1}, &quot;type&quot;: &quot;Feature&quot;}, {&quot;geometry&quot;: {&quot;coordinates&quot;: [], &quot;type&quot;: &quot;MultiPolygon&quot;}, &quot;properties&quot;: {&quot;Cluster_Region_x&quot;: &quot;Ombeyi&quot;, &quot;Farmer_Name&quot;: &quot;Dorothy Atieno&quot;, &quot;Field_Id&quot;: &quot;KO2&quot;, &quot;HvstWgt_Ctrl_kg&quot;: 24.3, &quot;HvstWgt_Trtmt_kg&quot;: 78.7, &quot;Mean pH&quot;: &quot;7.234999999999999&quot;, &quot;Trt-Ctr_Per_Change&quot;: 223.86831275720166, &quot;fid&quot;: 2}, &quot;type&quot;: &quot;Feature&quot;}, {&quot;geometry&quot;: {&quot;coordinates&quot;: [[[[34.971558, -0.085696, 0.0], [34.971726, -0.085756, 0.0], [34.971639, -0.085984, 0.0], [34.971332, -0.085837, 0.0], [34.971369, -0.085632, 0.0], [34.971558, -0.085696, 0.0]]], [[[34.971325, -0.085828, 0.0], [34.970995, -0.085805, 0.0], [34.971012, -0.085574, 0.0], [34.971364, -0.085634, 0.0], [34.971325, -0.085828, 0.0]]]], &quot;type&quot;: &quot;MultiPolygon&quot;}, &quot;properties&quot;: {&quot;Cluster_Region_x&quot;: &quot;Ombeyi&quot;, &quot;Farmer_Name&quot;: &quot;Eunice Achieng&quot;, &quot;Field_Id&quot;: &quot;KO3&quot;, &quot;HvstWgt_Ctrl_kg&quot;: 32.79, &quot;HvstWgt_Trtmt_kg&quot;: 46.32, &quot;Mean pH&quot;: &quot;7.285&quot;, &quot;Trt-Ctr_Per_Change&quot;: 41.262580054894784, &quot;fid&quot;: 3}, &quot;type&quot;: &quot;Feature&quot;}, {&quot;geometry&quot;: {&quot;coordinates&quot;: [[[[34.970628, -0.087619, 0.0], [34.970528, -0.08764, 0.0], [34.97045400320763, -0.08685103420026, 0.0], [34.970453, -0.086851, 0.0], [34.970406, -0.085996, 0.0], [34.970515, -0.086005, 0.0], [34.970541, -0.086854, 0.0], [34.97053810590128, -0.086853901337544, 0.0], [34.970628, -0.087619, 0.0]]]], &quot;type&quot;: &quot;MultiPolygon&quot;}, &quot;properties&quot;: {&quot;Cluster_Region_x&quot;: &quot;Ombeyi&quot;, &quot;Farmer_Name&quot;: &quot;Everlyne Osue&quot;, &quot;Field_Id&quot;: &quot;KO4&quot;, &quot;HvstWgt_Ctrl_kg&quot;: 36.85, &quot;HvstWgt_Trtmt_kg&quot;: 37.45, &quot;Mean pH&quot;: &quot;7.2&quot;, &quot;Trt-Ctr_Per_Change&quot;: 1.6282225237449155, &quot;fid&quot;: 4}, &quot;type&quot;: &quot;Feature&quot;}, {&quot;geometry&quot;: {&quot;coordinates&quot;: [[[[34.976398, -0.085118, 0.0], [34.976152, -0.085178, 0.0], [34.976048, -0.084245, 0.0], [34.97623714634146, -0.084232390243902, 0.0], [34.976038, -0.084238, 0.0], [34.975902, -0.083516, 0.0], [34.976077, -0.083464, 0.0], [34.976251, -0.084232, 0.0], [34.976243039230575, -0.084232224247026, 0.0], [34.976398, -0.085118, 0.0]]]], &quot;type&quot;: &quot;MultiPolygon&quot;}, &quot;properties&quot;: {&quot;Cluster_Region_x&quot;: &quot;Ombeyi&quot;, &quot;Farmer_Name&quot;: &quot;Pamella Atieno&quot;, &quot;Field_Id&quot;: &quot;KO6&quot;, &quot;HvstWgt_Ctrl_kg&quot;: 56.81, &quot;HvstWgt_Trtmt_kg&quot;: 76.84, &quot;Mean pH&quot;: &quot;7.015&quot;, &quot;Trt-Ctr_Per_Change&quot;: 35.257877134307336, &quot;fid&quot;: 5}, &quot;type&quot;: &quot;Feature&quot;}, {&quot;geometry&quot;: {&quot;coordinates&quot;: [[[[34.968819, -0.085141, 0.0], [34.9683343, -0.0852267, 0.0], [34.9682913, -0.0847017, 0.0], [34.9687672, -0.0846901, 0.0], [34.968819, -0.085141, 0.0]]], [[[34.9682963, -0.0846904, 0.0], [34.9681483, -0.0839284, 0.0], [34.9683273, -0.0837904, 0.0], [34.9684123, -0.0842464, 0.0], [34.9687019, -0.084189, 0.0], [34.9687672, -0.0846874, 0.0], [34.9682963, -0.0846904, 0.0]]]], &quot;type&quot;: &quot;MultiPolygon&quot;}, &quot;properties&quot;: {&quot;Cluster_Region_x&quot;: &quot;Ombeyi&quot;, &quot;Farmer_Name&quot;: &quot;Wilkister Achieng&quot;, &quot;Field_Id&quot;: &quot;KO9&quot;, &quot;HvstWgt_Ctrl_kg&quot;: 54.69, &quot;HvstWgt_Trtmt_kg&quot;: 72.85, &quot;Mean pH&quot;: &quot;7.255&quot;, &quot;Trt-Ctr_Per_Change&quot;: 33.20533918449441, &quot;fid&quot;: 6}, &quot;type&quot;: &quot;Feature&quot;}, {&quot;geometry&quot;: {&quot;coordinates&quot;: [[[[34.97185, -0.086492, 0.0], [34.971741, -0.086733, 0.0], [34.971034, -0.086446, 0.0], [34.971199, -0.086187, 0.0], [34.97185, -0.086492, 0.0]]], [[[34.971321, -0.085839, 0.0], [34.971682, -0.086059, 0.0], [34.97194, -0.086219, 0.0], [34.971854, -0.086466, 0.0], [34.971204, -0.086165, 0.0], [34.971321, -0.085839, 0.0]]]], &quot;type&quot;: &quot;MultiPolygon&quot;}, &quot;properties&quot;: {&quot;Cluster_Region_x&quot;: &quot;Ombeyi&quot;, &quot;Farmer_Name&quot;: &quot;Zilpa Atieno Otula&quot;, &quot;Field_Id&quot;: &quot;KO10&quot;, &quot;HvstWgt_Ctrl_kg&quot;: 36.85, &quot;HvstWgt_Trtmt_kg&quot;: 52.4, &quot;Mean pH&quot;: &quot;7.38&quot;, &quot;Trt-Ctr_Per_Change&quot;: 42.19810040705562, &quot;fid&quot;: 7}, &quot;type&quot;: &quot;Feature&quot;}, {&quot;geometry&quot;: {&quot;coordinates&quot;: [[[[34.9817591, -0.0870183, 0.0], [34.981681, -0.08718, 0.0], [34.981218, -0.087176, 0.0], [34.98104790513508, -0.087104245861749, 0.0], [34.9809973, -0.0871159, 0.0], [34.9809153, -0.0869839, 0.0], [34.9812913, -0.0869199, 0.0], [34.9816363, -0.0868519, 0.0], [34.9817813, -0.0868289, 0.0], [34.9818063, -0.0868739, 0.0], [34.9818093, -0.0869289, 0.0], [34.98105768323873, -0.08710199400783, 0.0], [34.9817591, -0.0870183, 0.0]]]], &quot;type&quot;: &quot;MultiPolygon&quot;}, &quot;properties&quot;: {&quot;Cluster_Region_x&quot;: &quot;Ombeyi&quot;, &quot;Farmer_Name&quot;: &quot;Irene Atieno Onaka&quot;, &quot;Field_Id&quot;: &quot;KO11&quot;, &quot;HvstWgt_Ctrl_kg&quot;: 30.1, &quot;HvstWgt_Trtmt_kg&quot;: 49.95, &quot;Mean pH&quot;: &quot;5.91&quot;, &quot;Trt-Ctr_Per_Change&quot;: 65.9468438538206, &quot;fid&quot;: 8}, &quot;type&quot;: &quot;Feature&quot;}, {&quot;geometry&quot;: {&quot;coordinates&quot;: [[[[34.9792802, -0.0810608, 0.0], [34.9792312, -0.0808458, 0.0], [34.9792322, -0.0808438, 0.0], [34.9792152, -0.0808498, 0.0], [34.9792032, -0.0808558, 0.0], [34.9791982, -0.0808578, 0.0], [34.9791892, -0.0808638, 0.0], [34.9791822, -0.0808678, 0.0], [34.9791712, -0.0808748, 0.0], [34.9791642, -0.0808808, 0.0], [34.9791382, -0.0808888, 0.0], [34.9791192, -0.0808978, 0.0], [34.9791022, -0.0809048, 0.0], [34.9790922, -0.0809098, 0.0], [34.9790882, -0.0809118, 0.0], [34.9790922, -0.0809288, 0.0], [34.9790972, -0.0809378, 0.0], [34.9791012, -0.0809418, 0.0], [34.9791042, -0.0809508, 0.0], [34.9790982, -0.0809648, 0.0], [34.9790972, -0.0809678, 0.0], [34.9790962, -0.0809748, 0.0], [34.9790972, -0.0809868, 0.0], [34.9791002, -0.0809968, 0.0], [34.9791022, -0.0810078, 0.0], [34.9791052, -0.0810148, 0.0], [34.9791042, -0.0810248, 0.0], [34.9791062, -0.0810358, 0.0], [34.9791112, -0.0810488, 0.0], [34.9791142, -0.0810608, 0.0], [34.9791102, -0.0810738, 0.0], [34.9791092, -0.0810808, 0.0], [34.9791182, -0.0810808, 0.0], [34.9791272, -0.0810758, 0.0], [34.9791432, -0.0810708, 0.0], [34.9791702, -0.0810708, 0.0], [34.9791832, -0.0810688, 0.0], [34.9792102, -0.0810718, 0.0], [34.9792342, -0.0810728, 0.0], [34.9792372, -0.0810738, 0.0], [34.9792482, -0.0810738, 0.0], [34.9792592, -0.0810688, 0.0], [34.9792732, -0.0810708, 0.0], [34.9792782, -0.0810638, 0.0], [34.9792802, -0.0810608, 0.0]]]], &quot;type&quot;: &quot;MultiPolygon&quot;}, &quot;properties&quot;: {&quot;Cluster_Region_x&quot;: &quot;Ombeyi&quot;, &quot;Farmer_Name&quot;: &quot;Lucy AchiengOtieno&quot;, &quot;Field_Id&quot;: &quot;KO17&quot;, &quot;HvstWgt_Ctrl_kg&quot;: 32.63, &quot;HvstWgt_Trtmt_kg&quot;: 43.86, &quot;Mean pH&quot;: &quot;6.69&quot;, &quot;Trt-Ctr_Per_Change&quot;: 34.41618142813361, &quot;fid&quot;: 9}, &quot;type&quot;: &quot;Feature&quot;}, {&quot;geometry&quot;: {&quot;coordinates&quot;: [], &quot;type&quot;: &quot;MultiPolygon&quot;}, &quot;properties&quot;: {&quot;Cluster_Region_x&quot;: &quot;Ombeyi&quot;, &quot;Farmer_Name&quot;: &quot;Mary Okwiri&quot;, &quot;Field_Id&quot;: &quot;KO19&quot;, &quot;HvstWgt_Ctrl_kg&quot;: 28.85, &quot;HvstWgt_Trtmt_kg&quot;: 45.35, &quot;Mean pH&quot;: &quot;6.109999999999999&quot;, &quot;Trt-Ctr_Per_Change&quot;: 57.19237435008665, &quot;fid&quot;: 10}, &quot;type&quot;: &quot;Feature&quot;}, {&quot;geometry&quot;: {&quot;coordinates&quot;: [], &quot;type&quot;: &quot;MultiPolygon&quot;}, &quot;properties&quot;: {&quot;Cluster_Region_x&quot;: &quot;Ombeyi&quot;, &quot;Farmer_Name&quot;: &quot;Millicent Achieng Owiti&quot;, &quot;Field_Id&quot;: &quot;KO20&quot;, &quot;HvstWgt_Ctrl_kg&quot;: 69.34, &quot;HvstWgt_Trtmt_kg&quot;: 77.98, &quot;Mean pH&quot;: &quot;6.970000000000001&quot;, &quot;Trt-Ctr_Per_Change&quot;: 12.46034035188924, &quot;fid&quot;: 11}, &quot;type&quot;: &quot;Feature&quot;}, {&quot;geometry&quot;: {&quot;coordinates&quot;: [[[[34.9802534, -0.0918098, 0.0], [34.9800721, -0.0919854, 0.0], [34.9798661, -0.0918885, 0.0], [34.9799654, -0.0916518, 0.0], [34.9802534, -0.0918098, 0.0]]], [[[34.97978, -0.091566, 0.0], [34.979796, -0.091576, 0.0], [34.979806, -0.091578, 0.0], [34.97982, -0.09158, 0.0], [34.979828, -0.091584, 0.0], [34.979849, -0.091594, 0.0], [34.979867, -0.091602, 0.0], [34.979886, -0.091612, 0.0], [34.979895, -0.091614, 0.0], [34.979913, -0.091623, 0.0], [34.979926, -0.091629, 0.0], [34.979953, -0.091635, 0.0], [34.97996, -0.091648, 0.0], [34.979952, -0.091667, 0.0], [34.979943, -0.091672, 0.0], [34.979939, -0.091673, 0.0], [34.979937, -0.091683, 0.0], [34.979933, -0.091698, 0.0], [34.979926, -0.091708, 0.0], [34.979925, -0.091715, 0.0], [34.97992, -0.091726, 0.0], [34.979918, -0.091734, 0.0], [34.979911, -0.091743, 0.0], [34.979906, -0.091755, 0.0], [34.979903, -0.091762, 0.0], [34.979898, -0.091776, 0.0], [34.979893, -0.091785, 0.0], [34.979881, -0.091802, 0.0], [34.979875, -0.091816, 0.0], [34.97987, -0.091832, 0.0], [34.979864, -0.091853, 0.0], [34.979855, -0.091863, 0.0], [34.97985, -0.091872, 0.0], [34.979844, -0.091873, 0.0], [34.979832, -0.09187, 0.0], [34.979821, -0.091862, 0.0], [34.979809, -0.091863, 0.0], [34.979802, -0.091856, 0.0], [34.979788, -0.091853, 0.0], [34.979782, -0.091844, 0.0], [34.979773, -0.091838, 0.0], [34.979766, -0.09183, 0.0], [34.979746, -0.091821, 0.0], [34.979731, -0.09182, 0.0], [34.979713, -0.091809, 0.0], [34.9797, -0.091798, 0.0], [34.979703, -0.09179, 0.0], [34.979709, -0.091782, 0.0], [34.979716, -0.091767, 0.0], [34.979718, -0.091757, 0.0], [34.979716, -0.091742, 0.0], [34.97972, -0.091725, 0.0], [34.979717, -0.091713, 0.0], [34.979719, -0.091703, 0.0], [34.979712, -0.091692, 0.0], [34.979724, -0.091694, 0.0], [34.97973, -0.091702, 0.0], [34.979735, -0.091715, 0.0], [34.979738, -0.091716, 0.0], [34.979743, -0.091698, 0.0], [34.97974, -0.091679, 0.0], [34.979751, -0.091664, 0.0], [34.979758, -0.091659, 0.0], [34.979761, -0.091651, 0.0], [34.979763, -0.091637, 0.0], [34.979767, -0.091625, 0.0], [34.979778, -0.091614, 0.0], [34.979782, -0.091607, 0.0], [34.979779, -0.091605, 0.0], [34.979777, -0.091597, 0.0], [34.97978, -0.091566, 0.0]]]], &quot;type&quot;: &quot;MultiPolygon&quot;}, &quot;properties&quot;: {&quot;Cluster_Region_x&quot;: &quot;Ombeyi&quot;, &quot;Farmer_Name&quot;: &quot;Peres Odoyo Obong\\u0027o&quot;, &quot;Field_Id&quot;: &quot;KO22&quot;, &quot;HvstWgt_Ctrl_kg&quot;: 39.83, &quot;HvstWgt_Trtmt_kg&quot;: 63.59, &quot;Mean pH&quot;: &quot;6.465&quot;, &quot;Trt-Ctr_Per_Change&quot;: 59.653527491840336, &quot;fid&quot;: 12}, &quot;type&quot;: &quot;Feature&quot;}, {&quot;geometry&quot;: {&quot;coordinates&quot;: [[[[34.9802785, -0.0908258, 0.0], [34.98039, -0.090891, 0.0], [34.980066, -0.091431, 0.0], [34.979999, -0.09139, 0.0], [34.9802785, -0.0908258, 0.0]]], [[[34.980003, -0.091375, 0.0], [34.980002, -0.09138, 0.0], [34.979995, -0.091375, 0.0], [34.979972, -0.091363, 0.0], [34.979954, -0.091352, 0.0], [34.979933, -0.091342, 0.0], [34.979924, -0.091335, 0.0], [34.979924, -0.091328, 0.0], [34.97993, -0.091315, 0.0], [34.979937, -0.091294, 0.0], [34.979945, -0.091275, 0.0], [34.979949, -0.091263, 0.0], [34.979957, -0.091239, 0.0], [34.979965, -0.091213, 0.0], [34.97997, -0.091202, 0.0], [34.979977, -0.091192, 0.0], [34.979983, -0.091178, 0.0], [34.979984, -0.09117, 0.0], [34.979992, -0.091149, 0.0], [34.980002, -0.091129, 0.0], [34.980015, -0.091103, 0.0], [34.980019, -0.091098, 0.0], [34.980024, -0.09109, 0.0], [34.980022, -0.091077, 0.0], [34.980021, -0.091067, 0.0], [34.980025, -0.091055, 0.0], [34.980034, -0.091033, 0.0], [34.980035, -0.091022, 0.0], [34.980041, -0.091011, 0.0], [34.980053, -0.090997, 0.0], [34.98006, -0.090992, 0.0], [34.980057, -0.090987, 0.0], [34.980056, -0.090979, 0.0], [34.980066, -0.090958, 0.0], [34.980067, -0.090942, 0.0], [34.980068, -0.090931, 0.0], [34.980075, -0.090907, 0.0], [34.980082, -0.090893, 0.0], [34.980082, -0.090882, 0.0], [34.980094, -0.090875, 0.0], [34.980103, -0.090872, 0.0], [34.980105, -0.090865, 0.0], [34.980092, -0.090857, 0.0], [34.980087, -0.090833, 0.0], [34.98009, -0.090821, 0.0], [34.980085, -0.09081, 0.0], [34.9801, -0.090775, 0.0], [34.980106, -0.090768, 0.0], [34.980113, -0.090766, 0.0], [34.980119, -0.090769, 0.0], [34.980128, -0.090773, 0.0], [34.980145, -0.090781, 0.0], [34.980159, -0.090784, 0.0], [34.98017, -0.090788, 0.0], [34.980179, -0.090795, 0.0], [34.980186, -0.090804, 0.0], [34.9802, -0.090815, 0.0], [34.980211, -0.090821, 0.0], [34.980221, -0.090822, 0.0], [34.980236, -0.090822, 0.0], [34.980246, -0.090825, 0.0], [34.980256, -0.090828, 0.0], [34.980261, -0.09083, 0.0], [34.980271, -0.090835, 0.0], [34.980003, -0.091375, 0.0]]]], &quot;type&quot;: &quot;MultiPolygon&quot;}, &quot;properties&quot;: {&quot;Cluster_Region_x&quot;: &quot;Ombeyi&quot;, &quot;Farmer_Name&quot;: &quot;Risper Awuor&quot;, &quot;Field_Id&quot;: &quot;KO23&quot;, &quot;HvstWgt_Ctrl_kg&quot;: 40.09, &quot;HvstWgt_Trtmt_kg&quot;: 59.64, &quot;Mean pH&quot;: &quot;6.425&quot;, &quot;Trt-Ctr_Per_Change&quot;: 48.765278124220494, &quot;fid&quot;: 13}, &quot;type&quot;: &quot;Feature&quot;}, {&quot;geometry&quot;: {&quot;coordinates&quot;: [], &quot;type&quot;: &quot;MultiPolygon&quot;}, &quot;properties&quot;: {&quot;Cluster_Region_x&quot;: &quot;Ombeyi&quot;, &quot;Farmer_Name&quot;: &quot;Rose Achieng Okoth&quot;, &quot;Field_Id&quot;: &quot;KO24&quot;, &quot;HvstWgt_Ctrl_kg&quot;: 12.36, &quot;HvstWgt_Trtmt_kg&quot;: 31.39, &quot;Mean pH&quot;: &quot;6.654999999999999&quot;, &quot;Trt-Ctr_Per_Change&quot;: 153.9644012944984, &quot;fid&quot;: 14}, &quot;type&quot;: &quot;Feature&quot;}, {&quot;geometry&quot;: {&quot;coordinates&quot;: [[[[34.966714, -0.226543, 0.0], [34.966634, -0.226475, 0.0], [34.966788, -0.226306, 0.0], [34.96691, -0.225798, 0.0], [34.967109, -0.225871, 0.0], [34.966714, -0.226543, 0.0]]], [[[34.966927, -0.225633, 0.0], [34.966998, -0.225376, 0.0], [34.967233, -0.225558, 0.0], [34.967127, -0.225854, 0.0], [34.966927, -0.225633, 0.0]]]], &quot;type&quot;: &quot;MultiPolygon&quot;}, &quot;properties&quot;: {&quot;Cluster_Region_x&quot;: &quot;Wawidhi&quot;, &quot;Farmer_Name&quot;: &quot;Caren Kiarie&quot;, &quot;Field_Id&quot;: &quot;KW1&quot;, &quot;HvstWgt_Ctrl_kg&quot;: 42.4, &quot;HvstWgt_Trtmt_kg&quot;: 72.3, &quot;Mean pH&quot;: &quot;6.34&quot;, &quot;Trt-Ctr_Per_Change&quot;: 70.51886792452831, &quot;fid&quot;: 15}, &quot;type&quot;: &quot;Feature&quot;}, {&quot;geometry&quot;: {&quot;coordinates&quot;: [[[[34.969327, -0.229108, 0.0], [34.969155, -0.229106, 0.0], [34.969378, -0.228579, 0.0], [34.969387, -0.228565, 0.0], [34.96939, -0.228549, 0.0], [34.969397, -0.228535, 0.0], [34.969402, -0.228519, 0.0], [34.969406, -0.228504, 0.0], [34.969411, -0.228491, 0.0], [34.969417, -0.22848, 0.0], [34.969425, -0.228465, 0.0], [34.969428, -0.228445, 0.0], [34.969432, -0.22843, 0.0], [34.969436, -0.228413, 0.0], [34.969445, -0.228399, 0.0], [34.969452, -0.228376, 0.0], [34.96946, -0.228361, 0.0], [34.969463, -0.228343, 0.0], [34.969466, -0.228321, 0.0], [34.969476, -0.2283, 0.0], [34.969493, -0.228273, 0.0], [34.96951, -0.228229, 0.0], [34.969522, -0.228203, 0.0], [34.969529, -0.228179, 0.0], [34.969538, -0.228157, 0.0], [34.969549, -0.228137, 0.0], [34.969562, -0.228119, 0.0], [34.969562, -0.228096, 0.0], [34.969565, -0.228074, 0.0], [34.969572, -0.228054, 0.0], [34.969581, -0.228036, 0.0], [34.969586, -0.228019, 0.0], [34.969589, -0.227999, 0.0], [34.969596, -0.227981, 0.0], [34.969606, -0.227972, 0.0], [34.969624, -0.227966, 0.0], [34.96964, -0.227969, 0.0], [34.969655, -0.227977, 0.0], [34.969671, -0.227986, 0.0], [34.969688, -0.227995, 0.0], [34.969702, -0.228002, 0.0], [34.969716, -0.22801, 0.0], [34.969723, -0.228013, 0.0], [34.969737, -0.228015, 0.0], [34.969746, -0.228019, 0.0], [34.969762, -0.228026, 0.0], [34.969776, -0.228033, 0.0], [34.969785, -0.228037, 0.0], [34.969786, -0.228051, 0.0], [34.969781, -0.228063, 0.0], [34.969775, -0.228078, 0.0], [34.969769, -0.228088, 0.0], [34.969763, -0.228104, 0.0], [34.969756, -0.228121, 0.0], [34.969751, -0.228133, 0.0], [34.969746, -0.22815, 0.0], [34.969738, -0.228164, 0.0], [34.969734, -0.228181, 0.0], [34.969726, -0.228187, 0.0], [34.969718, -0.228198, 0.0], [34.969709, -0.228206, 0.0], [34.969697, -0.228218, 0.0], [34.969693, -0.228233, 0.0], [34.969691, -0.22825, 0.0], [34.969688, -0.228265, 0.0], [34.96968, -0.228278, 0.0], [34.969679, -0.228288, 0.0], [34.969681, -0.228289, 0.0], [34.969616, -0.228504, 0.0], [34.969617, -0.228514, 0.0], [34.969615, -0.228527, 0.0], [34.969608, -0.228554, 0.0], [34.9696, -0.228585, 0.0], [34.969596, -0.228602, 0.0], [34.969605, -0.228624, 0.0], [34.969606, -0.228649, 0.0], [34.969595, -0.228661, 0.0], [34.969576, -0.228653, 0.0], [34.969559, -0.228653, 0.0], [34.969549, -0.228648, 0.0], [34.969327, -0.229108, 0.0]]]], &quot;type&quot;: &quot;MultiPolygon&quot;}, &quot;properties&quot;: {&quot;Cluster_Region_x&quot;: &quot;Wawidhi&quot;, &quot;Farmer_Name&quot;: &quot;Everline Akinyi Omondi&quot;, &quot;Field_Id&quot;: &quot;KW2&quot;, &quot;HvstWgt_Ctrl_kg&quot;: 32.65, &quot;HvstWgt_Trtmt_kg&quot;: 58.4, &quot;Mean pH&quot;: &quot;6.77&quot;, &quot;Trt-Ctr_Per_Change&quot;: 78.86676875957122, &quot;fid&quot;: 16}, &quot;type&quot;: &quot;Feature&quot;}, {&quot;geometry&quot;: {&quot;coordinates&quot;: [[[[34.972114, -0.229309, 0.0], [34.971907, -0.229471, 0.0], [34.971577, -0.229302, 0.0], [34.971734, -0.229109, 0.0], [34.972114, -0.229309, 0.0]]], [[[34.972033, -0.228777, 0.0], [34.972111, -0.228852, 0.0], [34.971997, -0.228988, 0.0], [34.972188, -0.229244, 0.0], [34.972125, -0.22931, 0.0], [34.971738, -0.229102, 0.0], [34.972033, -0.228777, 0.0]]]], &quot;type&quot;: &quot;MultiPolygon&quot;}, &quot;properties&quot;: {&quot;Cluster_Region_x&quot;: &quot;Wawidhi&quot;, &quot;Farmer_Name&quot;: &quot;Leokadia Tabu Odhiambo&quot;, &quot;Field_Id&quot;: &quot;KW5&quot;, &quot;HvstWgt_Ctrl_kg&quot;: 86.22, &quot;HvstWgt_Trtmt_kg&quot;: 139.6, &quot;Mean pH&quot;: &quot;7.305&quot;, &quot;Trt-Ctr_Per_Change&quot;: 61.91138946880074, &quot;fid&quot;: 17}, &quot;type&quot;: &quot;Feature&quot;}, {&quot;geometry&quot;: {&quot;coordinates&quot;: [], &quot;type&quot;: &quot;MultiPolygon&quot;}, &quot;properties&quot;: {&quot;Cluster_Region_x&quot;: &quot;Wawidhi&quot;, &quot;Farmer_Name&quot;: &quot;Lilian Rachael Omondi&quot;, &quot;Field_Id&quot;: &quot;KW6&quot;, &quot;HvstWgt_Ctrl_kg&quot;: 15.75, &quot;HvstWgt_Trtmt_kg&quot;: 26.6, &quot;Mean pH&quot;: &quot;5.9350000000000005&quot;, &quot;Trt-Ctr_Per_Change&quot;: 68.8888888888889, &quot;fid&quot;: 18}, &quot;type&quot;: &quot;Feature&quot;}, {&quot;geometry&quot;: {&quot;coordinates&quot;: [[[[34.966394, -0.225213, 0.0], [34.96622, -0.224996, 0.0], [34.966364, -0.224861, 0.0], [34.966588, -0.225056, 0.0], [34.966394, -0.225213, 0.0]]], [[[34.966365, -0.224857, 0.0], [34.966744, -0.224744, 0.0], [34.966974, -0.224758, 0.0], [34.966595, -0.225059, 0.0], [34.966365, -0.224857, 0.0]]]], &quot;type&quot;: &quot;MultiPolygon&quot;}, &quot;properties&quot;: {&quot;Cluster_Region_x&quot;: &quot;Wawidhi&quot;, &quot;Farmer_Name&quot;: &quot;Rebbecca Achieng Obong\\u0027o&quot;, &quot;Field_Id&quot;: &quot;KW8&quot;, &quot;HvstWgt_Ctrl_kg&quot;: 72.0, &quot;HvstWgt_Trtmt_kg&quot;: 89.0, &quot;Mean pH&quot;: &quot;6.175&quot;, &quot;Trt-Ctr_Per_Change&quot;: 23.61111111111111, &quot;fid&quot;: 19}, &quot;type&quot;: &quot;Feature&quot;}, {&quot;geometry&quot;: {&quot;coordinates&quot;: [], &quot;type&quot;: &quot;MultiPolygon&quot;}, &quot;properties&quot;: {&quot;Cluster_Region_x&quot;: &quot;Wawidhi&quot;, &quot;Farmer_Name&quot;: &quot;Benta akinyi Muya&quot;, &quot;Field_Id&quot;: &quot;KW10&quot;, &quot;HvstWgt_Ctrl_kg&quot;: 23.6, &quot;HvstWgt_Trtmt_kg&quot;: 59.5, &quot;Mean pH&quot;: &quot;6.529999999999999&quot;, &quot;Trt-Ctr_Per_Change&quot;: 152.1186440677966, &quot;fid&quot;: 20}, &quot;type&quot;: &quot;Feature&quot;}, {&quot;geometry&quot;: {&quot;coordinates&quot;: [[[[34.971469, -0.227654, 0.0], [34.971822, -0.227963, 0.0], [34.97174, -0.228035, 0.0], [34.971389, -0.227737, 0.0], [34.971469, -0.227654, 0.0]]], [[[34.971005, -0.227417, 0.0], [34.971085, -0.227331, 0.0], [34.971467, -0.227655, 0.0], [34.971384, -0.227741, 0.0], [34.971005, -0.227417, 0.0]]]], &quot;type&quot;: &quot;MultiPolygon&quot;}, &quot;properties&quot;: {&quot;Cluster_Region_x&quot;: &quot;Wawidhi&quot;, &quot;Farmer_Name&quot;: &quot;Doreen Apondi&quot;, &quot;Field_Id&quot;: &quot;KW11&quot;, &quot;HvstWgt_Ctrl_kg&quot;: 12.15, &quot;HvstWgt_Trtmt_kg&quot;: 40.0, &quot;Mean pH&quot;: &quot;6.64&quot;, &quot;Trt-Ctr_Per_Change&quot;: 229.21810699588477, &quot;fid&quot;: 21}, &quot;type&quot;: &quot;Feature&quot;}, {&quot;geometry&quot;: {&quot;coordinates&quot;: [[[[34.969458, -0.2269931, 0.0], [34.969459, -0.2269881, 0.0], [34.969465, -0.2269691, 0.0], [34.969473, -0.2269541, 0.0], [34.969477, -0.2269361, 0.0], [34.96948, -0.2269281, 0.0], [34.969476, -0.2269201, 0.0], [34.969483, -0.2269121, 0.0], [34.969484, -0.2268981, 0.0], [34.969491, -0.2269051, 0.0], [34.969506, -0.2269131, 0.0], [34.969511, -0.2269191, 0.0], [34.969529, -0.2269301, 0.0], [34.969537, -0.2269371, 0.0], [34.96955, -0.2269401, 0.0], [34.969545, -0.2269401, 0.0], [34.969554, -0.2269411, 0.0], [34.969557, -0.2269501, 0.0], [34.969568, -0.2269601, 0.0], [34.969586, -0.2269771, 0.0], [34.9696, -0.2269891, 0.0], [34.969609, -0.2269961, 0.0], [34.969613, -0.2270011, 0.0], [34.96963, -0.2270131, 0.0], [34.969641, -0.2270271, 0.0], [34.969648, -0.2270301, 0.0], [34.969654, -0.2270381, 0.0], [34.96966, -0.2270491, 0.0], [34.969663, -0.2270551, 0.0], [34.969665, -0.2270671, 0.0], [34.969663, -0.2270791, 0.0], [34.969659, -0.2270941, 0.0], [34.969656, -0.2271061, 0.0], [34.969656, -0.2271151, 0.0], [34.969649, -0.2271251, 0.0], [34.969648, -0.2271351, 0.0], [34.969651, -0.2271431, 0.0], [34.969651, -0.2271531, 0.0], [34.969644, -0.2271751, 0.0], [34.969647, -0.2271881, 0.0], [34.969654, -0.2272101, 0.0], [34.969662, -0.2272251, 0.0], [34.969665, -0.2272291, 0.0], [34.96967, -0.2272371, 0.0], [34.969674, -0.2272491, 0.0], [34.969672, -0.2272571, 0.0], [34.969669, -0.2272671, 0.0], [34.969661, -0.2272851, 0.0], [34.969657, -0.2272971, 0.0], [34.969652, -0.2273061, 0.0], [34.969652, -0.2273171, 0.0], [34.969643, -0.2273291, 0.0], [34.969643, -0.2273461, 0.0], [34.96964, -0.2273561, 0.0], [34.969636, -0.2273711, 0.0], [34.969633, -0.2273801, 0.0], [34.969625, -0.2274021, 0.0], [34.969615, -0.2274221, 0.0], [34.969611, -0.2274361, 0.0], [34.969609, -0.2274461, 0.0], [34.969602, -0.2274571, 0.0], [34.969599, -0.2274671, 0.0], [34.969592, -0.2274741, 0.0], [34.969586, -0.2274741, 0.0], [34.969575, -0.2274731, 0.0], [34.969555, -0.2274631, 0.0], [34.969536, -0.2274531, 0.0], [34.969526, -0.2274521, 0.0], [34.969503, -0.2274461, 0.0], [34.969485, -0.2274411, 0.0], [34.969478, -0.2274381, 0.0], [34.969466, -0.2274351, 0.0], [34.969458, -0.2274341, 0.0], [34.969446, -0.2274291, 0.0], [34.969439, -0.2274281, 0.0], [34.96937307047749, -0.227413556722974, 0.0], [34.969372, -0.227419, 0.0], [34.969003, -0.227348, 0.0], [34.969322, -0.226805, 0.0], [34.969478, -0.22688, 0.0], [34.96945430397554, -0.227000492048921, 0.0], [34.969458, -0.2269931, 0.0]], [[34.969412, -0.2272231, 0.0], [34.969414, -0.2272131, 0.0], [34.969418, -0.2272041, 0.0], [34.969419, -0.2271911, 0.0], [34.969425, -0.2271701, 0.0], [34.969425, -0.2271581, 0.0], [34.969428, -0.2271481, 0.0], [34.969435, -0.2271361, 0.0], [34.969441, -0.2271281, 0.0], [34.96944, -0.2271151, 0.0], [34.969443, -0.2271081, 0.0], [34.969449, -0.2270991, 0.0], [34.969452, -0.2270891, 0.0], [34.969444, -0.2270701, 0.0], [34.969446, -0.2270641, 0.0], [34.969448, -0.2270401, 0.0], [34.969453, -0.2270311, 0.0], [34.96945, -0.2270321, 0.0], [34.969458, -0.2270191, 0.0], [34.969458, -0.2270121, 0.0], [34.96945313692153, -0.227006426408454, 0.0], [34.96940875084053, -0.227232125442969, 0.0], [34.969412, -0.2272231, 0.0]], [[34.969391, -0.2273251, 0.0], [34.969397, -0.2273111, 0.0], [34.969401, -0.2273001, 0.0], [34.969402, -0.2272871, 0.0], [34.969402, -0.2272771, 0.0], [34.969407, -0.2272671, 0.0], [34.969407, -0.2272591, 0.0], [34.96940469343769, -0.227252756953646, 0.0], [34.969386361290304, -0.227345974193633, 0.0], [34.969391, -0.2273251, 0.0]], [[34.969375, -0.2274131, 0.0], [34.969378, -0.2274011, 0.0], [34.969378, -0.227388490566043, 0.0], [34.96937316029685, -0.2274131, 0.0], [34.969375, -0.2274131, 0.0]]]], &quot;type&quot;: &quot;MultiPolygon&quot;}, &quot;properties&quot;: {&quot;Cluster_Region_x&quot;: &quot;Wawidhi&quot;, &quot;Farmer_Name&quot;: &quot;Mary Achieng Odhiambo&quot;, &quot;Field_Id&quot;: &quot;KW13&quot;, &quot;HvstWgt_Ctrl_kg&quot;: 51.38, &quot;HvstWgt_Trtmt_kg&quot;: 74.15, &quot;Mean pH&quot;: &quot;6.605&quot;, &quot;Trt-Ctr_Per_Change&quot;: 44.31685480731803, &quot;fid&quot;: 22}, &quot;type&quot;: &quot;Feature&quot;}, {&quot;geometry&quot;: {&quot;coordinates&quot;: [[[[34.971814, -0.227949, 0.0], [34.971151, -0.227385, 0.0], [34.971461, -0.227145, 0.0], [34.971802, -0.227601, 0.0], [34.971992, -0.227864, 0.0], [34.971814, -0.227949, 0.0]]], [[[34.97148, -0.227129, 0.0], [34.971794, -0.226949, 0.0], [34.972192, -0.22764, 0.0], [34.971995, -0.227829, 0.0], [34.97148, -0.227129, 0.0]]]], &quot;type&quot;: &quot;MultiPolygon&quot;}, &quot;properties&quot;: {&quot;Cluster_Region_x&quot;: &quot;Wawidhi&quot;, &quot;Farmer_Name&quot;: &quot;Millicent Omondi&quot;, &quot;Field_Id&quot;: &quot;KW15_1&quot;, &quot;HvstWgt_Ctrl_kg&quot;: 31.55, &quot;HvstWgt_Trtmt_kg&quot;: 35.0, &quot;Mean pH&quot;: &quot;6.33&quot;, &quot;Trt-Ctr_Per_Change&quot;: 10.935023771790807, &quot;fid&quot;: 23}, &quot;type&quot;: &quot;Feature&quot;}, {&quot;geometry&quot;: {&quot;coordinates&quot;: [], &quot;type&quot;: &quot;MultiPolygon&quot;}, &quot;properties&quot;: {&quot;Cluster_Region_x&quot;: &quot;Wawidhi&quot;, &quot;Farmer_Name&quot;: &quot;Milicent Akoth Ouma&quot;, &quot;Field_Id&quot;: &quot;KW15_2&quot;, &quot;HvstWgt_Ctrl_kg&quot;: 39.84, &quot;HvstWgt_Trtmt_kg&quot;: 52.98, &quot;Mean pH&quot;: &quot;6.06&quot;, &quot;Trt-Ctr_Per_Change&quot;: 32.98192771084335, &quot;fid&quot;: 24}, &quot;type&quot;: &quot;Feature&quot;}, {&quot;geometry&quot;: {&quot;coordinates&quot;: [[[[34.972884, -0.228268, 0.0], [34.973145, -0.22849, 0.0], [34.97251, -0.228985, 0.0], [34.972264, -0.228758, 0.0], [34.972463, -0.228649, 0.0], [34.972884, -0.228268, 0.0]]], [[[34.972267, -0.228742, 0.0], [34.97185, -0.228069, 0.0], [34.971937, -0.228048, 0.0], [34.972471, -0.22863, 0.0], [34.972267, -0.228742, 0.0]]]], &quot;type&quot;: &quot;MultiPolygon&quot;}, &quot;properties&quot;: {&quot;Cluster_Region_x&quot;: &quot;Wawidhi&quot;, &quot;Farmer_Name&quot;: &quot;Rebbecca Awino&quot;, &quot;Field_Id&quot;: &quot;KW16&quot;, &quot;HvstWgt_Ctrl_kg&quot;: 66.18, &quot;HvstWgt_Trtmt_kg&quot;: 72.43, &quot;Mean pH&quot;: &quot;6.795&quot;, &quot;Trt-Ctr_Per_Change&quot;: 9.443940767603504, &quot;fid&quot;: 25}, &quot;type&quot;: &quot;Feature&quot;}, {&quot;geometry&quot;: {&quot;coordinates&quot;: [[[[34.9704078, -0.228335, 0.0], [34.9702634, -0.2282347, 0.0], [34.9703795, -0.228022, 0.0], [34.970551, -0.228188, 0.0], [34.9704078, -0.228335, 0.0]]], [[[34.970563, -0.228195, 0.0], [34.9704006, -0.2280093, 0.0], [34.97056, -0.227831, 0.0], [34.970662, -0.228065, 0.0], [34.970563, -0.228195, 0.0]]]], &quot;type&quot;: &quot;MultiPolygon&quot;}, &quot;properties&quot;: {&quot;Cluster_Region_x&quot;: &quot;Wawidhi&quot;, &quot;Farmer_Name&quot;: &quot;Ruth Akoth Obongo&quot;, &quot;Field_Id&quot;: &quot;KW18&quot;, &quot;HvstWgt_Ctrl_kg&quot;: 72.0, &quot;HvstWgt_Trtmt_kg&quot;: 89.0, &quot;Mean pH&quot;: &quot;nan&quot;, &quot;Trt-Ctr_Per_Change&quot;: 23.61111111111111, &quot;fid&quot;: 26}, &quot;type&quot;: &quot;Feature&quot;}, {&quot;geometry&quot;: {&quot;coordinates&quot;: [[[[34.969651, -0.229126, 0.0], [34.9696, -0.229091, 0.0], [34.970224, -0.2287, 0.0], [34.970246, -0.228748, 0.0], [34.969651, -0.229126, 0.0]]], [[[34.969592, -0.229089, 0.0], [34.969571, -0.229045, 0.0], [34.970166, -0.228664, 0.0], [34.970227, -0.228697, 0.0], [34.969592, -0.229089, 0.0]]]], &quot;type&quot;: &quot;MultiPolygon&quot;}, &quot;properties&quot;: {&quot;Cluster_Region_x&quot;: &quot;Wawidhi&quot;, &quot;Farmer_Name&quot;: &quot;Ruth Akoth Obongo&quot;, &quot;Field_Id&quot;: &quot;KW18&quot;, &quot;HvstWgt_Ctrl_kg&quot;: 72.0, &quot;HvstWgt_Trtmt_kg&quot;: 89.0, &quot;Mean pH&quot;: &quot;nan&quot;, &quot;Trt-Ctr_Per_Change&quot;: 23.61111111111111, &quot;fid&quot;: 27}, &quot;type&quot;: &quot;Feature&quot;}, {&quot;geometry&quot;: {&quot;coordinates&quot;: [[[[34.972946, -0.22923, 0.0], [34.973347, -0.228744, 0.0], [34.973552, -0.228945, 0.0], [34.973208, -0.229411, 0.0], [34.972946, -0.22923, 0.0]]], [[[34.973588, -0.228454, 0.0], [34.973798, -0.2286, 0.0], [34.973605, -0.228893, 0.0], [34.973365, -0.228736, 0.0], [34.973588, -0.228454, 0.0]]]], &quot;type&quot;: &quot;MultiPolygon&quot;}, &quot;properties&quot;: {&quot;Cluster_Region_x&quot;: &quot;Wawidhi&quot;, &quot;Farmer_Name&quot;: &quot;Jane Atieno Odhiambo&quot;, &quot;Field_Id&quot;: &quot;KW20_1&quot;, &quot;HvstWgt_Ctrl_kg&quot;: 56.3, &quot;HvstWgt_Trtmt_kg&quot;: 62.3, &quot;Mean pH&quot;: &quot;6.71&quot;, &quot;Trt-Ctr_Per_Change&quot;: 10.657193605683837, &quot;fid&quot;: 28}, &quot;type&quot;: &quot;Feature&quot;}, {&quot;geometry&quot;: {&quot;coordinates&quot;: [[[[34.966566, -0.229167, 0.0], [34.966566, -0.228585, 0.0], [34.966851, -0.228591, 0.0], [34.966866, -0.229263, 0.0], [34.966566, -0.229167, 0.0]]], [[[34.966863, -0.2285749, 0.0], [34.967097, -0.22847, 0.0], [34.967095, -0.229284, 0.0], [34.966866, -0.229263, 0.0], [34.966863, -0.2285749, 0.0]]]], &quot;type&quot;: &quot;MultiPolygon&quot;}, &quot;properties&quot;: {&quot;Cluster_Region_x&quot;: &quot;Wawidhi&quot;, &quot;Farmer_Name&quot;: &quot;Jane Auma Odhiambo&quot;, &quot;Field_Id&quot;: &quot;KW20_3&quot;, &quot;HvstWgt_Ctrl_kg&quot;: 54.9, &quot;HvstWgt_Trtmt_kg&quot;: 75.9, &quot;Mean pH&quot;: &quot;6.55&quot;, &quot;Trt-Ctr_Per_Change&quot;: 38.2513661202186, &quot;fid&quot;: 29}, &quot;type&quot;: &quot;Feature&quot;}, {&quot;geometry&quot;: {&quot;coordinates&quot;: [[[[34.974109, -0.224056, 0.0], [34.973962, -0.224143, 0.0], [34.973658, -0.223629, 0.0], [34.97384, -0.223501, 0.0], [34.974109, -0.224056, 0.0]]], [[[34.97404, -0.223325, 0.0], [34.97427, -0.22402, 0.0], [34.974112, -0.224053, 0.0], [34.973844, -0.223488, 0.0], [34.97404, -0.223325, 0.0]]]], &quot;type&quot;: &quot;MultiPolygon&quot;}, &quot;properties&quot;: {&quot;Cluster_Region_x&quot;: &quot;Wawidhi&quot;, &quot;Farmer_Name&quot;: &quot;Rosa Anyango Auma&quot;, &quot;Field_Id&quot;: &quot;KW26&quot;, &quot;HvstWgt_Ctrl_kg&quot;: 24.63, &quot;HvstWgt_Trtmt_kg&quot;: 36.72, &quot;Mean pH&quot;: &quot;5.865&quot;, &quot;Trt-Ctr_Per_Change&quot;: 49.086479902557855, &quot;fid&quot;: 30}, &quot;type&quot;: &quot;Feature&quot;}, {&quot;geometry&quot;: {&quot;coordinates&quot;: [[[[34.974339, -0.228049, 0.0], [34.974295, -0.228653, 0.0], [34.974428, -0.228653, 0.0], [34.974513, -0.22804, 0.0], [34.974339, -0.228049, 0.0]]]], &quot;type&quot;: &quot;MultiPolygon&quot;}, &quot;properties&quot;: {&quot;Cluster_Region_x&quot;: &quot;Wawidhi&quot;, &quot;Farmer_Name&quot;: &quot;Trizzah Moraa Omondi&quot;, &quot;Field_Id&quot;: &quot;KW31&quot;, &quot;HvstWgt_Ctrl_kg&quot;: 9.2, &quot;HvstWgt_Trtmt_kg&quot;: 48.2, &quot;Mean pH&quot;: &quot;6.73&quot;, &quot;Trt-Ctr_Per_Change&quot;: 423.9130434782609, &quot;fid&quot;: 31}, &quot;type&quot;: &quot;Feature&quot;}, {&quot;geometry&quot;: {&quot;coordinates&quot;: [[[[34.9704078, -0.228335, 0.0], [34.9702634, -0.2282347, 0.0], [34.9703795, -0.228022, 0.0], [34.970551, -0.228188, 0.0], [34.9704078, -0.228335, 0.0]]], [[[34.970563, -0.228195, 0.0], [34.9704006, -0.2280093, 0.0], [34.97056, -0.227831, 0.0], [34.970662, -0.228065, 0.0], [34.970563, -0.228195, 0.0]]]], &quot;type&quot;: &quot;MultiPolygon&quot;}, &quot;properties&quot;: {&quot;Cluster_Region_x&quot;: &quot;Wawidhi&quot;, &quot;Farmer_Name&quot;: &quot;Rose Atieno Muya&quot;, &quot;Field_Id&quot;: &quot;KW32&quot;, &quot;HvstWgt_Ctrl_kg&quot;: 46.1, &quot;HvstWgt_Trtmt_kg&quot;: 60.8, &quot;Mean pH&quot;: &quot;nan&quot;, &quot;Trt-Ctr_Per_Change&quot;: 31.887201735357905, &quot;fid&quot;: 32}, &quot;type&quot;: &quot;Feature&quot;}, {&quot;geometry&quot;: {&quot;coordinates&quot;: [[[[34.969651, -0.229126, 0.0], [34.9696, -0.229091, 0.0], [34.970224, -0.2287, 0.0], [34.970246, -0.228748, 0.0], [34.969651, -0.229126, 0.0]]], [[[34.969592, -0.229089, 0.0], [34.969571, -0.229045, 0.0], [34.970166, -0.228664, 0.0], [34.970227, -0.228697, 0.0], [34.969592, -0.229089, 0.0]]]], &quot;type&quot;: &quot;MultiPolygon&quot;}, &quot;properties&quot;: {&quot;Cluster_Region_x&quot;: &quot;Wawidhi&quot;, &quot;Farmer_Name&quot;: &quot;Rose Atieno Muya&quot;, &quot;Field_Id&quot;: &quot;KW32&quot;, &quot;HvstWgt_Ctrl_kg&quot;: 46.1, &quot;HvstWgt_Trtmt_kg&quot;: 60.8, &quot;Mean pH&quot;: &quot;nan&quot;, &quot;Trt-Ctr_Per_Change&quot;: 31.887201735357905, &quot;fid&quot;: 33}, &quot;type&quot;: &quot;Feature&quot;}], &quot;name&quot;: &quot;farmyields&quot;, &quot;type&quot;: &quot;FeatureCollection&quot;});\n",
              "\n",
              "        \n",
              "    \n",
              "    geo_json_5352fd99d4c798bca197f067c00e52f5.bindTooltip(\n",
              "    function(layer){\n",
              "    let div = L.DomUtil.create(&#x27;div&#x27;);\n",
              "    \n",
              "    let handleObject = feature=&gt;typeof(feature)==&#x27;object&#x27; ? JSON.stringify(feature) : feature;\n",
              "    let fields = [&quot;Trt-Ctr_Per_Change&quot;, &quot;Mean pH&quot;];\n",
              "    let aliases = [&quot;harvest weight change %:&quot;, &quot;Mean pH:&quot;];\n",
              "    let table = &#x27;&lt;table&gt;&#x27; +\n",
              "        String(\n",
              "        fields.map(\n",
              "        (v,i)=&gt;\n",
              "        `&lt;tr&gt;\n",
              "            &lt;th&gt;${aliases[i]}&lt;/th&gt;\n",
              "            \n",
              "            &lt;td&gt;${handleObject(layer.feature.properties[v])}&lt;/td&gt;\n",
              "        &lt;/tr&gt;`).join(&#x27;&#x27;))\n",
              "    +&#x27;&lt;/table&gt;&#x27;;\n",
              "    div.innerHTML=table;\n",
              "    \n",
              "    return div\n",
              "    }\n",
              "    ,{&quot;className&quot;: &quot;foliumtooltip&quot;, &quot;sticky&quot;: true});\n",
              "                     \n",
              "    \n",
              "    geo_json_5352fd99d4c798bca197f067c00e52f5.bindPopup(\n",
              "    function(layer){\n",
              "    let div = L.DomUtil.create(&#x27;div&#x27;);\n",
              "    \n",
              "    let handleObject = feature=&gt;typeof(feature)==&#x27;object&#x27; ? JSON.stringify(feature) : feature;\n",
              "    let fields = [&quot;Trt-Ctr_Per_Change&quot;, &quot;Mean pH&quot;];\n",
              "    let aliases = [&quot;harvest weight change %:&quot;, &quot;Mean pH:&quot;];\n",
              "    let table = &#x27;&lt;table&gt;&#x27; +\n",
              "        String(\n",
              "        fields.map(\n",
              "        (v,i)=&gt;\n",
              "        `&lt;tr&gt;\n",
              "            &lt;th&gt;${aliases[i].toLocaleString()}&lt;/th&gt;\n",
              "            \n",
              "            &lt;td&gt;${handleObject(layer.feature.properties[v]).toLocaleString()}&lt;/td&gt;\n",
              "        &lt;/tr&gt;`).join(&#x27;&#x27;))\n",
              "    +&#x27;&lt;/table&gt;&#x27;;\n",
              "    div.innerHTML=table;\n",
              "    \n",
              "    return div\n",
              "    }\n",
              "    ,{&quot;className&quot;: &quot;foliumpopup&quot;});\n",
              "                     \n",
              "    \n",
              "            geo_json_5352fd99d4c798bca197f067c00e52f5.addTo(map_027150389ed8c57154e1f1d6e291246e);\n",
              "        \n",
              "    \n",
              "            tile_layer_396d2779cf4296c64978d52d9a85b6f6.addTo(map_027150389ed8c57154e1f1d6e291246e);\n",
              "        \n",
              "    \n",
              "            tile_layer_abd85491ec4ae0c889728e80de105835.addTo(map_027150389ed8c57154e1f1d6e291246e);\n",
              "        \n",
              "    \n",
              "            tile_layer_35dd6e53c3ce2895789c66f0d2776480.addTo(map_027150389ed8c57154e1f1d6e291246e);\n",
              "        \n",
              "    \n",
              "            geo_json_5352fd99d4c798bca197f067c00e52f5.addTo(map_027150389ed8c57154e1f1d6e291246e);\n",
              "        \n",
              "    \n",
              "            var layer_control_c03d80ca6279aa05b297dfcbf1a12e1f_layers = {\n",
              "                base_layers : {\n",
              "                    &quot;openstreetmap&quot; : tile_layer_abd85491ec4ae0c889728e80de105835,\n",
              "                    &quot;Satellite&quot; : tile_layer_35dd6e53c3ce2895789c66f0d2776480,\n",
              "                },\n",
              "                overlays :  {\n",
              "                    &quot;Farm Data&quot; : geo_json_5352fd99d4c798bca197f067c00e52f5,\n",
              "                },\n",
              "            };\n",
              "            let layer_control_c03d80ca6279aa05b297dfcbf1a12e1f = L.control.layers(\n",
              "                layer_control_c03d80ca6279aa05b297dfcbf1a12e1f_layers.base_layers,\n",
              "                layer_control_c03d80ca6279aa05b297dfcbf1a12e1f_layers.overlays,\n",
              "                {&quot;autoZIndex&quot;: true, &quot;collapsed&quot;: true, &quot;position&quot;: &quot;topright&quot;}\n",
              "            ).addTo(map_027150389ed8c57154e1f1d6e291246e);\n",
              "\n",
              "        \n",
              "&lt;/script&gt;\n",
              "&lt;/html&gt;\" style=\"position:absolute;width:100%;height:100%;left:0;top:0;border:none !important;\" allowfullscreen webkitallowfullscreen mozallowfullscreen></iframe></div></div>"
            ]
          },
          "metadata": {},
          "execution_count": 17
        }
      ]
    },
    {
      "cell_type": "code",
      "source": [
        "m.save('harvest_review.html')"
      ],
      "metadata": {
        "id": "KyA-Oqwy8AOJ"
      },
      "execution_count": null,
      "outputs": []
    }
  ]
}