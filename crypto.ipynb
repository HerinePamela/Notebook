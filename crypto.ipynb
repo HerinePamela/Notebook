{
  "nbformat": 4,
  "nbformat_minor": 0,
  "metadata": {
    "colab": {
      "name": "crypto.ipynb",
      "provenance": []
    },
    "kernelspec": {
      "name": "python3",
      "display_name": "Python 3"
    },
    "language_info": {
      "name": "python"
    }
  },
  "cells": [
    {
      "cell_type": "code",
      "source": [
        "import matplotlib.pyplot as plt\n",
        "import numpy as np \n",
        "import pandas as pd\n",
        "from sklearn.ensemble import RandomForestRegressor\n",
        "from sklearn.linear_model import LinearRegression\n",
        "from sklearn.metrics import mean_squared_error, accuracy_score, f1_score\n",
        "from sklearn.model_selection import train_test_split, KFold, cross_val_score"
      ],
      "metadata": {
        "id": "ORxoWR3_OKaO"
      },
      "execution_count": 1,
      "outputs": []
    },
    {
      "cell_type": "code",
      "source": [
        "df = pd.read_csv('/content/crypto_currency.csv')\n",
        "df.head(2)"
      ],
      "metadata": {
        "colab": {
          "base_uri": "https://localhost:8080/",
          "height": 206
        },
        "id": "FDlj-mVDA4li",
        "outputId": "5795a7f4-b988-475c-a348-aae262c9b3da"
      },
      "execution_count": 2,
      "outputs": [
        {
          "output_type": "execute_result",
          "data": {
            "text/plain": [
              "          id  asset_id         open         high          low       volume  \\\n",
              "0  ID_322qz6         1  9422.849081  9428.490628  9422.849081  713198620.0   \n",
              "1  ID_3239o9         1  7985.359278  7992.059917  7967.567267  400475518.0   \n",
              "\n",
              "     market_cap  url_shares  unique_url_shares  reddit_posts  ...  \\\n",
              "0  1.737635e+11      1689.0              817.0          55.0  ...   \n",
              "1  1.426942e+11       920.0              544.0          20.0  ...   \n",
              "\n",
              "   percent_change_24h_rank  volume_24h_rank  social_volume_24h_rank  \\\n",
              "0                    606.0              2.0                     1.0   \n",
              "1                      NaN              NaN                     NaN   \n",
              "\n",
              "   social_score_24h_rank  medium  youtube  social_volume  percent_change_24h  \\\n",
              "0                    1.0     2.0      5.0           4422            1.434516   \n",
              "1                    NaN     NaN      NaN           2159           -2.459507   \n",
              "\n",
              "   market_cap_global        close  \n",
              "0       2.818066e+11  9428.279323  \n",
              "1       2.126897e+11  7967.567267  \n",
              "\n",
              "[2 rows x 49 columns]"
            ],
            "text/html": [
              "\n",
              "  <div id=\"df-321c2a0b-bdba-4ed1-ad5b-3e88c1d183f1\">\n",
              "    <div class=\"colab-df-container\">\n",
              "      <div>\n",
              "<style scoped>\n",
              "    .dataframe tbody tr th:only-of-type {\n",
              "        vertical-align: middle;\n",
              "    }\n",
              "\n",
              "    .dataframe tbody tr th {\n",
              "        vertical-align: top;\n",
              "    }\n",
              "\n",
              "    .dataframe thead th {\n",
              "        text-align: right;\n",
              "    }\n",
              "</style>\n",
              "<table border=\"1\" class=\"dataframe\">\n",
              "  <thead>\n",
              "    <tr style=\"text-align: right;\">\n",
              "      <th></th>\n",
              "      <th>id</th>\n",
              "      <th>asset_id</th>\n",
              "      <th>open</th>\n",
              "      <th>high</th>\n",
              "      <th>low</th>\n",
              "      <th>volume</th>\n",
              "      <th>market_cap</th>\n",
              "      <th>url_shares</th>\n",
              "      <th>unique_url_shares</th>\n",
              "      <th>reddit_posts</th>\n",
              "      <th>...</th>\n",
              "      <th>percent_change_24h_rank</th>\n",
              "      <th>volume_24h_rank</th>\n",
              "      <th>social_volume_24h_rank</th>\n",
              "      <th>social_score_24h_rank</th>\n",
              "      <th>medium</th>\n",
              "      <th>youtube</th>\n",
              "      <th>social_volume</th>\n",
              "      <th>percent_change_24h</th>\n",
              "      <th>market_cap_global</th>\n",
              "      <th>close</th>\n",
              "    </tr>\n",
              "  </thead>\n",
              "  <tbody>\n",
              "    <tr>\n",
              "      <th>0</th>\n",
              "      <td>ID_322qz6</td>\n",
              "      <td>1</td>\n",
              "      <td>9422.849081</td>\n",
              "      <td>9428.490628</td>\n",
              "      <td>9422.849081</td>\n",
              "      <td>713198620.0</td>\n",
              "      <td>1.737635e+11</td>\n",
              "      <td>1689.0</td>\n",
              "      <td>817.0</td>\n",
              "      <td>55.0</td>\n",
              "      <td>...</td>\n",
              "      <td>606.0</td>\n",
              "      <td>2.0</td>\n",
              "      <td>1.0</td>\n",
              "      <td>1.0</td>\n",
              "      <td>2.0</td>\n",
              "      <td>5.0</td>\n",
              "      <td>4422</td>\n",
              "      <td>1.434516</td>\n",
              "      <td>2.818066e+11</td>\n",
              "      <td>9428.279323</td>\n",
              "    </tr>\n",
              "    <tr>\n",
              "      <th>1</th>\n",
              "      <td>ID_3239o9</td>\n",
              "      <td>1</td>\n",
              "      <td>7985.359278</td>\n",
              "      <td>7992.059917</td>\n",
              "      <td>7967.567267</td>\n",
              "      <td>400475518.0</td>\n",
              "      <td>1.426942e+11</td>\n",
              "      <td>920.0</td>\n",
              "      <td>544.0</td>\n",
              "      <td>20.0</td>\n",
              "      <td>...</td>\n",
              "      <td>NaN</td>\n",
              "      <td>NaN</td>\n",
              "      <td>NaN</td>\n",
              "      <td>NaN</td>\n",
              "      <td>NaN</td>\n",
              "      <td>NaN</td>\n",
              "      <td>2159</td>\n",
              "      <td>-2.459507</td>\n",
              "      <td>2.126897e+11</td>\n",
              "      <td>7967.567267</td>\n",
              "    </tr>\n",
              "  </tbody>\n",
              "</table>\n",
              "<p>2 rows × 49 columns</p>\n",
              "</div>\n",
              "      <button class=\"colab-df-convert\" onclick=\"convertToInteractive('df-321c2a0b-bdba-4ed1-ad5b-3e88c1d183f1')\"\n",
              "              title=\"Convert this dataframe to an interactive table.\"\n",
              "              style=\"display:none;\">\n",
              "        \n",
              "  <svg xmlns=\"http://www.w3.org/2000/svg\" height=\"24px\"viewBox=\"0 0 24 24\"\n",
              "       width=\"24px\">\n",
              "    <path d=\"M0 0h24v24H0V0z\" fill=\"none\"/>\n",
              "    <path d=\"M18.56 5.44l.94 2.06.94-2.06 2.06-.94-2.06-.94-.94-2.06-.94 2.06-2.06.94zm-11 1L8.5 8.5l.94-2.06 2.06-.94-2.06-.94L8.5 2.5l-.94 2.06-2.06.94zm10 10l.94 2.06.94-2.06 2.06-.94-2.06-.94-.94-2.06-.94 2.06-2.06.94z\"/><path d=\"M17.41 7.96l-1.37-1.37c-.4-.4-.92-.59-1.43-.59-.52 0-1.04.2-1.43.59L10.3 9.45l-7.72 7.72c-.78.78-.78 2.05 0 2.83L4 21.41c.39.39.9.59 1.41.59.51 0 1.02-.2 1.41-.59l7.78-7.78 2.81-2.81c.8-.78.8-2.07 0-2.86zM5.41 20L4 18.59l7.72-7.72 1.47 1.35L5.41 20z\"/>\n",
              "  </svg>\n",
              "      </button>\n",
              "      \n",
              "  <style>\n",
              "    .colab-df-container {\n",
              "      display:flex;\n",
              "      flex-wrap:wrap;\n",
              "      gap: 12px;\n",
              "    }\n",
              "\n",
              "    .colab-df-convert {\n",
              "      background-color: #E8F0FE;\n",
              "      border: none;\n",
              "      border-radius: 50%;\n",
              "      cursor: pointer;\n",
              "      display: none;\n",
              "      fill: #1967D2;\n",
              "      height: 32px;\n",
              "      padding: 0 0 0 0;\n",
              "      width: 32px;\n",
              "    }\n",
              "\n",
              "    .colab-df-convert:hover {\n",
              "      background-color: #E2EBFA;\n",
              "      box-shadow: 0px 1px 2px rgba(60, 64, 67, 0.3), 0px 1px 3px 1px rgba(60, 64, 67, 0.15);\n",
              "      fill: #174EA6;\n",
              "    }\n",
              "\n",
              "    [theme=dark] .colab-df-convert {\n",
              "      background-color: #3B4455;\n",
              "      fill: #D2E3FC;\n",
              "    }\n",
              "\n",
              "    [theme=dark] .colab-df-convert:hover {\n",
              "      background-color: #434B5C;\n",
              "      box-shadow: 0px 1px 3px 1px rgba(0, 0, 0, 0.15);\n",
              "      filter: drop-shadow(0px 1px 2px rgba(0, 0, 0, 0.3));\n",
              "      fill: #FFFFFF;\n",
              "    }\n",
              "  </style>\n",
              "\n",
              "      <script>\n",
              "        const buttonEl =\n",
              "          document.querySelector('#df-321c2a0b-bdba-4ed1-ad5b-3e88c1d183f1 button.colab-df-convert');\n",
              "        buttonEl.style.display =\n",
              "          google.colab.kernel.accessAllowed ? 'block' : 'none';\n",
              "\n",
              "        async function convertToInteractive(key) {\n",
              "          const element = document.querySelector('#df-321c2a0b-bdba-4ed1-ad5b-3e88c1d183f1');\n",
              "          const dataTable =\n",
              "            await google.colab.kernel.invokeFunction('convertToInteractive',\n",
              "                                                     [key], {});\n",
              "          if (!dataTable) return;\n",
              "\n",
              "          const docLinkHtml = 'Like what you see? Visit the ' +\n",
              "            '<a target=\"_blank\" href=https://colab.research.google.com/notebooks/data_table.ipynb>data table notebook</a>'\n",
              "            + ' to learn more about interactive tables.';\n",
              "          element.innerHTML = '';\n",
              "          dataTable['output_type'] = 'display_data';\n",
              "          await google.colab.output.renderOutput(dataTable, element);\n",
              "          const docLink = document.createElement('div');\n",
              "          docLink.innerHTML = docLinkHtml;\n",
              "          element.appendChild(docLink);\n",
              "        }\n",
              "      </script>\n",
              "    </div>\n",
              "  </div>\n",
              "  "
            ]
          },
          "metadata": {},
          "execution_count": 2
        }
      ]
    },
    {
      "cell_type": "code",
      "source": [
        "df.describe()"
      ],
      "metadata": {
        "colab": {
          "base_uri": "https://localhost:8080/",
          "height": 394
        },
        "id": "Q8cjlrsgBDnf",
        "outputId": "0b021d8a-849c-4388-a762-b3c78f144dd2"
      },
      "execution_count": 3,
      "outputs": [
        {
          "output_type": "execute_result",
          "data": {
            "text/plain": [
              "       asset_id          open          high           low        volume  \\\n",
              "count   12632.0   8617.000000   8617.000000   8617.000000  8.605000e+03   \n",
              "mean        1.0  15504.816128  15559.484568  15449.591187  1.300724e+09   \n",
              "std         0.0  14105.710063  14191.106378  14022.651911  1.711922e+09   \n",
              "min         1.0   4545.087790   4589.712024   4267.292258  2.373622e+08   \n",
              "25%         1.0   8405.552062   8437.391908   8378.513061  6.196589e+08   \n",
              "50%         1.0   9671.831848   9689.751652   9648.410207  9.820621e+08   \n",
              "75%         1.0  13077.201438  13089.839678  13047.114786  1.611974e+09   \n",
              "max         1.0  61408.929761  61507.371480  61073.192884  5.185678e+10   \n",
              "\n",
              "         market_cap    url_shares  unique_url_shares  reddit_posts  \\\n",
              "count  8.379000e+03   8575.000000        8575.000000  12391.000000   \n",
              "mean   2.826010e+11   1247.310437         757.862857     36.527722   \n",
              "std    2.663052e+11    593.108269         303.627395     31.610276   \n",
              "min    8.393765e+10      2.000000           2.000000      1.000000   \n",
              "25%    1.506098e+11    857.000000         559.000000     13.000000   \n",
              "50%    1.755833e+11   1124.000000         703.000000     28.000000   \n",
              "75%    2.191438e+11   1507.500000         893.000000     50.000000   \n",
              "max    1.140905e+12  10107.000000        4880.000000    500.000000   \n",
              "\n",
              "       reddit_posts_score  ...  percent_change_24h_rank  volume_24h_rank  \\\n",
              "count        12391.000000  ...              8107.000000      8107.000000   \n",
              "mean           323.989831  ...               809.518811         2.128037   \n",
              "std            677.419559  ...               225.420505         0.432902   \n",
              "min              0.000000  ...               124.000000         1.000000   \n",
              "25%             79.000000  ...               661.000000         2.000000   \n",
              "50%            156.000000  ...               819.000000         2.000000   \n",
              "75%            328.000000  ...               970.000000         2.000000   \n",
              "max          30559.000000  ...              1490.000000        10.000000   \n",
              "\n",
              "       social_volume_24h_rank  social_score_24h_rank       medium  \\\n",
              "count             8107.000000            8107.000000  2950.000000   \n",
              "mean                 1.018749               1.005921     1.349492   \n",
              "std                  0.135646               0.076723     0.868552   \n",
              "min                  1.000000               1.000000     1.000000   \n",
              "25%                  1.000000               1.000000     1.000000   \n",
              "50%                  1.000000               1.000000     1.000000   \n",
              "75%                  1.000000               1.000000     1.000000   \n",
              "max                  2.000000               2.000000    12.000000   \n",
              "\n",
              "           youtube  social_volume  percent_change_24h  market_cap_global  \\\n",
              "count  4786.000000   12632.000000         8313.000000       8.351000e+03   \n",
              "mean      3.138947    3920.713268            0.375253       4.616824e+11   \n",
              "std       5.470365    4824.053810            3.745955       4.597152e+11   \n",
              "min       1.000000       1.000000          -44.690403       1.223398e+11   \n",
              "25%       1.000000     243.000000           -1.252658       2.265741e+11   \n",
              "50%       2.000000    3334.000000            0.240354       2.716129e+11   \n",
              "75%       3.000000    5178.000000            1.867715       3.788975e+11   \n",
              "max     178.000000  140431.000000           34.932303       2.062215e+12   \n",
              "\n",
              "              close  \n",
              "count   8617.000000  \n",
              "mean   15507.395867  \n",
              "std    14112.405285  \n",
              "min     4267.292258  \n",
              "25%     8402.681367  \n",
              "50%     9667.590065  \n",
              "75%    13066.731701  \n",
              "max    61259.670876  \n",
              "\n",
              "[8 rows x 48 columns]"
            ],
            "text/html": [
              "\n",
              "  <div id=\"df-0274216b-8a6c-42a1-a782-e24d36e1875d\">\n",
              "    <div class=\"colab-df-container\">\n",
              "      <div>\n",
              "<style scoped>\n",
              "    .dataframe tbody tr th:only-of-type {\n",
              "        vertical-align: middle;\n",
              "    }\n",
              "\n",
              "    .dataframe tbody tr th {\n",
              "        vertical-align: top;\n",
              "    }\n",
              "\n",
              "    .dataframe thead th {\n",
              "        text-align: right;\n",
              "    }\n",
              "</style>\n",
              "<table border=\"1\" class=\"dataframe\">\n",
              "  <thead>\n",
              "    <tr style=\"text-align: right;\">\n",
              "      <th></th>\n",
              "      <th>asset_id</th>\n",
              "      <th>open</th>\n",
              "      <th>high</th>\n",
              "      <th>low</th>\n",
              "      <th>volume</th>\n",
              "      <th>market_cap</th>\n",
              "      <th>url_shares</th>\n",
              "      <th>unique_url_shares</th>\n",
              "      <th>reddit_posts</th>\n",
              "      <th>reddit_posts_score</th>\n",
              "      <th>...</th>\n",
              "      <th>percent_change_24h_rank</th>\n",
              "      <th>volume_24h_rank</th>\n",
              "      <th>social_volume_24h_rank</th>\n",
              "      <th>social_score_24h_rank</th>\n",
              "      <th>medium</th>\n",
              "      <th>youtube</th>\n",
              "      <th>social_volume</th>\n",
              "      <th>percent_change_24h</th>\n",
              "      <th>market_cap_global</th>\n",
              "      <th>close</th>\n",
              "    </tr>\n",
              "  </thead>\n",
              "  <tbody>\n",
              "    <tr>\n",
              "      <th>count</th>\n",
              "      <td>12632.0</td>\n",
              "      <td>8617.000000</td>\n",
              "      <td>8617.000000</td>\n",
              "      <td>8617.000000</td>\n",
              "      <td>8.605000e+03</td>\n",
              "      <td>8.379000e+03</td>\n",
              "      <td>8575.000000</td>\n",
              "      <td>8575.000000</td>\n",
              "      <td>12391.000000</td>\n",
              "      <td>12391.000000</td>\n",
              "      <td>...</td>\n",
              "      <td>8107.000000</td>\n",
              "      <td>8107.000000</td>\n",
              "      <td>8107.000000</td>\n",
              "      <td>8107.000000</td>\n",
              "      <td>2950.000000</td>\n",
              "      <td>4786.000000</td>\n",
              "      <td>12632.000000</td>\n",
              "      <td>8313.000000</td>\n",
              "      <td>8.351000e+03</td>\n",
              "      <td>8617.000000</td>\n",
              "    </tr>\n",
              "    <tr>\n",
              "      <th>mean</th>\n",
              "      <td>1.0</td>\n",
              "      <td>15504.816128</td>\n",
              "      <td>15559.484568</td>\n",
              "      <td>15449.591187</td>\n",
              "      <td>1.300724e+09</td>\n",
              "      <td>2.826010e+11</td>\n",
              "      <td>1247.310437</td>\n",
              "      <td>757.862857</td>\n",
              "      <td>36.527722</td>\n",
              "      <td>323.989831</td>\n",
              "      <td>...</td>\n",
              "      <td>809.518811</td>\n",
              "      <td>2.128037</td>\n",
              "      <td>1.018749</td>\n",
              "      <td>1.005921</td>\n",
              "      <td>1.349492</td>\n",
              "      <td>3.138947</td>\n",
              "      <td>3920.713268</td>\n",
              "      <td>0.375253</td>\n",
              "      <td>4.616824e+11</td>\n",
              "      <td>15507.395867</td>\n",
              "    </tr>\n",
              "    <tr>\n",
              "      <th>std</th>\n",
              "      <td>0.0</td>\n",
              "      <td>14105.710063</td>\n",
              "      <td>14191.106378</td>\n",
              "      <td>14022.651911</td>\n",
              "      <td>1.711922e+09</td>\n",
              "      <td>2.663052e+11</td>\n",
              "      <td>593.108269</td>\n",
              "      <td>303.627395</td>\n",
              "      <td>31.610276</td>\n",
              "      <td>677.419559</td>\n",
              "      <td>...</td>\n",
              "      <td>225.420505</td>\n",
              "      <td>0.432902</td>\n",
              "      <td>0.135646</td>\n",
              "      <td>0.076723</td>\n",
              "      <td>0.868552</td>\n",
              "      <td>5.470365</td>\n",
              "      <td>4824.053810</td>\n",
              "      <td>3.745955</td>\n",
              "      <td>4.597152e+11</td>\n",
              "      <td>14112.405285</td>\n",
              "    </tr>\n",
              "    <tr>\n",
              "      <th>min</th>\n",
              "      <td>1.0</td>\n",
              "      <td>4545.087790</td>\n",
              "      <td>4589.712024</td>\n",
              "      <td>4267.292258</td>\n",
              "      <td>2.373622e+08</td>\n",
              "      <td>8.393765e+10</td>\n",
              "      <td>2.000000</td>\n",
              "      <td>2.000000</td>\n",
              "      <td>1.000000</td>\n",
              "      <td>0.000000</td>\n",
              "      <td>...</td>\n",
              "      <td>124.000000</td>\n",
              "      <td>1.000000</td>\n",
              "      <td>1.000000</td>\n",
              "      <td>1.000000</td>\n",
              "      <td>1.000000</td>\n",
              "      <td>1.000000</td>\n",
              "      <td>1.000000</td>\n",
              "      <td>-44.690403</td>\n",
              "      <td>1.223398e+11</td>\n",
              "      <td>4267.292258</td>\n",
              "    </tr>\n",
              "    <tr>\n",
              "      <th>25%</th>\n",
              "      <td>1.0</td>\n",
              "      <td>8405.552062</td>\n",
              "      <td>8437.391908</td>\n",
              "      <td>8378.513061</td>\n",
              "      <td>6.196589e+08</td>\n",
              "      <td>1.506098e+11</td>\n",
              "      <td>857.000000</td>\n",
              "      <td>559.000000</td>\n",
              "      <td>13.000000</td>\n",
              "      <td>79.000000</td>\n",
              "      <td>...</td>\n",
              "      <td>661.000000</td>\n",
              "      <td>2.000000</td>\n",
              "      <td>1.000000</td>\n",
              "      <td>1.000000</td>\n",
              "      <td>1.000000</td>\n",
              "      <td>1.000000</td>\n",
              "      <td>243.000000</td>\n",
              "      <td>-1.252658</td>\n",
              "      <td>2.265741e+11</td>\n",
              "      <td>8402.681367</td>\n",
              "    </tr>\n",
              "    <tr>\n",
              "      <th>50%</th>\n",
              "      <td>1.0</td>\n",
              "      <td>9671.831848</td>\n",
              "      <td>9689.751652</td>\n",
              "      <td>9648.410207</td>\n",
              "      <td>9.820621e+08</td>\n",
              "      <td>1.755833e+11</td>\n",
              "      <td>1124.000000</td>\n",
              "      <td>703.000000</td>\n",
              "      <td>28.000000</td>\n",
              "      <td>156.000000</td>\n",
              "      <td>...</td>\n",
              "      <td>819.000000</td>\n",
              "      <td>2.000000</td>\n",
              "      <td>1.000000</td>\n",
              "      <td>1.000000</td>\n",
              "      <td>1.000000</td>\n",
              "      <td>2.000000</td>\n",
              "      <td>3334.000000</td>\n",
              "      <td>0.240354</td>\n",
              "      <td>2.716129e+11</td>\n",
              "      <td>9667.590065</td>\n",
              "    </tr>\n",
              "    <tr>\n",
              "      <th>75%</th>\n",
              "      <td>1.0</td>\n",
              "      <td>13077.201438</td>\n",
              "      <td>13089.839678</td>\n",
              "      <td>13047.114786</td>\n",
              "      <td>1.611974e+09</td>\n",
              "      <td>2.191438e+11</td>\n",
              "      <td>1507.500000</td>\n",
              "      <td>893.000000</td>\n",
              "      <td>50.000000</td>\n",
              "      <td>328.000000</td>\n",
              "      <td>...</td>\n",
              "      <td>970.000000</td>\n",
              "      <td>2.000000</td>\n",
              "      <td>1.000000</td>\n",
              "      <td>1.000000</td>\n",
              "      <td>1.000000</td>\n",
              "      <td>3.000000</td>\n",
              "      <td>5178.000000</td>\n",
              "      <td>1.867715</td>\n",
              "      <td>3.788975e+11</td>\n",
              "      <td>13066.731701</td>\n",
              "    </tr>\n",
              "    <tr>\n",
              "      <th>max</th>\n",
              "      <td>1.0</td>\n",
              "      <td>61408.929761</td>\n",
              "      <td>61507.371480</td>\n",
              "      <td>61073.192884</td>\n",
              "      <td>5.185678e+10</td>\n",
              "      <td>1.140905e+12</td>\n",
              "      <td>10107.000000</td>\n",
              "      <td>4880.000000</td>\n",
              "      <td>500.000000</td>\n",
              "      <td>30559.000000</td>\n",
              "      <td>...</td>\n",
              "      <td>1490.000000</td>\n",
              "      <td>10.000000</td>\n",
              "      <td>2.000000</td>\n",
              "      <td>2.000000</td>\n",
              "      <td>12.000000</td>\n",
              "      <td>178.000000</td>\n",
              "      <td>140431.000000</td>\n",
              "      <td>34.932303</td>\n",
              "      <td>2.062215e+12</td>\n",
              "      <td>61259.670876</td>\n",
              "    </tr>\n",
              "  </tbody>\n",
              "</table>\n",
              "<p>8 rows × 48 columns</p>\n",
              "</div>\n",
              "      <button class=\"colab-df-convert\" onclick=\"convertToInteractive('df-0274216b-8a6c-42a1-a782-e24d36e1875d')\"\n",
              "              title=\"Convert this dataframe to an interactive table.\"\n",
              "              style=\"display:none;\">\n",
              "        \n",
              "  <svg xmlns=\"http://www.w3.org/2000/svg\" height=\"24px\"viewBox=\"0 0 24 24\"\n",
              "       width=\"24px\">\n",
              "    <path d=\"M0 0h24v24H0V0z\" fill=\"none\"/>\n",
              "    <path d=\"M18.56 5.44l.94 2.06.94-2.06 2.06-.94-2.06-.94-.94-2.06-.94 2.06-2.06.94zm-11 1L8.5 8.5l.94-2.06 2.06-.94-2.06-.94L8.5 2.5l-.94 2.06-2.06.94zm10 10l.94 2.06.94-2.06 2.06-.94-2.06-.94-.94-2.06-.94 2.06-2.06.94z\"/><path d=\"M17.41 7.96l-1.37-1.37c-.4-.4-.92-.59-1.43-.59-.52 0-1.04.2-1.43.59L10.3 9.45l-7.72 7.72c-.78.78-.78 2.05 0 2.83L4 21.41c.39.39.9.59 1.41.59.51 0 1.02-.2 1.41-.59l7.78-7.78 2.81-2.81c.8-.78.8-2.07 0-2.86zM5.41 20L4 18.59l7.72-7.72 1.47 1.35L5.41 20z\"/>\n",
              "  </svg>\n",
              "      </button>\n",
              "      \n",
              "  <style>\n",
              "    .colab-df-container {\n",
              "      display:flex;\n",
              "      flex-wrap:wrap;\n",
              "      gap: 12px;\n",
              "    }\n",
              "\n",
              "    .colab-df-convert {\n",
              "      background-color: #E8F0FE;\n",
              "      border: none;\n",
              "      border-radius: 50%;\n",
              "      cursor: pointer;\n",
              "      display: none;\n",
              "      fill: #1967D2;\n",
              "      height: 32px;\n",
              "      padding: 0 0 0 0;\n",
              "      width: 32px;\n",
              "    }\n",
              "\n",
              "    .colab-df-convert:hover {\n",
              "      background-color: #E2EBFA;\n",
              "      box-shadow: 0px 1px 2px rgba(60, 64, 67, 0.3), 0px 1px 3px 1px rgba(60, 64, 67, 0.15);\n",
              "      fill: #174EA6;\n",
              "    }\n",
              "\n",
              "    [theme=dark] .colab-df-convert {\n",
              "      background-color: #3B4455;\n",
              "      fill: #D2E3FC;\n",
              "    }\n",
              "\n",
              "    [theme=dark] .colab-df-convert:hover {\n",
              "      background-color: #434B5C;\n",
              "      box-shadow: 0px 1px 3px 1px rgba(0, 0, 0, 0.15);\n",
              "      filter: drop-shadow(0px 1px 2px rgba(0, 0, 0, 0.3));\n",
              "      fill: #FFFFFF;\n",
              "    }\n",
              "  </style>\n",
              "\n",
              "      <script>\n",
              "        const buttonEl =\n",
              "          document.querySelector('#df-0274216b-8a6c-42a1-a782-e24d36e1875d button.colab-df-convert');\n",
              "        buttonEl.style.display =\n",
              "          google.colab.kernel.accessAllowed ? 'block' : 'none';\n",
              "\n",
              "        async function convertToInteractive(key) {\n",
              "          const element = document.querySelector('#df-0274216b-8a6c-42a1-a782-e24d36e1875d');\n",
              "          const dataTable =\n",
              "            await google.colab.kernel.invokeFunction('convertToInteractive',\n",
              "                                                     [key], {});\n",
              "          if (!dataTable) return;\n",
              "\n",
              "          const docLinkHtml = 'Like what you see? Visit the ' +\n",
              "            '<a target=\"_blank\" href=https://colab.research.google.com/notebooks/data_table.ipynb>data table notebook</a>'\n",
              "            + ' to learn more about interactive tables.';\n",
              "          element.innerHTML = '';\n",
              "          dataTable['output_type'] = 'display_data';\n",
              "          await google.colab.output.renderOutput(dataTable, element);\n",
              "          const docLink = document.createElement('div');\n",
              "          docLink.innerHTML = docLinkHtml;\n",
              "          element.appendChild(docLink);\n",
              "        }\n",
              "      </script>\n",
              "    </div>\n",
              "  </div>\n",
              "  "
            ]
          },
          "metadata": {},
          "execution_count": 3
        }
      ]
    },
    {
      "cell_type": "code",
      "source": [
        "df.info()"
      ],
      "metadata": {
        "colab": {
          "base_uri": "https://localhost:8080/"
        },
        "id": "t6q6d9ItBKeX",
        "outputId": "45d9b5aa-6c82-44a9-f7ce-dacb7ba633aa"
      },
      "execution_count": 4,
      "outputs": [
        {
          "output_type": "stream",
          "name": "stdout",
          "text": [
            "<class 'pandas.core.frame.DataFrame'>\n",
            "RangeIndex: 12632 entries, 0 to 12631\n",
            "Data columns (total 49 columns):\n",
            " #   Column                   Non-Null Count  Dtype  \n",
            "---  ------                   --------------  -----  \n",
            " 0   id                       12632 non-null  object \n",
            " 1   asset_id                 12632 non-null  int64  \n",
            " 2   open                     8617 non-null   float64\n",
            " 3   high                     8617 non-null   float64\n",
            " 4   low                      8617 non-null   float64\n",
            " 5   volume                   8605 non-null   float64\n",
            " 6   market_cap               8379 non-null   float64\n",
            " 7   url_shares               8575 non-null   float64\n",
            " 8   unique_url_shares        8575 non-null   float64\n",
            " 9   reddit_posts             12391 non-null  float64\n",
            " 10  reddit_posts_score       12391 non-null  float64\n",
            " 11  reddit_comments          12402 non-null  float64\n",
            " 12  reddit_comments_score    12402 non-null  float64\n",
            " 13  tweets                   8584 non-null   float64\n",
            " 14  tweet_spam               8584 non-null   float64\n",
            " 15  tweet_followers          8574 non-null   float64\n",
            " 16  tweet_quotes             8574 non-null   float64\n",
            " 17  tweet_retweets           8574 non-null   float64\n",
            " 18  tweet_replies            8574 non-null   float64\n",
            " 19  tweet_favorites          8574 non-null   float64\n",
            " 20  tweet_sentiment1         8584 non-null   float64\n",
            " 21  tweet_sentiment2         8584 non-null   float64\n",
            " 22  tweet_sentiment3         8584 non-null   float64\n",
            " 23  tweet_sentiment4         8584 non-null   float64\n",
            " 24  tweet_sentiment5         8584 non-null   float64\n",
            " 25  tweet_sentiment_impact1  8584 non-null   float64\n",
            " 26  tweet_sentiment_impact2  8584 non-null   float64\n",
            " 27  tweet_sentiment_impact3  8584 non-null   float64\n",
            " 28  tweet_sentiment_impact4  8584 non-null   float64\n",
            " 29  tweet_sentiment_impact5  8584 non-null   float64\n",
            " 30  social_score             8584 non-null   float64\n",
            " 31  average_sentiment        8584 non-null   float64\n",
            " 32  news                     8556 non-null   float64\n",
            " 33  price_score              8584 non-null   float64\n",
            " 34  social_impact_score      8584 non-null   float64\n",
            " 35  correlation_rank         8584 non-null   float64\n",
            " 36  galaxy_score             8584 non-null   float64\n",
            " 37  volatility               8546 non-null   float64\n",
            " 38  market_cap_rank          8314 non-null   float64\n",
            " 39  percent_change_24h_rank  8107 non-null   float64\n",
            " 40  volume_24h_rank          8107 non-null   float64\n",
            " 41  social_volume_24h_rank   8107 non-null   float64\n",
            " 42  social_score_24h_rank    8107 non-null   float64\n",
            " 43  medium                   2950 non-null   float64\n",
            " 44  youtube                  4786 non-null   float64\n",
            " 45  social_volume            12632 non-null  int64  \n",
            " 46  percent_change_24h       8313 non-null   float64\n",
            " 47  market_cap_global        8351 non-null   float64\n",
            " 48  close                    8617 non-null   float64\n",
            "dtypes: float64(46), int64(2), object(1)\n",
            "memory usage: 4.7+ MB\n"
          ]
        }
      ]
    },
    {
      "cell_type": "code",
      "source": [
        "ax = df.isna().sum().sort_values().plot(kind = 'barh', figsize = (9, 10))"
      ],
      "metadata": {
        "colab": {
          "base_uri": "https://localhost:8080/",
          "height": 592
        },
        "id": "2CmZ0kOMBVNn",
        "outputId": "0c09e816-ae83-4717-ce7b-f34a7284e82e"
      },
      "execution_count": 5,
      "outputs": [
        {
          "output_type": "display_data",
          "data": {
            "text/plain": [
              "<Figure size 648x720 with 1 Axes>"
            ],
            "image/png": "[encoded data removed]"
          },
          "metadata": {
            "needs_background": "light"
          }
        }
      ]
    },
    {
      "cell_type": "code",
      "source": [
        "df['social_score_24h_rank'].unique()"
      ],
      "metadata": {
        "colab": {
          "base_uri": "https://localhost:8080/"
        },
        "id": "P30axbbcBflR",
        "outputId": "d0ed0b62-35db-4b99-9501-5cd99200a586"
      },
      "execution_count": 6,
      "outputs": [
        {
          "output_type": "execute_result",
          "data": {
            "text/plain": [
              "array([ 1., nan,  2.])"
            ]
          },
          "metadata": {},
          "execution_count": 6
        }
      ]
    },
    {
      "cell_type": "code",
      "source": [
        "cat_cols = list()\n",
        "num_cols = list()\n",
        "for col in df.columns:\n",
        "    if df[col].nunique() < 10: #wide guess\n",
        "        cat_cols.append(col)\n",
        "    else:\n",
        "        num_cols.append(col)\n",
        "cat_cols"
      ],
      "metadata": {
        "colab": {
          "base_uri": "https://localhost:8080/"
        },
        "id": "lKtROY4uBpIb",
        "outputId": "067e5223-f6bd-44ff-fedc-59280e953f4d"
      },
      "execution_count": 7,
      "outputs": [
        {
          "output_type": "execute_result",
          "data": {
            "text/plain": [
              "['asset_id',\n",
              " 'market_cap_rank',\n",
              " 'volume_24h_rank',\n",
              " 'social_volume_24h_rank',\n",
              " 'social_score_24h_rank']"
            ]
          },
          "metadata": {},
          "execution_count": 7
        }
      ]
    },
    {
      "cell_type": "code",
      "source": [
        "def frequency_encoding(df, col):\n",
        "    fe = df.groupby(col).size()/len(df)\n",
        "    df[col+\"_encoded\"] = df[col].map(fe)\n",
        "    return df\n",
        "new_train = frequency_encoding(df, 'asset_id')\n",
        "new_train = frequency_encoding(new_train, 'market_cap_rank')\n",
        "new_train = frequency_encoding(new_train, 'social_volume_24h_rank')\n",
        "new_train = frequency_encoding(new_train, 'social_score_24h_rank')"
      ],
      "metadata": {
        "id": "aT-rj3iGBzv6"
      },
      "execution_count": 8,
      "outputs": []
    },
    {
      "cell_type": "code",
      "source": [
        "new_train = new_train.drop(columns=['medium', 'youtube'], axis=1)\n",
        "train_data = new_train.interpolate(method ='linear', limit_direction ='forward') \n",
        "train_data.head(2)"
      ],
      "metadata": {
        "colab": {
          "base_uri": "https://localhost:8080/",
          "height": 206
        },
        "id": "gmXnQX9AB8As",
        "outputId": "be792743-7e2c-4e26-9804-3429331f33a2"
      },
      "execution_count": 9,
      "outputs": [
        {
          "output_type": "execute_result",
          "data": {
            "text/plain": [
              "          id  asset_id         open         high          low       volume  \\\n",
              "0  ID_322qz6         1  9422.849081  9428.490628  9422.849081  713198620.0   \n",
              "1  ID_3239o9         1  7985.359278  7992.059917  7967.567267  400475518.0   \n",
              "\n",
              "     market_cap  url_shares  unique_url_shares  reddit_posts  ...  \\\n",
              "0  1.737635e+11      1689.0              817.0          55.0  ...   \n",
              "1  1.426942e+11       920.0              544.0          20.0  ...   \n",
              "\n",
              "   social_volume_24h_rank  social_score_24h_rank  social_volume  \\\n",
              "0                     1.0                    1.0           4422   \n",
              "1                     1.0                    1.0           2159   \n",
              "\n",
              "   percent_change_24h  market_cap_global        close  asset_id_encoded  \\\n",
              "0            1.434516       2.818066e+11  9428.279323               1.0   \n",
              "1           -2.459507       2.126897e+11  7967.567267               1.0   \n",
              "\n",
              "   market_cap_rank_encoded  social_volume_24h_rank_encoded  \\\n",
              "0                 0.657774                         0.62975   \n",
              "1                 0.657774                         0.62975   \n",
              "\n",
              "   social_score_24h_rank_encoded  \n",
              "0                       0.637983  \n",
              "1                       0.637983  \n",
              "\n",
              "[2 rows x 51 columns]"
            ],
            "text/html": [
              "\n",
              "  <div id=\"df-3e32b0e0-47b7-4b90-b98b-ebc6e88e3f13\">\n",
              "    <div class=\"colab-df-container\">\n",
              "      <div>\n",
              "<style scoped>\n",
              "    .dataframe tbody tr th:only-of-type {\n",
              "        vertical-align: middle;\n",
              "    }\n",
              "\n",
              "    .dataframe tbody tr th {\n",
              "        vertical-align: top;\n",
              "    }\n",
              "\n",
              "    .dataframe thead th {\n",
              "        text-align: right;\n",
              "    }\n",
              "</style>\n",
              "<table border=\"1\" class=\"dataframe\">\n",
              "  <thead>\n",
              "    <tr style=\"text-align: right;\">\n",
              "      <th></th>\n",
              "      <th>id</th>\n",
              "      <th>asset_id</th>\n",
              "      <th>open</th>\n",
              "      <th>high</th>\n",
              "      <th>low</th>\n",
              "      <th>volume</th>\n",
              "      <th>market_cap</th>\n",
              "      <th>url_shares</th>\n",
              "      <th>unique_url_shares</th>\n",
              "      <th>reddit_posts</th>\n",
              "      <th>...</th>\n",
              "      <th>social_volume_24h_rank</th>\n",
              "      <th>social_score_24h_rank</th>\n",
              "      <th>social_volume</th>\n",
              "      <th>percent_change_24h</th>\n",
              "      <th>market_cap_global</th>\n",
              "      <th>close</th>\n",
              "      <th>asset_id_encoded</th>\n",
              "      <th>market_cap_rank_encoded</th>\n",
              "      <th>social_volume_24h_rank_encoded</th>\n",
              "      <th>social_score_24h_rank_encoded</th>\n",
              "    </tr>\n",
              "  </thead>\n",
              "  <tbody>\n",
              "    <tr>\n",
              "      <th>0</th>\n",
              "      <td>ID_322qz6</td>\n",
              "      <td>1</td>\n",
              "      <td>9422.849081</td>\n",
              "      <td>9428.490628</td>\n",
              "      <td>9422.849081</td>\n",
              "      <td>713198620.0</td>\n",
              "      <td>1.737635e+11</td>\n",
              "      <td>1689.0</td>\n",
              "      <td>817.0</td>\n",
              "      <td>55.0</td>\n",
              "      <td>...</td>\n",
              "      <td>1.0</td>\n",
              "      <td>1.0</td>\n",
              "      <td>4422</td>\n",
              "      <td>1.434516</td>\n",
              "      <td>2.818066e+11</td>\n",
              "      <td>9428.279323</td>\n",
              "      <td>1.0</td>\n",
              "      <td>0.657774</td>\n",
              "      <td>0.62975</td>\n",
              "      <td>0.637983</td>\n",
              "    </tr>\n",
              "    <tr>\n",
              "      <th>1</th>\n",
              "      <td>ID_3239o9</td>\n",
              "      <td>1</td>\n",
              "      <td>7985.359278</td>\n",
              "      <td>7992.059917</td>\n",
              "      <td>7967.567267</td>\n",
              "      <td>400475518.0</td>\n",
              "      <td>1.426942e+11</td>\n",
              "      <td>920.0</td>\n",
              "      <td>544.0</td>\n",
              "      <td>20.0</td>\n",
              "      <td>...</td>\n",
              "      <td>1.0</td>\n",
              "      <td>1.0</td>\n",
              "      <td>2159</td>\n",
              "      <td>-2.459507</td>\n",
              "      <td>2.126897e+11</td>\n",
              "      <td>7967.567267</td>\n",
              "      <td>1.0</td>\n",
              "      <td>0.657774</td>\n",
              "      <td>0.62975</td>\n",
              "      <td>0.637983</td>\n",
              "    </tr>\n",
              "  </tbody>\n",
              "</table>\n",
              "<p>2 rows × 51 columns</p>\n",
              "</div>\n",
              "      <button class=\"colab-df-convert\" onclick=\"convertToInteractive('df-3e32b0e0-47b7-4b90-b98b-ebc6e88e3f13')\"\n",
              "              title=\"Convert this dataframe to an interactive table.\"\n",
              "              style=\"display:none;\">\n",
              "        \n",
              "  <svg xmlns=\"http://www.w3.org/2000/svg\" height=\"24px\"viewBox=\"0 0 24 24\"\n",
              "       width=\"24px\">\n",
              "    <path d=\"M0 0h24v24H0V0z\" fill=\"none\"/>\n",
              "    <path d=\"M18.56 5.44l.94 2.06.94-2.06 2.06-.94-2.06-.94-.94-2.06-.94 2.06-2.06.94zm-11 1L8.5 8.5l.94-2.06 2.06-.94-2.06-.94L8.5 2.5l-.94 2.06-2.06.94zm10 10l.94 2.06.94-2.06 2.06-.94-2.06-.94-.94-2.06-.94 2.06-2.06.94z\"/><path d=\"M17.41 7.96l-1.37-1.37c-.4-.4-.92-.59-1.43-.59-.52 0-1.04.2-1.43.59L10.3 9.45l-7.72 7.72c-.78.78-.78 2.05 0 2.83L4 21.41c.39.39.9.59 1.41.59.51 0 1.02-.2 1.41-.59l7.78-7.78 2.81-2.81c.8-.78.8-2.07 0-2.86zM5.41 20L4 18.59l7.72-7.72 1.47 1.35L5.41 20z\"/>\n",
              "  </svg>\n",
              "      </button>\n",
              "      \n",
              "  <style>\n",
              "    .colab-df-container {\n",
              "      display:flex;\n",
              "      flex-wrap:wrap;\n",
              "      gap: 12px;\n",
              "    }\n",
              "\n",
              "    .colab-df-convert {\n",
              "      background-color: #E8F0FE;\n",
              "      border: none;\n",
              "      border-radius: 50%;\n",
              "      cursor: pointer;\n",
              "      display: none;\n",
              "      fill: #1967D2;\n",
              "      height: 32px;\n",
              "      padding: 0 0 0 0;\n",
              "      width: 32px;\n",
              "    }\n",
              "\n",
              "    .colab-df-convert:hover {\n",
              "      background-color: #E2EBFA;\n",
              "      box-shadow: 0px 1px 2px rgba(60, 64, 67, 0.3), 0px 1px 3px 1px rgba(60, 64, 67, 0.15);\n",
              "      fill: #174EA6;\n",
              "    }\n",
              "\n",
              "    [theme=dark] .colab-df-convert {\n",
              "      background-color: #3B4455;\n",
              "      fill: #D2E3FC;\n",
              "    }\n",
              "\n",
              "    [theme=dark] .colab-df-convert:hover {\n",
              "      background-color: #434B5C;\n",
              "      box-shadow: 0px 1px 3px 1px rgba(0, 0, 0, 0.15);\n",
              "      filter: drop-shadow(0px 1px 2px rgba(0, 0, 0, 0.3));\n",
              "      fill: #FFFFFF;\n",
              "    }\n",
              "  </style>\n",
              "\n",
              "      <script>\n",
              "        const buttonEl =\n",
              "          document.querySelector('#df-3e32b0e0-47b7-4b90-b98b-ebc6e88e3f13 button.colab-df-convert');\n",
              "        buttonEl.style.display =\n",
              "          google.colab.kernel.accessAllowed ? 'block' : 'none';\n",
              "\n",
              "        async function convertToInteractive(key) {\n",
              "          const element = document.querySelector('#df-3e32b0e0-47b7-4b90-b98b-ebc6e88e3f13');\n",
              "          const dataTable =\n",
              "            await google.colab.kernel.invokeFunction('convertToInteractive',\n",
              "                                                     [key], {});\n",
              "          if (!dataTable) return;\n",
              "\n",
              "          const docLinkHtml = 'Like what you see? Visit the ' +\n",
              "            '<a target=\"_blank\" href=https://colab.research.google.com/notebooks/data_table.ipynb>data table notebook</a>'\n",
              "            + ' to learn more about interactive tables.';\n",
              "          element.innerHTML = '';\n",
              "          dataTable['output_type'] = 'display_data';\n",
              "          await google.colab.output.renderOutput(dataTable, element);\n",
              "          const docLink = document.createElement('div');\n",
              "          docLink.innerHTML = docLinkHtml;\n",
              "          element.appendChild(docLink);\n",
              "        }\n",
              "      </script>\n",
              "    </div>\n",
              "  </div>\n",
              "  "
            ]
          },
          "metadata": {},
          "execution_count": 9
        }
      ]
    },
    {
      "cell_type": "code",
      "source": [
        "train_data.isna().sum().sort_values().plot(kind = 'barh', figsize = (9, 10))"
      ],
      "metadata": {
        "colab": {
          "base_uri": "https://localhost:8080/",
          "height": 609
        },
        "id": "jHSjv-GdCM1S",
        "outputId": "d45f824b-8bb0-4fd6-a91a-9267ab47ce44"
      },
      "execution_count": 10,
      "outputs": [
        {
          "output_type": "execute_result",
          "data": {
            "text/plain": [
              "<matplotlib.axes._subplots.AxesSubplot at 0x7fbbbb7c31d0>"
            ]
          },
          "metadata": {},
          "execution_count": 10
        },
        {
          "output_type": "display_data",
          "data": {
            "text/plain": [
              "<Figure size 648x720 with 1 Axes>"
            ],
            "image/png": "[encoded data removed]"
          },
          "metadata": {
            "needs_background": "light"
          }
        }
      ]
    },
    {
      "cell_type": "code",
      "source": [
        "train_data.isna().sum().sort_values().plot(kind = 'barh', figsize = (9, 10))"
      ],
      "metadata": {
        "colab": {
          "base_uri": "https://localhost:8080/",
          "height": 609
        },
        "id": "ky_-IosHCU1h",
        "outputId": "c219c11a-e9cb-434f-940a-3263e08e71c4"
      },
      "execution_count": 11,
      "outputs": [
        {
          "output_type": "execute_result",
          "data": {
            "text/plain": [
              "<matplotlib.axes._subplots.AxesSubplot at 0x7fbbbb5d4050>"
            ]
          },
          "metadata": {},
          "execution_count": 11
        },
        {
          "output_type": "display_data",
          "data": {
            "text/plain": [
              "<Figure size 648x720 with 1 Axes>"
            ],
            "image/png": "[encoded data removed]"
          },
          "metadata": {
            "needs_background": "light"
          }
        }
      ]
    },
    {
      "cell_type": "code",
      "source": [
        "train_data = train_data.drop(columns=['id'], axis=1)\n",
        "X_new = train_data.drop(columns = ['close'], axis=1)\n",
        "y_new = train_data['close']"
      ],
      "metadata": {
        "id": "3n1s9GO2CbX6"
      },
      "execution_count": 12,
      "outputs": []
    },
    {
      "cell_type": "code",
      "source": [
        "SEED = 2021\n",
        "\n",
        "models = []\n",
        "models.append(('Linear_Regression', LinearRegression()))\n",
        "models.append((\"Random_Forest\", RandomForestRegressor()))\n",
        "\n",
        "results = []\n",
        "names = []\n",
        "scoring = 'neg_mean_squared_error'\n",
        "for name, model in models:\n",
        "    kfold = KFold(n_splits=10)\n",
        "    cv_results = -(cross_val_score(model, X_new, y_new, cv=kfold, scoring=scoring))\n",
        "    results.append(cv_results)\n",
        "    names.append(name)\n",
        "    msg = \"%s: %f (%f)\" % (name, cv_results.mean(), cv_results.std())\n",
        "    print(msg)"
      ],
      "metadata": {
        "colab": {
          "base_uri": "https://localhost:8080/"
        },
        "id": "lVu9VMBBCj9U",
        "outputId": "e5527242-aa47-4350-9966-8bea6a407669"
      },
      "execution_count": 13,
      "outputs": [
        {
          "output_type": "stream",
          "name": "stdout",
          "text": [
            "Linear_Regression: 4915.899478 (3361.335390)\n",
            "Random_Forest: 5151.232001 (1197.854317)\n"
          ]
        }
      ]
    },
    {
      "cell_type": "code",
      "source": [
        "X_train, X_test, y_train,y_test = train_test_split(X_new, y_new, test_size=0.3, random_state=42)"
      ],
      "metadata": {
        "id": "t2ncGVbbCxRg"
      },
      "execution_count": 14,
      "outputs": []
    },
    {
      "cell_type": "code",
      "source": [
        "model = LinearRegression()\n",
        "model.fit(X_train,y_train)\n",
        "predictions = model.predict(X_test)\n",
        "test_score = mean_squared_error(predictions, y_test)\n",
        "test_score"
      ],
      "metadata": {
        "colab": {
          "base_uri": "https://localhost:8080/"
        },
        "id": "7VDLNq6bDMMh",
        "outputId": "431be651-be4d-4b93-a1c3-67abe635ecae"
      },
      "execution_count": 15,
      "outputs": [
        {
          "output_type": "execute_result",
          "data": {
            "text/plain": [
              "5244.864849132938"
            ]
          },
          "metadata": {},
          "execution_count": 15
        }
      ]
    },
    {
      "cell_type": "code",
      "source": [
        "df_corr = train_data.corr()\n",
        "\n",
        "cor_target = abs(df_corr[\"close\"])\n",
        "\n",
        "relevant_features = cor_target[cor_target>0.5]\n",
        "relevant_features"
      ],
      "metadata": {
        "colab": {
          "base_uri": "https://localhost:8080/"
        },
        "id": "JiPivuzdDbib",
        "outputId": "fe0fa904-93f8-4a64-b939-2593540edd41"
      },
      "execution_count": 16,
      "outputs": [
        {
          "output_type": "execute_result",
          "data": {
            "text/plain": [
              "open                       0.999937\n",
              "high                       0.999970\n",
              "low                        0.999954\n",
              "market_cap                 0.986546\n",
              "url_shares                 0.563030\n",
              "unique_url_shares          0.526623\n",
              "tweets                     0.596796\n",
              "tweet_spam                 0.754101\n",
              "tweet_followers            0.594067\n",
              "tweet_sentiment1           0.528396\n",
              "tweet_sentiment2           0.698072\n",
              "tweet_sentiment4           0.573454\n",
              "tweet_sentiment_impact2    0.510189\n",
              "tweet_sentiment_impact5    0.563018\n",
              "social_score               0.570117\n",
              "volume_24h_rank            0.776063\n",
              "market_cap_global          0.984435\n",
              "close                      1.000000\n",
              "Name: close, dtype: float64"
            ]
          },
          "metadata": {},
          "execution_count": 16
        }
      ]
    },
    {
      "cell_type": "code",
      "source": [
        "y_test.head(2)"
      ],
      "metadata": {
        "colab": {
          "base_uri": "https://localhost:8080/"
        },
        "id": "xcc7Cfk_DlYG",
        "outputId": "ed2253a8-c4df-4fdc-a7ed-a5abd4125204"
      },
      "execution_count": 17,
      "outputs": [
        {
          "output_type": "execute_result",
          "data": {
            "text/plain": [
              "10376    11747.456559\n",
              "12192     7079.549174\n",
              "Name: close, dtype: float64"
            ]
          },
          "metadata": {},
          "execution_count": 17
        }
      ]
    }
  ]
}